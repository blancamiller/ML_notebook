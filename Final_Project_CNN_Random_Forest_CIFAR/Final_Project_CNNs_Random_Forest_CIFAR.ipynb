{
 "cells": [
  {
   "cell_type": "markdown",
   "metadata": {},
   "source": [
    "## Final Project: Convolutional Neural Nets & Random Foresrs for CIFAR-10 Classification"
   ]
  },
  {
   "cell_type": "markdown",
   "metadata": {},
   "source": [
    "Blanca Miller\n",
    "STAT 760\n",
    "05.10.2018"
   ]
  },
  {
   "cell_type": "markdown",
   "metadata": {},
   "source": [
    "__Objective:__ Train a CNN to classify the CIFAR data set composed of images with 10 possible classes: airplane, automobile, bird, cat, deer, dog, frog, horse, ship, truck. That is, train a CNN to learn the values of the filters that produce its feature map, the output matrix containing the reduced image.  \n",
    "       \n",
    "__4 Main Operations for a CNN:__\n",
    "1. Convolution: traverse input images with filter to extract features \n",
    "2. Non-Linearity (ReLU): \n",
    "3. Pooling & Subsampling: \n",
    "4. Classification (fully connected layer):\n",
    "\n",
    "__Filter Characterization to Define:__ \n",
    "- Depth: the number of filters used for the convolution; a higher number of filters extracts a higher number of features \n",
    "- Filter size: the size of the filter matrix, e.g. 2x2, 3x3 ...etc.\n",
    "- Stride: the rate at which the filter traverses the input images\n",
    "\n",
    "__Network Architecture:__\n",
    "- Ordering of the Layers\n",
    "- Sizes of Layers\n",
    "- Presence or Abscence of ReLU\n",
    "- Use of dropout\n",
    "- Use of batch normalization \n",
    "- Use of activation\n",
    "\n",
    "       \n",
    "Then, use a random forest to at the end.\n",
    "\n",
    "Lastly, compare the effectiveness of the two approaches. \n",
    "        \n",
    "__CIFAR Data Set:__ Learning Multiple Layers of Features from Tiny Images, Alex Krizhevsky, 2009.\n",
    "\n",
    "References: https://ujjwalkarn.me/2016/08/11/intuitive-explanation-convnets/"
   ]
  },
  {
   "cell_type": "markdown",
   "metadata": {},
   "source": [
    "### Import Libraries"
   ]
  },
  {
   "cell_type": "code",
   "execution_count": 1,
   "metadata": {},
   "outputs": [],
   "source": [
    "import os\n",
    "import sklearn\n",
    "import numpy as np\n",
    "import pandas as pd\n",
    "import torch \n",
    "import torchvision \n",
    "import torchvision.datasets as datasets"
   ]
  },
  {
   "cell_type": "markdown",
   "metadata": {},
   "source": [
    "### Import CIFAR-10 Dataset"
   ]
  },
  {
   "cell_type": "code",
   "execution_count": 2,
   "metadata": {},
   "outputs": [
    {
     "name": "stdout",
     "output_type": "stream",
     "text": [
      "Downloading https://www.cs.toronto.edu/~kriz/cifar-10-python.tar.gz to ./data/cifar-10-python.tar.gz\n"
     ]
    }
   ],
   "source": [
    "cifar_trainset = datasets.CIFAR10(root='./data', train=True, download=True, transform=None)"
   ]
  },
  {
   "cell_type": "code",
   "execution_count": 4,
   "metadata": {},
   "outputs": [
    {
     "name": "stdout",
     "output_type": "stream",
     "text": [
      "Files already downloaded and verified\n"
     ]
    }
   ],
   "source": [
    "cifar_testset = datasets.CIFAR10(root='./data', train=False, download=True, transform=None)"
   ]
  },
  {
   "cell_type": "code",
   "execution_count": 8,
   "metadata": {},
   "outputs": [
    {
     "name": "stdout",
     "output_type": "stream",
     "text": [
      "Dataset CIFAR10\n",
      "    Number of datapoints: 50000\n",
      "    Split: train\n",
      "    Root Location: ./data\n",
      "    Transforms (if any): None\n",
      "    Target Transforms (if any): None\n"
     ]
    }
   ],
   "source": [
    "print(cifar_trainset)"
   ]
  },
  {
   "cell_type": "code",
   "execution_count": null,
   "metadata": {},
   "outputs": [],
   "source": []
  }
 ],
 "metadata": {
  "kernelspec": {
   "display_name": "Python 2",
   "language": "python",
   "name": "python2"
  },
  "language_info": {
   "codemirror_mode": {
    "name": "ipython",
    "version": 2
   },
   "file_extension": ".py",
   "mimetype": "text/x-python",
   "name": "python",
   "nbconvert_exporter": "python",
   "pygments_lexer": "ipython2",
   "version": "2.7.14"
  }
 },
 "nbformat": 4,
 "nbformat_minor": 2
}
