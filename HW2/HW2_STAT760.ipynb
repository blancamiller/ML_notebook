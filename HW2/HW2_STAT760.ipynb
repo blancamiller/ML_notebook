{
 "cells": [
  {
   "cell_type": "markdown",
   "metadata": {},
   "source": [
    "# HW 2: Apply Linear Regression to Construct a Prostate Cancer Model & Digits Data Model"
   ]
  },
  {
   "cell_type": "markdown",
   "metadata": {},
   "source": [
    "Blanca Miller\n",
    "<br>\n",
    "STAT 760\n",
    "<br>\n",
    "02/06/2018\n",
    "\n",
    "Prostrate Data Info: http://web.stanford.edu/~hastie/ElemStatLearn/datasets/prostate.info.txt \n",
    "<br>\n",
    "Data Set: http://web.stanford.edu/~hastie/ElemStatLearn/datasets/prostate.data\n",
    "\n",
    "Given a training set of prostate cancer linear data, estimate the model parameters using subset selection. \n",
    "\n",
    "## STEPS\n",
    "1. import data\n",
    "2. break data into two groups: train and test\n",
    "3. break the training set into two matrices\n",
    "    - X : design matrix (add column of 1s at beginning)\n",
    "    - y : vector of responses\n",
    "4. convert the X and y data frames into numpy arrays\n",
    "5. standardize the predictors to have unit variance\n",
    "6. estimate weights\n",
    "7. calculate RSS for training set for all possible models\n",
    "8. Graph k by RSS\n",
    "\n",
    "\n",
    "## FUNCTIONS\n",
    "- Fxn evaluates RSS for given X, y, beta\n",
    "- Fxn trains models given list of columns\n",
    "- Fxn generates all possible list of columns\n",
    "- Fxn plot dictionary"
   ]
  },
  {
   "cell_type": "markdown",
   "metadata": {},
   "source": [
    "## Imports"
   ]
  },
  {
   "cell_type": "code",
   "execution_count": 1,
   "metadata": {
    "collapsed": true
   },
   "outputs": [],
   "source": [
    "import numpy as np\n",
    "import pandas as pd\n",
    "import itertools\n",
    "import matplotlib.pyplot as plt\n",
    "from sklearn import linear_model\n",
    "from sklearn import datasets\n",
    "from sklearn.model_selection import train_test_split"
   ]
  },
  {
   "cell_type": "markdown",
   "metadata": {},
   "source": [
    "## Load Data"
   ]
  },
  {
   "cell_type": "code",
   "execution_count": 2,
   "metadata": {
    "collapsed": true
   },
   "outputs": [],
   "source": [
    "data = pd.read_csv('prostate.data', delimiter='\\t')"
   ]
  },
  {
   "cell_type": "code",
   "execution_count": 3,
   "metadata": {},
   "outputs": [
    {
     "name": "stdout",
     "output_type": "stream",
     "text": [
      "   Unnamed: 0    lcavol   lweight  age      lbph  svi       lcp  gleason  \\\n",
      "0           1 -0.579818  2.769459   50 -1.386294    0 -1.386294        6   \n",
      "1           2 -0.994252  3.319626   58 -1.386294    0 -1.386294        6   \n",
      "2           3 -0.510826  2.691243   74 -1.386294    0 -1.386294        7   \n",
      "3           4 -1.203973  3.282789   58 -1.386294    0 -1.386294        6   \n",
      "4           5  0.751416  3.432373   62 -1.386294    0 -1.386294        6   \n",
      "5           6 -1.049822  3.228826   50 -1.386294    0 -1.386294        6   \n",
      "6           7  0.737164  3.473518   64  0.615186    0 -1.386294        6   \n",
      "7           8  0.693147  3.539509   58  1.536867    0 -1.386294        6   \n",
      "8           9 -0.776529  3.539509   47 -1.386294    0 -1.386294        6   \n",
      "9          10  0.223144  3.244544   63 -1.386294    0 -1.386294        6   \n",
      "\n",
      "   pgg45      lpsa train  \n",
      "0      0 -0.430783     T  \n",
      "1      0 -0.162519     T  \n",
      "2     20 -0.162519     T  \n",
      "3      0 -0.162519     T  \n",
      "4      0  0.371564     T  \n",
      "5      0  0.765468     T  \n",
      "6      0  0.765468     F  \n",
      "7      0  0.854415     T  \n",
      "8      0  1.047319     F  \n",
      "9      0  1.047319     F  \n"
     ]
    }
   ],
   "source": [
    "print(data[0:10])"
   ]
  },
  {
   "cell_type": "markdown",
   "metadata": {},
   "source": [
    "## Functions"
   ]
  },
  {
   "cell_type": "code",
   "execution_count": 4,
   "metadata": {
    "collapsed": true
   },
   "outputs": [],
   "source": [
    "#evaluates RSS for given X, y, beta\n",
    "def evaluateRSS(df, predictor_subset, beta):\n",
    "    \n",
    "    # generate predictor df\n",
    "    predictor_df = df[predictor_subset]\n",
    "    \n",
    "    # generate response df\n",
    "    response_df = df[\"lpsa\"]\n",
    "    \n",
    "    # convert predictor df to ndarray\n",
    "    predictor_matrix = predictor_df.as_matrix()\n",
    "    \n",
    "    # normalize predictors\n",
    "    predictor_matrix = (predictor_matrix - np.mean(predictor_matrix, axis=0))/np.std(predictor_matrix, axis=0)\n",
    "\n",
    "    # adds constant term 1s to predictor matrix\n",
    "    predictor_matrix = np.c_[np.ones(len(predictor_matrix)), predictor_matrix]\n",
    "    \n",
    "    # convert response df to ndarray\n",
    "    response_matrix = response_df.as_matrix()\n",
    "    \n",
    "    # compute error\n",
    "    e = response_matrix - np.dot(predictor_matrix, beta)\n",
    "    \n",
    "    # return error\n",
    "    return np.dot(e,e)"
   ]
  },
  {
   "cell_type": "code",
   "execution_count": 5,
   "metadata": {
    "collapsed": true
   },
   "outputs": [],
   "source": [
    "# train model given a list of columns\n",
    "def train(df, predictors_subset):\n",
    "    \n",
    "    # generate predictor df\n",
    "    predictor_df = df[predictors_subset]\n",
    "    \n",
    "    # generate response df\n",
    "    response_df = df[\"lpsa\"]\n",
    "    \n",
    "    # convert predictor df to ndarray\n",
    "    predictor_matrix = predictor_df.as_matrix()\n",
    "    \n",
    "    # normalize predictors\n",
    "    predictor_matrix = (predictor_matrix - np.mean(predictor_matrix, axis=0))/np.std(predictor_matrix, axis=0)\n",
    "\n",
    "    # adds constant term 1s to predictor matrix\n",
    "    predictor_matrix = np.c_[np.ones(len(predictor_matrix)), predictor_matrix]\n",
    "    \n",
    "    # convert response df to ndarray\n",
    "    response_matrix = response_df.as_matrix()\n",
    "    \n",
    "    # fit model by pinv:\n",
    "    # calculate psuedo-inverse\n",
    "    predictor_inverse = np.linalg.pinv(predictor_matrix)\n",
    "    \n",
    "    # multiply pseudo-inverse by response matrix\n",
    "    beta = np.dot(predictor_inverse, response_matrix)\n",
    "    \n",
    "    # return weights\n",
    "    return beta"
   ]
  },
  {
   "cell_type": "code",
   "execution_count": 6,
   "metadata": {
    "collapsed": true
   },
   "outputs": [],
   "source": [
    "# generates all possible list of columns \n",
    "def generate_columns(predictors):\n",
    "    \n",
    "    # return all possible subset of predictors - n choose k\n",
    "    n = len(predictors)\n",
    "    \n",
    "    subsets = []\n",
    "    \n",
    "    for k in range(1, n+1):\n",
    "        x = list(itertools.combinations(predictors, k))\n",
    "        x = [list(y) for y in x]\n",
    "        subsets += x \n",
    "        \n",
    "    return subsets"
   ]
  },
  {
   "cell_type": "code",
   "execution_count": 7,
   "metadata": {
    "collapsed": true
   },
   "outputs": [],
   "source": [
    "def plot(rss_dict):\n",
    "    \n",
    "    # plots subset by rss\n",
    "    fig = plt.figure()\n",
    "    ax = fig.add_subplot(1, 1, 1)\n",
    "    x = rss_dict[:,0]\n",
    "    y = rss_dict[:,1]\n",
    "    ax.scatter(x,y)\n",
    "    plt.show()"
   ]
  },
  {
   "cell_type": "markdown",
   "metadata": {},
   "source": [
    "## Part A: Prostate Cancer Model"
   ]
  },
  {
   "cell_type": "markdown",
   "metadata": {},
   "source": [
    "## Train Prostate Cancer Models"
   ]
  },
  {
   "cell_type": "code",
   "execution_count": 8,
   "metadata": {
    "collapsed": true
   },
   "outputs": [],
   "source": [
    "predictors = list(data.columns.values[1:9])"
   ]
  },
  {
   "cell_type": "code",
   "execution_count": 9,
   "metadata": {
    "collapsed": true
   },
   "outputs": [],
   "source": [
    "train_data = data[data.train == 'T']\n",
    "test_data = data[data.train == 'F']"
   ]
  },
  {
   "cell_type": "code",
   "execution_count": 10,
   "metadata": {},
   "outputs": [],
   "source": [
    "predictor_subsets = generate_columns(predictors)\n",
    "rss_values = {k:[] for k in range(1,9)}"
   ]
  },
  {
   "cell_type": "code",
   "execution_count": 11,
   "metadata": {
    "collapsed": true
   },
   "outputs": [],
   "source": [
    "for p in predictor_subsets:\n",
    "    beta = train(train_data, p)\n",
    "    rss = evaluateRSS(train_data, p, beta)\n",
    "    rss_values[len(p)].append(rss)"
   ]
  },
  {
   "cell_type": "code",
   "execution_count": 12,
   "metadata": {},
   "outputs": [
    {
     "data": {
      "text/plain": [
       "{1: [44.52858265645385,\n",
       "  73.613540185775349,\n",
       "  91.292039020755482,\n",
       "  89.624912082459502,\n",
       "  66.42240272124414,\n",
       "  73.239391316218757,\n",
       "  84.991790459378038,\n",
       "  76.953236677263277],\n",
       " 2: [37.091845632561338,\n",
       "  44.495642164067419,\n",
       "  39.992304351212333,\n",
       "  42.312584301379616,\n",
       "  44.467567998531834,\n",
       "  44.4240781492555,\n",
       "  43.423103787681718,\n",
       "  73.028097216638173,\n",
       "  73.305459530268365,\n",
       "  51.714246792470377,\n",
       "  56.768034339535895,\n",
       "  63.059181884423303,\n",
       "  57.175054366940252,\n",
       "  87.197409584606007,\n",
       "  64.044028773554814,\n",
       "  71.208857866843857,\n",
       "  83.827432099917743,\n",
       "  75.824639480492976,\n",
       "  55.044014020601949,\n",
       "  64.137962336059871,\n",
       "  78.888337266541228,\n",
       "  69.582295055713956,\n",
       "  64.088802847943214,\n",
       "  63.294934863258113,\n",
       "  62.362702781956301,\n",
       "  71.749951063174393,\n",
       "  70.603509520730938,\n",
       "  76.950883206566914],\n",
       " 3: [36.817229416000032,\n",
       "  36.015167105705927,\n",
       "  34.907748856567864,\n",
       "  37.089787447798514,\n",
       "  36.658492427702328,\n",
       "  35.434033239986199,\n",
       "  39.802309202295788,\n",
       "  42.244606971046714,\n",
       "  44.437773535643153,\n",
       "  44.415174658518076,\n",
       "  43.423016786725107,\n",
       "  35.969480068869203,\n",
       "  39.970852869380714,\n",
       "  39.896830217190455,\n",
       "  38.545461464804418,\n",
       "  41.263782402004438,\n",
       "  42.267033549979999,\n",
       "  41.86916153370386,\n",
       "  44.301168014954456,\n",
       "  42.56222960578711,\n",
       "  43.099943647805276,\n",
       "  72.844863835861588,\n",
       "  51.548299233644642,\n",
       "  56.71651071348488,\n",
       "  62.80914942486244,\n",
       "  57.067304714944633,\n",
       "  48.601324135493364,\n",
       "  55.074650324588212,\n",
       "  62.835263443329481,\n",
       "  56.467668934282337,\n",
       "  49.909275078140865,\n",
       "  48.101583896310224,\n",
       "  47.417428583140733,\n",
       "  54.630336735488498,\n",
       "  53.570614437348155,\n",
       "  57.101450639781923,\n",
       "  54.774354550932955,\n",
       "  63.867968488321189,\n",
       "  78.75567800438705,\n",
       "  69.525536805544959,\n",
       "  62.206143375082505,\n",
       "  62.311130030324016,\n",
       "  61.196602552901417,\n",
       "  70.572267707969075,\n",
       "  69.400798784891393,\n",
       "  75.774282975691207,\n",
       "  52.778138763661516,\n",
       "  52.786771795161165,\n",
       "  51.530655271190867,\n",
       "  63.20668590164604,\n",
       "  61.856715635150863,\n",
       "  69.54806242205423,\n",
       "  62.448644696209534,\n",
       "  62.052388626434983,\n",
       "  62.173911688862894,\n",
       "  70.571758668498092],\n",
       " 4: [35.464238001473191,\n",
       "  34.712129622912379,\n",
       "  36.814202632315386,\n",
       "  36.049948120539561,\n",
       "  34.8159764233964,\n",
       "  32.81499474881555,\n",
       "  35.997877720345649,\n",
       "  35.667124547041951,\n",
       "  34.256787963135594,\n",
       "  34.273694721437323,\n",
       "  34.606688894416209,\n",
       "  34.074151863327089,\n",
       "  36.604275512383893,\n",
       "  34.746685114030711,\n",
       "  35.328554300945299,\n",
       "  35.762472367207529,\n",
       "  39.778736027296191,\n",
       "  39.594656768563965,\n",
       "  38.084320496054268,\n",
       "  41.203154292512664,\n",
       "  42.223637529440836,\n",
       "  41.849759194967575,\n",
       "  44.298548108223493,\n",
       "  42.546423826417325,\n",
       "  43.078113811846606,\n",
       "  35.357266631281469,\n",
       "  35.945795880621787,\n",
       "  35.493291436340279,\n",
       "  39.893073071050573,\n",
       "  38.23808642007004,\n",
       "  37.996532935990317,\n",
       "  40.999543720120002,\n",
       "  39.623312100382449,\n",
       "  41.739241310987779,\n",
       "  42.070406824624442,\n",
       "  48.598280964325077,\n",
       "  55.073232862732894,\n",
       "  62.482519006110948,\n",
       "  56.209941872825006,\n",
       "  49.839777901032299,\n",
       "  47.995087329407106,\n",
       "  47.397248632534819,\n",
       "  54.525230142741847,\n",
       "  53.525939875523676,\n",
       "  56.924276004445218,\n",
       "  46.706447196632695,\n",
       "  45.651696333928612,\n",
       "  44.692117214812356,\n",
       "  53.365903236442769,\n",
       "  52.153701516246095,\n",
       "  56.438289966912919,\n",
       "  47.66387276597284,\n",
       "  47.325932341640254,\n",
       "  47.096972715960064,\n",
       "  53.443536473783666,\n",
       "  52.663323877186578,\n",
       "  52.786647025948696,\n",
       "  51.526859567513924,\n",
       "  63.156138242952366,\n",
       "  61.818447405520253,\n",
       "  69.463894400533988,\n",
       "  61.432734534698596,\n",
       "  60.870167682747606,\n",
       "  61.168085348682808,\n",
       "  69.391009945230593,\n",
       "  51.776039073791083,\n",
       "  51.150469708901412,\n",
       "  51.49219322086384,\n",
       "  61.85273100123986,\n",
       "  61.865063596479835],\n",
       " 5: [32.284437462696317,\n",
       "  35.443843661344957,\n",
       "  34.704357000907621,\n",
       "  33.18849557681235,\n",
       "  34.083344003155155,\n",
       "  34.170208530567379,\n",
       "  33.644414586126189,\n",
       "  35.943402221663966,\n",
       "  33.916491474706106,\n",
       "  34.802458627723269,\n",
       "  32.32283679558271,\n",
       "  32.636848329725524,\n",
       "  32.069447332331791,\n",
       "  35.665535924859881,\n",
       "  33.835525242944556,\n",
       "  34.03813696596756,\n",
       "  33.649790928897147,\n",
       "  32.217533384316333,\n",
       "  34.057477254089761,\n",
       "  34.54863253165265,\n",
       "  35.159657902704751,\n",
       "  35.67279002471485,\n",
       "  35.13063768535882,\n",
       "  39.594193686581214,\n",
       "  37.694470290319934,\n",
       "  37.719335854691508,\n",
       "  40.990429981934085,\n",
       "  39.622267422641215,\n",
       "  41.688483685677724,\n",
       "  42.069512088885361,\n",
       "  35.207768745361847,\n",
       "  33.953537981525031,\n",
       "  35.273261065222158,\n",
       "  37.571189956527554,\n",
       "  39.392187991739959,\n",
       "  46.695898087816431,\n",
       "  45.284698737418957,\n",
       "  44.472357035694522,\n",
       "  53.093043263777687,\n",
       "  51.950949986443966,\n",
       "  56.110164622303309,\n",
       "  47.574583175153393,\n",
       "  47.30869098440597,\n",
       "  47.000748312092171,\n",
       "  53.339162003636922,\n",
       "  45.062977653634263,\n",
       "  44.535176559361346,\n",
       "  44.530921666671034,\n",
       "  52.104485796334416,\n",
       "  47.007278081596532,\n",
       "  51.775596753454423,\n",
       "  51.146043629633034,\n",
       "  51.491974557770817,\n",
       "  61.805746825693397,\n",
       "  60.842900645348429,\n",
       "  51.113054423721323],\n",
       " 6: [31.812830659773237,\n",
       "  31.805316901775821,\n",
       "  31.195594615243184,\n",
       "  34.689273250613923,\n",
       "  32.6037506583923,\n",
       "  33.14254428478425,\n",
       "  33.086783141763256,\n",
       "  31.572711025970822,\n",
       "  33.642782767538563,\n",
       "  33.868572946006097,\n",
       "  31.914263328598988,\n",
       "  30.539778129147358,\n",
       "  32.002775193927519,\n",
       "  33.53348157772524,\n",
       "  32.157943183770286,\n",
       "  34.862859190245217,\n",
       "  33.442089040181685,\n",
       "  35.011567475223572,\n",
       "  37.239863332052145,\n",
       "  39.386829537710597,\n",
       "  33.635367125035643,\n",
       "  44.723960117252858,\n",
       "  44.324641253846792,\n",
       "  44.176795979394399,\n",
       "  51.826870621487188,\n",
       "  46.917990256961076,\n",
       "  44.377460083432091,\n",
       "  51.112633574394316],\n",
       " 7: [30.958629941880627,\n",
       "  29.43730031741708,\n",
       "  31.194688345903849,\n",
       "  32.519818480573051,\n",
       "  31.570706017488394,\n",
       "  30.414990170034599,\n",
       "  33.265432903158867,\n",
       "  44.036621512704983],\n",
       " 8: [29.426384459908398]}"
      ]
     },
     "execution_count": 12,
     "metadata": {},
     "output_type": "execute_result"
    }
   ],
   "source": [
    "rss_values"
   ]
  },
  {
   "cell_type": "markdown",
   "metadata": {},
   "source": [
    "## Plot RSS for Subsets"
   ]
  },
  {
   "cell_type": "code",
   "execution_count": 13,
   "metadata": {},
   "outputs": [
    {
     "data": {
      "text/plain": [
       "Text(0,0.5,u'Residual Sum-Of-Squares')"
      ]
     },
     "execution_count": 13,
     "metadata": {},
     "output_type": "execute_result"
    }
   ],
   "source": [
    "# set x values according to the key and corresponding length of its dictionary\n",
    "x = [j for j in range(1,9) for k in range(len(rss_values[j]))]\n",
    "\n",
    "# set y values to k subsets(1-8)\n",
    "y = []\n",
    "for k in rss_values.keys():\n",
    "    y += rss_values[k]\n",
    "\n",
    "# graph scatter plot\n",
    "plt.scatter(x,y)\n",
    "plt.title(\"All Possible Subset Models for Prostate Cancer Data\")\n",
    "plt.xlabel(\"Subset Size k\")\n",
    "plt.ylabel(\"Residual Sum-Of-Squares\")"
   ]
  },
  {
   "cell_type": "markdown",
   "metadata": {},
   "source": [
    "## Part B: Digits Data Model"
   ]
  },
  {
   "cell_type": "code",
   "execution_count": 14,
   "metadata": {},
   "outputs": [
    {
     "name": "stdout",
     "output_type": "stream",
     "text": [
      "Digits data set: (1797, 64)\n",
      "X_train data set: (1203, 64)\n",
      "y_train target array: (1203,)\n",
      "X_test data set: (594, 64)\n",
      "y_test target array: (594,)\n"
     ]
    }
   ],
   "source": [
    "# Load the data set\n",
    "digits = datasets.load_digits()\n",
    "\n",
    "# Training data set\n",
    "X_digits = digits.data\n",
    "\n",
    "# Target data set \n",
    "y_digits = digits.target\n",
    "\n",
    "# Allocate 2/3 of the data set as training & 1/3 as testing\n",
    "X_train, X_test, y_train, y_test = train_test_split(X_digits, y_digits, test_size=0.33)\n",
    "\n",
    "# Print size of data subsets to verify splitting\n",
    "print(\"Digits data set: {}\".format(digits.data.shape))\n",
    "print(\"X_train data set: {}\".format(X_train.shape))\n",
    "print(\"y_train target array: {}\".format(y_train.shape))\n",
    "print(\"X_test data set: {}\".format(X_test.shape))\n",
    "print(\"y_test target array: {}\".format(y_test.shape))"
   ]
  },
  {
   "cell_type": "code",
   "execution_count": 15,
   "metadata": {},
   "outputs": [
    {
     "name": "stdout",
     "output_type": "stream",
     "text": [
      "[  8.98872033e-16   1.46030777e-03   5.67370039e-02  -3.44354433e-02\n",
      "   6.93768173e-02  -1.22055438e-02  -4.92812263e-02  -1.59493441e-03\n",
      "   1.26942504e+00  -4.53570596e-03   8.12224233e-02   6.17047291e-02\n",
      "  -7.15957298e-02  -7.36968418e-02   9.38501100e-02   2.40263150e-01\n",
      "  -1.29807199e-01  -4.32143356e-04   8.82414754e-02  -2.88116819e-02\n",
      "  -6.40551403e-02   4.44380084e-02  -6.45103484e-02  -1.99037051e-01\n",
      "  -1.67643677e-14  -1.43689159e-01   3.37046746e-02   8.62190092e-02\n",
      "   6.99903529e-02   1.12719074e-01  -2.22544850e-02  -3.38887435e+00\n",
      "   5.49560397e-15  -1.77191761e-01  -2.42842528e-02   1.51869405e-01\n",
      "  -5.07588570e-02   4.21591107e-02  -1.10609495e-02   1.62092562e-14\n",
      "   1.41682320e-01   1.62341918e-01  -3.23553137e-02  -1.34145281e-02\n",
      "   1.35632981e-01   6.07393357e-02   3.12205713e-03   1.61412544e-01\n",
      "   7.56059713e-01  -7.17522217e-02   3.01909620e-02  -6.68465764e-02\n",
      "  -2.31248362e-01  -3.47702027e-02   8.63351025e-02  -1.40660253e-01\n",
      "   0.00000000e+00  -5.12906035e-02  -3.79233894e-02  -5.09100039e-02\n",
      "  -1.98407522e-02  -7.06157614e-02   9.94493281e-04  -7.10955050e-02]\n"
     ]
    }
   ],
   "source": [
    "# Fit a linear model to the training data set\n",
    "regr = linear_model.LinearRegression()\n",
    "regr.fit(X_train, y_train)\n",
    "print(regr.coef_)"
   ]
  },
  {
   "cell_type": "code",
   "execution_count": 16,
   "metadata": {},
   "outputs": [
    {
     "data": {
      "text/plain": [
       "2266.5274397486091"
      ]
     },
     "execution_count": 16,
     "metadata": {},
     "output_type": "execute_result"
    }
   ],
   "source": [
    "# Residual sum of squares\n",
    "np.sum((regr.predict(X_test) - y_test)**2)"
   ]
  },
  {
   "cell_type": "code",
   "execution_count": 25,
   "metadata": {},
   "outputs": [
    {
     "data": {
      "text/plain": [
       "0.5468458685817148"
      ]
     },
     "execution_count": 25,
     "metadata": {},
     "output_type": "execute_result"
    }
   ],
   "source": [
    "# Explained variance score: 1 is a perfect prediction & 0 is no linear relationship between X and y\n",
    "reg_score = regr.score(X_test, y_test)\n",
    "reg_score"
   ]
  },
  {
   "cell_type": "code",
   "execution_count": 18,
   "metadata": {},
   "outputs": [
    {
     "name": "stdout",
     "output_type": "stream",
     "text": [
      "[0.0, 0.0, 5.0, 13.0, 9.0, 1.0, 0.0, 0.0, 0.0, 0.0, 13.0, 15.0, 10.0, 15.0, 5.0, 0.0, 0.0, 3.0, 15.0, 2.0, 0.0, 11.0, 8.0, 0.0, 0.0, 4.0, 12.0, 0.0, 0.0, 8.0, 8.0, 0.0, 0.0, 5.0, 8.0, 0.0, 0.0, 9.0, 8.0, 0.0, 0.0, 4.0, 11.0, 0.0, 1.0, 12.0, 7.0, 0.0, 0.0, 2.0, 14.0, 5.0, 10.0, 12.0, 0.0, 0.0, 0.0, 0.0, 6.0, 13.0, 10.0, 0.0, 0.0, 0.0]\n"
     ]
    }
   ],
   "source": [
    "predictors = list(X_digits[0])\n",
    "print(predictors)"
   ]
  },
  {
   "cell_type": "markdown",
   "metadata": {},
   "source": [
    "## Plot RSS for Subsets"
   ]
  },
  {
   "cell_type": "code",
   "execution_count": 19,
   "metadata": {},
   "outputs": [
    {
     "name": "stdout",
     "output_type": "stream",
     "text": [
      "set([1, 2, 3, 4, 5, 6, 7, 8, 9, 10, 11, 12, 13, 14, 15, 16, 17, 18, 19, 20, 21, 22, 23, 24, 25, 26, 27, 28, 29, 30, 31, 32, 33, 34, 35, 36, 37, 38, 39, 40, 41, 42, 43, 44, 45, 46, 47, 48, 49, 50, 51, 52, 53, 54, 55, 56, 57, 58, 59, 60, 61, 62, 63])\n"
     ]
    }
   ],
   "source": [
    "rss_values = {k for k in range(1,64)}\n",
    "print(rss_values)"
   ]
  },
  {
   "cell_type": "code",
   "execution_count": 20,
   "metadata": {},
   "outputs": [
    {
     "ename": "IndexError",
     "evalue": "only integers, slices (`:`), ellipsis (`...`), numpy.newaxis (`None`) and integer or boolean arrays are valid indices",
     "output_type": "error",
     "traceback": [
      "\u001b[0;31m---------------------------------------------------------------------------\u001b[0m",
      "\u001b[0;31mIndexError\u001b[0m                                Traceback (most recent call last)",
      "\u001b[0;32m<ipython-input-20-48288575497c>\u001b[0m in \u001b[0;36m<module>\u001b[0;34m()\u001b[0m\n\u001b[1;32m      1\u001b[0m \u001b[0;32mfor\u001b[0m \u001b[0mi\u001b[0m \u001b[0;32min\u001b[0m \u001b[0mrange\u001b[0m\u001b[0;34m(\u001b[0m\u001b[0mX_train\u001b[0m\u001b[0;34m.\u001b[0m\u001b[0mshape\u001b[0m\u001b[0;34m[\u001b[0m\u001b[0;36m0\u001b[0m\u001b[0;34m]\u001b[0m\u001b[0;34m)\u001b[0m\u001b[0;34m:\u001b[0m\u001b[0;34m\u001b[0m\u001b[0m\n\u001b[0;32m----> 2\u001b[0;31m     \u001b[0mbeta\u001b[0m \u001b[0;34m=\u001b[0m \u001b[0mtrain\u001b[0m\u001b[0;34m(\u001b[0m\u001b[0mX_train\u001b[0m\u001b[0;34m,\u001b[0m \u001b[0mp\u001b[0m\u001b[0;34m)\u001b[0m\u001b[0;34m\u001b[0m\u001b[0m\n\u001b[0m\u001b[1;32m      3\u001b[0m     \u001b[0mrss\u001b[0m \u001b[0;34m=\u001b[0m \u001b[0mevaluateRSS\u001b[0m\u001b[0;34m(\u001b[0m\u001b[0mX_train\u001b[0m\u001b[0;34m,\u001b[0m \u001b[0mp\u001b[0m\u001b[0;34m,\u001b[0m \u001b[0mbeta\u001b[0m\u001b[0;34m)\u001b[0m\u001b[0;34m\u001b[0m\u001b[0m\n\u001b[1;32m      4\u001b[0m     \u001b[0mrss_values\u001b[0m\u001b[0;34m[\u001b[0m\u001b[0mlen\u001b[0m\u001b[0;34m(\u001b[0m\u001b[0mp\u001b[0m\u001b[0;34m)\u001b[0m\u001b[0;34m]\u001b[0m\u001b[0;34m.\u001b[0m\u001b[0mappend\u001b[0m\u001b[0;34m(\u001b[0m\u001b[0mrss\u001b[0m\u001b[0;34m)\u001b[0m\u001b[0;34m\u001b[0m\u001b[0m\n",
      "\u001b[0;32m<ipython-input-5-7e4dbee3c4cc>\u001b[0m in \u001b[0;36mtrain\u001b[0;34m(df, predictors_subset)\u001b[0m\n\u001b[1;32m      3\u001b[0m \u001b[0;34m\u001b[0m\u001b[0m\n\u001b[1;32m      4\u001b[0m     \u001b[0;31m# generate predictor df\u001b[0m\u001b[0;34m\u001b[0m\u001b[0;34m\u001b[0m\u001b[0m\n\u001b[0;32m----> 5\u001b[0;31m     \u001b[0mpredictor_df\u001b[0m \u001b[0;34m=\u001b[0m \u001b[0mdf\u001b[0m\u001b[0;34m[\u001b[0m\u001b[0mpredictors_subset\u001b[0m\u001b[0;34m]\u001b[0m\u001b[0;34m\u001b[0m\u001b[0m\n\u001b[0m\u001b[1;32m      6\u001b[0m \u001b[0;34m\u001b[0m\u001b[0m\n\u001b[1;32m      7\u001b[0m     \u001b[0;31m# generate response df\u001b[0m\u001b[0;34m\u001b[0m\u001b[0;34m\u001b[0m\u001b[0m\n",
      "\u001b[0;31mIndexError\u001b[0m: only integers, slices (`:`), ellipsis (`...`), numpy.newaxis (`None`) and integer or boolean arrays are valid indices"
     ]
    }
   ],
   "source": [
    "for i in range(X_train.shape[0]):\n",
    "    beta = train(X_train, p)\n",
    "    rss = evaluateRSS(X_train, p, beta)\n",
    "    rss_values[len(p)].append(rss)"
   ]
  },
  {
   "cell_type": "code",
   "execution_count": 29,
   "metadata": {},
   "outputs": [
    {
     "ename": "ValueError",
     "evalue": "x and y must have same first dimension, but have shapes (594, 64) and (1,)",
     "output_type": "error",
     "traceback": [
      "\u001b[0;31m---------------------------------------------------------------------------\u001b[0m",
      "\u001b[0;31mValueError\u001b[0m                                Traceback (most recent call last)",
      "\u001b[0;32m<ipython-input-29-971413eaefaa>\u001b[0m in \u001b[0;36m<module>\u001b[0;34m()\u001b[0m\n\u001b[1;32m      1\u001b[0m \u001b[0;32mfor\u001b[0m \u001b[0mi\u001b[0m \u001b[0;32min\u001b[0m \u001b[0mrange\u001b[0m\u001b[0;34m(\u001b[0m\u001b[0;36m64\u001b[0m\u001b[0;34m)\u001b[0m\u001b[0;34m:\u001b[0m\u001b[0;34m\u001b[0m\u001b[0m\n\u001b[1;32m      2\u001b[0m     \u001b[0mplt\u001b[0m\u001b[0;34m.\u001b[0m\u001b[0mfigure\u001b[0m\u001b[0;34m(\u001b[0m\u001b[0;34m)\u001b[0m\u001b[0;34m\u001b[0m\u001b[0m\n\u001b[0;32m----> 3\u001b[0;31m     \u001b[0mplt\u001b[0m\u001b[0;34m.\u001b[0m\u001b[0mplot\u001b[0m\u001b[0;34m(\u001b[0m\u001b[0mX_test\u001b[0m\u001b[0;34m,\u001b[0m \u001b[0mreg_score\u001b[0m\u001b[0;34m)\u001b[0m\u001b[0;34m\u001b[0m\u001b[0m\n\u001b[0m",
      "\u001b[0;32m/home/blanca/anaconda2/lib/python2.7/site-packages/matplotlib/pyplot.pyc\u001b[0m in \u001b[0;36mplot\u001b[0;34m(*args, **kwargs)\u001b[0m\n\u001b[1;32m   3238\u001b[0m                       mplDeprecation)\n\u001b[1;32m   3239\u001b[0m     \u001b[0;32mtry\u001b[0m\u001b[0;34m:\u001b[0m\u001b[0;34m\u001b[0m\u001b[0m\n\u001b[0;32m-> 3240\u001b[0;31m         \u001b[0mret\u001b[0m \u001b[0;34m=\u001b[0m \u001b[0max\u001b[0m\u001b[0;34m.\u001b[0m\u001b[0mplot\u001b[0m\u001b[0;34m(\u001b[0m\u001b[0;34m*\u001b[0m\u001b[0margs\u001b[0m\u001b[0;34m,\u001b[0m \u001b[0;34m**\u001b[0m\u001b[0mkwargs\u001b[0m\u001b[0;34m)\u001b[0m\u001b[0;34m\u001b[0m\u001b[0m\n\u001b[0m\u001b[1;32m   3241\u001b[0m     \u001b[0;32mfinally\u001b[0m\u001b[0;34m:\u001b[0m\u001b[0;34m\u001b[0m\u001b[0m\n\u001b[1;32m   3242\u001b[0m         \u001b[0max\u001b[0m\u001b[0;34m.\u001b[0m\u001b[0m_hold\u001b[0m \u001b[0;34m=\u001b[0m \u001b[0mwashold\u001b[0m\u001b[0;34m\u001b[0m\u001b[0m\n",
      "\u001b[0;32m/home/blanca/anaconda2/lib/python2.7/site-packages/matplotlib/__init__.pyc\u001b[0m in \u001b[0;36minner\u001b[0;34m(ax, *args, **kwargs)\u001b[0m\n\u001b[1;32m   1708\u001b[0m                     warnings.warn(msg % (label_namer, func.__name__),\n\u001b[1;32m   1709\u001b[0m                                   RuntimeWarning, stacklevel=2)\n\u001b[0;32m-> 1710\u001b[0;31m             \u001b[0;32mreturn\u001b[0m \u001b[0mfunc\u001b[0m\u001b[0;34m(\u001b[0m\u001b[0max\u001b[0m\u001b[0;34m,\u001b[0m \u001b[0;34m*\u001b[0m\u001b[0margs\u001b[0m\u001b[0;34m,\u001b[0m \u001b[0;34m**\u001b[0m\u001b[0mkwargs\u001b[0m\u001b[0;34m)\u001b[0m\u001b[0;34m\u001b[0m\u001b[0m\n\u001b[0m\u001b[1;32m   1711\u001b[0m         \u001b[0mpre_doc\u001b[0m \u001b[0;34m=\u001b[0m \u001b[0minner\u001b[0m\u001b[0;34m.\u001b[0m\u001b[0m__doc__\u001b[0m\u001b[0;34m\u001b[0m\u001b[0m\n\u001b[1;32m   1712\u001b[0m         \u001b[0;32mif\u001b[0m \u001b[0mpre_doc\u001b[0m \u001b[0;32mis\u001b[0m \u001b[0mNone\u001b[0m\u001b[0;34m:\u001b[0m\u001b[0;34m\u001b[0m\u001b[0m\n",
      "\u001b[0;32m/home/blanca/anaconda2/lib/python2.7/site-packages/matplotlib/axes/_axes.pyc\u001b[0m in \u001b[0;36mplot\u001b[0;34m(self, *args, **kwargs)\u001b[0m\n\u001b[1;32m   1435\u001b[0m         \u001b[0mkwargs\u001b[0m \u001b[0;34m=\u001b[0m \u001b[0mcbook\u001b[0m\u001b[0;34m.\u001b[0m\u001b[0mnormalize_kwargs\u001b[0m\u001b[0;34m(\u001b[0m\u001b[0mkwargs\u001b[0m\u001b[0;34m,\u001b[0m \u001b[0m_alias_map\u001b[0m\u001b[0;34m)\u001b[0m\u001b[0;34m\u001b[0m\u001b[0m\n\u001b[1;32m   1436\u001b[0m \u001b[0;34m\u001b[0m\u001b[0m\n\u001b[0;32m-> 1437\u001b[0;31m         \u001b[0;32mfor\u001b[0m \u001b[0mline\u001b[0m \u001b[0;32min\u001b[0m \u001b[0mself\u001b[0m\u001b[0;34m.\u001b[0m\u001b[0m_get_lines\u001b[0m\u001b[0;34m(\u001b[0m\u001b[0;34m*\u001b[0m\u001b[0margs\u001b[0m\u001b[0;34m,\u001b[0m \u001b[0;34m**\u001b[0m\u001b[0mkwargs\u001b[0m\u001b[0;34m)\u001b[0m\u001b[0;34m:\u001b[0m\u001b[0;34m\u001b[0m\u001b[0m\n\u001b[0m\u001b[1;32m   1438\u001b[0m             \u001b[0mself\u001b[0m\u001b[0;34m.\u001b[0m\u001b[0madd_line\u001b[0m\u001b[0;34m(\u001b[0m\u001b[0mline\u001b[0m\u001b[0;34m)\u001b[0m\u001b[0;34m\u001b[0m\u001b[0m\n\u001b[1;32m   1439\u001b[0m             \u001b[0mlines\u001b[0m\u001b[0;34m.\u001b[0m\u001b[0mappend\u001b[0m\u001b[0;34m(\u001b[0m\u001b[0mline\u001b[0m\u001b[0;34m)\u001b[0m\u001b[0;34m\u001b[0m\u001b[0m\n",
      "\u001b[0;32m/home/blanca/anaconda2/lib/python2.7/site-packages/matplotlib/axes/_base.pyc\u001b[0m in \u001b[0;36m_grab_next_args\u001b[0;34m(self, *args, **kwargs)\u001b[0m\n\u001b[1;32m    402\u001b[0m                 \u001b[0mthis\u001b[0m \u001b[0;34m+=\u001b[0m \u001b[0margs\u001b[0m\u001b[0;34m[\u001b[0m\u001b[0;36m0\u001b[0m\u001b[0;34m]\u001b[0m\u001b[0;34m,\u001b[0m\u001b[0;34m\u001b[0m\u001b[0m\n\u001b[1;32m    403\u001b[0m                 \u001b[0margs\u001b[0m \u001b[0;34m=\u001b[0m \u001b[0margs\u001b[0m\u001b[0;34m[\u001b[0m\u001b[0;36m1\u001b[0m\u001b[0;34m:\u001b[0m\u001b[0;34m]\u001b[0m\u001b[0;34m\u001b[0m\u001b[0m\n\u001b[0;32m--> 404\u001b[0;31m             \u001b[0;32mfor\u001b[0m \u001b[0mseg\u001b[0m \u001b[0;32min\u001b[0m \u001b[0mself\u001b[0m\u001b[0;34m.\u001b[0m\u001b[0m_plot_args\u001b[0m\u001b[0;34m(\u001b[0m\u001b[0mthis\u001b[0m\u001b[0;34m,\u001b[0m \u001b[0mkwargs\u001b[0m\u001b[0;34m)\u001b[0m\u001b[0;34m:\u001b[0m\u001b[0;34m\u001b[0m\u001b[0m\n\u001b[0m\u001b[1;32m    405\u001b[0m                 \u001b[0;32myield\u001b[0m \u001b[0mseg\u001b[0m\u001b[0;34m\u001b[0m\u001b[0m\n\u001b[1;32m    406\u001b[0m \u001b[0;34m\u001b[0m\u001b[0m\n",
      "\u001b[0;32m/home/blanca/anaconda2/lib/python2.7/site-packages/matplotlib/axes/_base.pyc\u001b[0m in \u001b[0;36m_plot_args\u001b[0;34m(self, tup, kwargs)\u001b[0m\n\u001b[1;32m    382\u001b[0m             \u001b[0mx\u001b[0m\u001b[0;34m,\u001b[0m \u001b[0my\u001b[0m \u001b[0;34m=\u001b[0m \u001b[0mindex_of\u001b[0m\u001b[0;34m(\u001b[0m\u001b[0mtup\u001b[0m\u001b[0;34m[\u001b[0m\u001b[0;34m-\u001b[0m\u001b[0;36m1\u001b[0m\u001b[0;34m]\u001b[0m\u001b[0;34m)\u001b[0m\u001b[0;34m\u001b[0m\u001b[0m\n\u001b[1;32m    383\u001b[0m \u001b[0;34m\u001b[0m\u001b[0m\n\u001b[0;32m--> 384\u001b[0;31m         \u001b[0mx\u001b[0m\u001b[0;34m,\u001b[0m \u001b[0my\u001b[0m \u001b[0;34m=\u001b[0m \u001b[0mself\u001b[0m\u001b[0;34m.\u001b[0m\u001b[0m_xy_from_xy\u001b[0m\u001b[0;34m(\u001b[0m\u001b[0mx\u001b[0m\u001b[0;34m,\u001b[0m \u001b[0my\u001b[0m\u001b[0;34m)\u001b[0m\u001b[0;34m\u001b[0m\u001b[0m\n\u001b[0m\u001b[1;32m    385\u001b[0m \u001b[0;34m\u001b[0m\u001b[0m\n\u001b[1;32m    386\u001b[0m         \u001b[0;32mif\u001b[0m \u001b[0mself\u001b[0m\u001b[0;34m.\u001b[0m\u001b[0mcommand\u001b[0m \u001b[0;34m==\u001b[0m \u001b[0;34m'plot'\u001b[0m\u001b[0;34m:\u001b[0m\u001b[0;34m\u001b[0m\u001b[0m\n",
      "\u001b[0;32m/home/blanca/anaconda2/lib/python2.7/site-packages/matplotlib/axes/_base.pyc\u001b[0m in \u001b[0;36m_xy_from_xy\u001b[0;34m(self, x, y)\u001b[0m\n\u001b[1;32m    241\u001b[0m         \u001b[0;32mif\u001b[0m \u001b[0mx\u001b[0m\u001b[0;34m.\u001b[0m\u001b[0mshape\u001b[0m\u001b[0;34m[\u001b[0m\u001b[0;36m0\u001b[0m\u001b[0;34m]\u001b[0m \u001b[0;34m!=\u001b[0m \u001b[0my\u001b[0m\u001b[0;34m.\u001b[0m\u001b[0mshape\u001b[0m\u001b[0;34m[\u001b[0m\u001b[0;36m0\u001b[0m\u001b[0;34m]\u001b[0m\u001b[0;34m:\u001b[0m\u001b[0;34m\u001b[0m\u001b[0m\n\u001b[1;32m    242\u001b[0m             raise ValueError(\"x and y must have same first dimension, but \"\n\u001b[0;32m--> 243\u001b[0;31m                              \"have shapes {} and {}\".format(x.shape, y.shape))\n\u001b[0m\u001b[1;32m    244\u001b[0m         \u001b[0;32mif\u001b[0m \u001b[0mx\u001b[0m\u001b[0;34m.\u001b[0m\u001b[0mndim\u001b[0m \u001b[0;34m>\u001b[0m \u001b[0;36m2\u001b[0m \u001b[0;32mor\u001b[0m \u001b[0my\u001b[0m\u001b[0;34m.\u001b[0m\u001b[0mndim\u001b[0m \u001b[0;34m>\u001b[0m \u001b[0;36m2\u001b[0m\u001b[0;34m:\u001b[0m\u001b[0;34m\u001b[0m\u001b[0m\n\u001b[1;32m    245\u001b[0m             raise ValueError(\"x and y can be no greater than 2-D, but have \"\n",
      "\u001b[0;31mValueError\u001b[0m: x and y must have same first dimension, but have shapes (594, 64) and (1,)"
     ]
    }
   ],
   "source": [
    "for i in range(64):\n",
    "    plt.figure()\n",
    "    plt.plot(X_test, reg_score)"
   ]
  },
  {
   "cell_type": "code",
   "execution_count": null,
   "metadata": {
    "collapsed": true
   },
   "outputs": [],
   "source": []
  }
 ],
 "metadata": {
  "kernelspec": {
   "display_name": "Python 2",
   "language": "python",
   "name": "python2"
  },
  "language_info": {
   "codemirror_mode": {
    "name": "ipython",
    "version": 2
   },
   "file_extension": ".py",
   "mimetype": "text/x-python",
   "name": "python",
   "nbconvert_exporter": "python",
   "pygments_lexer": "ipython2",
   "version": "2.7.14"
  }
 },
 "nbformat": 4,
 "nbformat_minor": 2
}
