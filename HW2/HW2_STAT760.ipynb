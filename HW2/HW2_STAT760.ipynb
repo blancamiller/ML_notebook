{
 "cells": [
  {
   "cell_type": "markdown",
   "metadata": {},
   "source": [
    "# HW 2: Apply Linear Regression to Construct a Prostate Cancer Model & Digits Data Model"
   ]
  },
  {
   "cell_type": "markdown",
   "metadata": {},
   "source": [
    "Blanca Miller\n",
    "<br>\n",
    "STAT 760\n",
    "<br>\n",
    "02/06/2018\n",
    "\n",
    "Prostrate Data Info: http://web.stanford.edu/~hastie/ElemStatLearn/datasets/prostate.info.txt \n",
    "<br>\n",
    "Data Set: http://web.stanford.edu/~hastie/ElemStatLearn/datasets/prostate.data\n",
    "\n",
    "Given a training set of prostate cancer linear data, estimate the model parameters using subset selection. \n",
    "\n",
    "## STEPS\n",
    "1. import data\n",
    "2. break data into two groups: train and test\n",
    "3. break the training set into two matrices\n",
    "    - X : design matrix (add column of 1s at beginning)\n",
    "    - y : vector of responses\n",
    "4. convert the X and y data frames into numpy arrays\n",
    "5. standardize the predictors to have unit variance\n",
    "6. estimate weights\n",
    "7. calculate RSS for training set for all possible models\n",
    "8. Graph k by RSS\n",
    "\n",
    "\n",
    "## FUNCTIONS\n",
    "- Fxn evaluates RSS for given X, y, beta\n",
    "- Fxn trains models given list of columns\n",
    "- Fxn generates all possible list of columns\n",
    "- Fxn plot dictionary"
   ]
  },
  {
   "cell_type": "markdown",
   "metadata": {},
   "source": [
    "## Imports"
   ]
  },
  {
   "cell_type": "code",
   "execution_count": 1,
   "metadata": {},
   "outputs": [],
   "source": [
    "import numpy as np\n",
    "import pandas as pd\n",
    "import itertools\n",
    "import matplotlib.pyplot as plt\n",
    "from sklearn import datasets\n",
    "from sklearn import linear_model\n",
    "from sklearn.metrics import r2_score\n",
    "from sklearn.model_selection import train_test_split"
   ]
  },
  {
   "cell_type": "markdown",
   "metadata": {},
   "source": [
    "## Load Data"
   ]
  },
  {
   "cell_type": "code",
   "execution_count": 2,
   "metadata": {},
   "outputs": [],
   "source": [
    "data = pd.read_csv('prostate.data', delimiter='\\t')"
   ]
  },
  {
   "cell_type": "code",
   "execution_count": 3,
   "metadata": {},
   "outputs": [
    {
     "name": "stdout",
     "output_type": "stream",
     "text": [
      "   Unnamed: 0    lcavol   lweight  age      lbph  svi       lcp  gleason  \\\n",
      "0           1 -0.579818  2.769459   50 -1.386294    0 -1.386294        6   \n",
      "1           2 -0.994252  3.319626   58 -1.386294    0 -1.386294        6   \n",
      "2           3 -0.510826  2.691243   74 -1.386294    0 -1.386294        7   \n",
      "3           4 -1.203973  3.282789   58 -1.386294    0 -1.386294        6   \n",
      "4           5  0.751416  3.432373   62 -1.386294    0 -1.386294        6   \n",
      "5           6 -1.049822  3.228826   50 -1.386294    0 -1.386294        6   \n",
      "6           7  0.737164  3.473518   64  0.615186    0 -1.386294        6   \n",
      "7           8  0.693147  3.539509   58  1.536867    0 -1.386294        6   \n",
      "8           9 -0.776529  3.539509   47 -1.386294    0 -1.386294        6   \n",
      "9          10  0.223144  3.244544   63 -1.386294    0 -1.386294        6   \n",
      "\n",
      "   pgg45      lpsa train  \n",
      "0      0 -0.430783     T  \n",
      "1      0 -0.162519     T  \n",
      "2     20 -0.162519     T  \n",
      "3      0 -0.162519     T  \n",
      "4      0  0.371564     T  \n",
      "5      0  0.765468     T  \n",
      "6      0  0.765468     F  \n",
      "7      0  0.854415     T  \n",
      "8      0  1.047319     F  \n",
      "9      0  1.047319     F  \n"
     ]
    }
   ],
   "source": [
    "print(data[0:10])"
   ]
  },
  {
   "cell_type": "markdown",
   "metadata": {},
   "source": [
    "## Functions"
   ]
  },
  {
   "cell_type": "code",
   "execution_count": 4,
   "metadata": {},
   "outputs": [],
   "source": [
    "#evaluates RSS for given X, y, beta\n",
    "def evaluateRSS(df, predictor_subset, beta):\n",
    "    \n",
    "    # generate predictor df\n",
    "    predictor_df = df[predictor_subset]\n",
    "    \n",
    "    # generate response df\n",
    "    response_df = df[\"lpsa\"]\n",
    "    \n",
    "    # convert predictor df to ndarray\n",
    "    predictor_matrix = predictor_df.as_matrix()\n",
    "    \n",
    "    # normalize predictors\n",
    "    predictor_matrix = (predictor_matrix - np.mean(predictor_matrix, axis=0))/np.std(predictor_matrix, axis=0)\n",
    "\n",
    "    # adds constant term 1s to predictor matrix\n",
    "    predictor_matrix = np.c_[np.ones(len(predictor_matrix)), predictor_matrix]\n",
    "    \n",
    "    # convert response df to ndarray\n",
    "    response_matrix = response_df.as_matrix()\n",
    "    \n",
    "    # compute error\n",
    "    e = response_matrix - np.dot(predictor_matrix, beta)\n",
    "    \n",
    "    # return error\n",
    "    return np.dot(e,e)"
   ]
  },
  {
   "cell_type": "code",
   "execution_count": 5,
   "metadata": {},
   "outputs": [],
   "source": [
    "# train model given a list of columns\n",
    "def train(df, predictors_subset):\n",
    "    \n",
    "    # generate predictor df\n",
    "    predictor_df = df[predictors_subset]\n",
    "    \n",
    "    # generate response df\n",
    "    response_df = df[\"lpsa\"]\n",
    "    \n",
    "    # convert predictor df to ndarray\n",
    "    predictor_matrix = predictor_df.as_matrix()\n",
    "    \n",
    "    # normalize predictors\n",
    "    predictor_matrix = (predictor_matrix - np.mean(predictor_matrix, axis=0))/np.std(predictor_matrix, axis=0)\n",
    "\n",
    "    # adds constant term 1s to predictor matrix\n",
    "    predictor_matrix = np.c_[np.ones(len(predictor_matrix)), predictor_matrix]\n",
    "    \n",
    "    # convert response df to ndarray\n",
    "    response_matrix = response_df.as_matrix()\n",
    "    \n",
    "    # fit model by pinv:\n",
    "    # calculate psuedo-inverse\n",
    "    predictor_inverse = np.linalg.pinv(predictor_matrix)\n",
    "    \n",
    "    # multiply pseudo-inverse by response matrix\n",
    "    beta = np.dot(predictor_inverse, response_matrix)\n",
    "    \n",
    "    # return weights\n",
    "    return beta"
   ]
  },
  {
   "cell_type": "code",
   "execution_count": 6,
   "metadata": {},
   "outputs": [],
   "source": [
    "# generates all possible list of columns for each subset\n",
    "def generate_columns(predictors):\n",
    "    \n",
    "    # return all possible subset of predictors - n choose k\n",
    "    n = len(predictors)\n",
    "    \n",
    "    subsets = []\n",
    "    \n",
    "    for k in range(1, n+1):\n",
    "        x = list(itertools.combinations(predictors, k))\n",
    "        x = [list(y) for y in x]\n",
    "        subsets += x \n",
    "        \n",
    "    return subsets"
   ]
  },
  {
   "cell_type": "code",
   "execution_count": 7,
   "metadata": {},
   "outputs": [],
   "source": [
    "def plot(rss_dict):\n",
    "    \n",
    "    # plots subset by rss\n",
    "    fig = plt.figure()\n",
    "    ax = fig.add_subplot(1, 1, 1)\n",
    "    x = rss_dict[:,0]\n",
    "    y = rss_dict[:,1]\n",
    "    ax.scatter(x,y)\n",
    "    plt.show()"
   ]
  },
  {
   "cell_type": "markdown",
   "metadata": {},
   "source": [
    "## Part A: Prostate Cancer Model"
   ]
  },
  {
   "cell_type": "markdown",
   "metadata": {},
   "source": [
    "## Train Prostate Cancer Models"
   ]
  },
  {
   "cell_type": "code",
   "execution_count": 8,
   "metadata": {},
   "outputs": [],
   "source": [
    "predictors = list(data.columns.values[1:9])"
   ]
  },
  {
   "cell_type": "code",
   "execution_count": 9,
   "metadata": {},
   "outputs": [],
   "source": [
    "train_data = data[data.train == 'T']\n",
    "test_data = data[data.train == 'F']"
   ]
  },
  {
   "cell_type": "code",
   "execution_count": 10,
   "metadata": {},
   "outputs": [],
   "source": [
    "# generate all possible subsets for each feature/predictor\n",
    "predictor_subsets = generate_columns(predictors)\n",
    "\n",
    "# create rss list for models\n",
    "rss_values = {k:[] for k in range(1,9)}"
   ]
  },
  {
   "cell_type": "code",
   "execution_count": 11,
   "metadata": {},
   "outputs": [],
   "source": [
    "# loop through each possible subset and evaluate model using RSS\n",
    "for p in predictor_subsets:\n",
    "    beta = train(train_data, p)\n",
    "    rss = evaluateRSS(train_data, p, beta)\n",
    "    rss_values[len(p)].append(rss)"
   ]
  },
  {
   "cell_type": "code",
   "execution_count": 12,
   "metadata": {},
   "outputs": [
    {
     "data": {
      "text/plain": [
       "{1: [44.52858265645385,\n",
       "  73.61354018577535,\n",
       "  91.29203902075545,\n",
       "  89.6249120824595,\n",
       "  66.42240272124414,\n",
       "  73.23939131621876,\n",
       "  84.99179045937804,\n",
       "  76.95323667726328],\n",
       " 2: [37.09184563256133,\n",
       "  44.49564216406742,\n",
       "  39.992304351212326,\n",
       "  42.312584301379616,\n",
       "  44.467567998531834,\n",
       "  44.42407814925551,\n",
       "  43.423103787681725,\n",
       "  73.02809721663817,\n",
       "  73.30545953026837,\n",
       "  51.71424679247038,\n",
       "  56.768034339535895,\n",
       "  63.059181884423296,\n",
       "  57.17505436694025,\n",
       "  87.19740958460599,\n",
       "  64.04402877355481,\n",
       "  71.20885786684386,\n",
       "  83.82743209991773,\n",
       "  75.82463948049298,\n",
       "  55.044014020601956,\n",
       "  64.13796233605989,\n",
       "  78.88833726654123,\n",
       "  69.58229505571396,\n",
       "  64.08880284794321,\n",
       "  63.29493486325811,\n",
       "  62.3627027819563,\n",
       "  71.7499510631744,\n",
       "  70.60350952073094,\n",
       "  76.9508832065669],\n",
       " 3: [36.81722941600002,\n",
       "  36.01516710570593,\n",
       "  34.90774885656786,\n",
       "  37.089787447798514,\n",
       "  36.65849242770233,\n",
       "  35.4340332399862,\n",
       "  39.80230920229578,\n",
       "  42.244606971046714,\n",
       "  44.43777353564316,\n",
       "  44.41517465851808,\n",
       "  43.4230167867251,\n",
       "  35.96948006886921,\n",
       "  39.97085286938072,\n",
       "  39.896830217190455,\n",
       "  38.54546146480442,\n",
       "  41.26378240200444,\n",
       "  42.26703354998,\n",
       "  41.86916153370386,\n",
       "  44.301168014954456,\n",
       "  42.5622296057871,\n",
       "  43.099943647805276,\n",
       "  72.84486383586159,\n",
       "  51.548299233644656,\n",
       "  56.716510713484894,\n",
       "  62.80914942486244,\n",
       "  57.06730471494463,\n",
       "  48.60132413549336,\n",
       "  55.07465032458821,\n",
       "  62.835263443329495,\n",
       "  56.46766893428233,\n",
       "  49.909275078140865,\n",
       "  48.10158389631022,\n",
       "  47.41742858314073,\n",
       "  54.6303367354885,\n",
       "  53.57061443734815,\n",
       "  57.10145063978192,\n",
       "  54.77435455093296,\n",
       "  63.86796848832118,\n",
       "  78.75567800438705,\n",
       "  69.52553680554496,\n",
       "  62.20614337508249,\n",
       "  62.31113003032401,\n",
       "  61.19660255290142,\n",
       "  70.57226770796908,\n",
       "  69.40079878489139,\n",
       "  75.77428297569121,\n",
       "  52.77813876366151,\n",
       "  52.78677179516117,\n",
       "  51.53065527119087,\n",
       "  63.20668590164604,\n",
       "  61.85671563515086,\n",
       "  69.54806242205424,\n",
       "  62.44864469620954,\n",
       "  62.052388626434976,\n",
       "  62.173911688862894,\n",
       "  70.57175866849808],\n",
       " 4: [35.46423800147319,\n",
       "  34.71212962291238,\n",
       "  36.8142026323154,\n",
       "  36.04994812053956,\n",
       "  34.8159764233964,\n",
       "  32.81499474881555,\n",
       "  35.997877720345656,\n",
       "  35.66712454704195,\n",
       "  34.256787963135594,\n",
       "  34.273694721437316,\n",
       "  34.606688894416216,\n",
       "  34.07415186332709,\n",
       "  36.60427551238389,\n",
       "  34.74668511403072,\n",
       "  35.32855430094531,\n",
       "  35.762472367207536,\n",
       "  39.7787360272962,\n",
       "  39.594656768563965,\n",
       "  38.084320496054275,\n",
       "  41.20315429251266,\n",
       "  42.223637529440836,\n",
       "  41.84975919496758,\n",
       "  44.29854810822349,\n",
       "  42.546423826417325,\n",
       "  43.078113811846606,\n",
       "  35.35726663128147,\n",
       "  35.94579588062179,\n",
       "  35.493291436340286,\n",
       "  39.89307307105058,\n",
       "  38.23808642007003,\n",
       "  37.996532935990324,\n",
       "  40.99954372012,\n",
       "  39.62331210038244,\n",
       "  41.73924131098778,\n",
       "  42.070406824624435,\n",
       "  48.59828096432507,\n",
       "  55.073232862732894,\n",
       "  62.482519006110934,\n",
       "  56.209941872825,\n",
       "  49.839777901032306,\n",
       "  47.99508732940711,\n",
       "  47.39724863253481,\n",
       "  54.52523014274185,\n",
       "  53.525939875523676,\n",
       "  56.92427600444522,\n",
       "  46.70644719663269,\n",
       "  45.651696333928605,\n",
       "  44.692117214812356,\n",
       "  53.36590323644276,\n",
       "  52.153701516246095,\n",
       "  56.43828996691291,\n",
       "  47.66387276597285,\n",
       "  47.32593234164025,\n",
       "  47.096972715960064,\n",
       "  53.44353647378366,\n",
       "  52.663323877186585,\n",
       "  52.786647025948696,\n",
       "  51.526859567513924,\n",
       "  63.156138242952366,\n",
       "  61.818447405520246,\n",
       "  69.46389440053397,\n",
       "  61.43273453469861,\n",
       "  60.87016768274759,\n",
       "  61.16808534868281,\n",
       "  69.3910099452306,\n",
       "  51.77603907379108,\n",
       "  51.1504697089014,\n",
       "  51.49219322086383,\n",
       "  61.85273100123986,\n",
       "  61.86506359647983],\n",
       " 5: [32.28443746269632,\n",
       "  35.44384366134496,\n",
       "  34.70435700090762,\n",
       "  33.18849557681236,\n",
       "  34.083344003155155,\n",
       "  34.17020853056738,\n",
       "  33.64441458612619,\n",
       "  35.943402221663966,\n",
       "  33.916491474706106,\n",
       "  34.802458627723276,\n",
       "  32.3228367955827,\n",
       "  32.636848329725524,\n",
       "  32.069447332331784,\n",
       "  35.665535924859896,\n",
       "  33.835525242944556,\n",
       "  34.03813696596757,\n",
       "  33.64979092889715,\n",
       "  32.21753338431634,\n",
       "  34.05747725408976,\n",
       "  34.54863253165265,\n",
       "  35.15965790270475,\n",
       "  35.67279002471486,\n",
       "  35.13063768535882,\n",
       "  39.59419368658121,\n",
       "  37.694470290319934,\n",
       "  37.71933585469151,\n",
       "  40.990429981934085,\n",
       "  39.62226742264121,\n",
       "  41.688483685677724,\n",
       "  42.069512088885354,\n",
       "  35.20776874536185,\n",
       "  33.95353798152503,\n",
       "  35.27326106522216,\n",
       "  37.57118995652755,\n",
       "  39.392187991739945,\n",
       "  46.69589808781643,\n",
       "  45.28469873741895,\n",
       "  44.47235703569452,\n",
       "  53.09304326377769,\n",
       "  51.95094998644395,\n",
       "  56.11016462230331,\n",
       "  47.57458317515339,\n",
       "  47.30869098440597,\n",
       "  47.00074831209216,\n",
       "  53.33916200363692,\n",
       "  45.06297765363427,\n",
       "  44.535176559361354,\n",
       "  44.530921666671034,\n",
       "  52.104485796334416,\n",
       "  47.00727808159652,\n",
       "  51.77559675345442,\n",
       "  51.14604362963304,\n",
       "  51.49197455777082,\n",
       "  61.805746825693404,\n",
       "  60.84290064534845,\n",
       "  51.11305442372131],\n",
       " 6: [31.812830659773237,\n",
       "  31.80531690177581,\n",
       "  31.195594615243188,\n",
       "  34.68927325061392,\n",
       "  32.6037506583923,\n",
       "  33.14254428478425,\n",
       "  33.08678314176326,\n",
       "  31.57271102597082,\n",
       "  33.64278276753856,\n",
       "  33.868572946006104,\n",
       "  31.91426332859899,\n",
       "  30.539778129147358,\n",
       "  32.00277519392752,\n",
       "  33.53348157772524,\n",
       "  32.157943183770286,\n",
       "  34.86285919024522,\n",
       "  33.442089040181685,\n",
       "  35.01156747522357,\n",
       "  37.23986333205215,\n",
       "  39.38682953771059,\n",
       "  33.635367125035636,\n",
       "  44.72396011725287,\n",
       "  44.32464125384679,\n",
       "  44.17679597939439,\n",
       "  51.82687062148719,\n",
       "  46.917990256961076,\n",
       "  44.377460083432084,\n",
       "  51.11263357439431],\n",
       " 7: [30.958629941880634,\n",
       "  29.437300317417076,\n",
       "  31.194688345903852,\n",
       "  32.51981848057306,\n",
       "  31.57070601748839,\n",
       "  30.4149901700346,\n",
       "  33.26543290315887,\n",
       "  44.03662151270498],\n",
       " 8: [29.4263844599084]}"
      ]
     },
     "execution_count": 12,
     "metadata": {},
     "output_type": "execute_result"
    }
   ],
   "source": [
    "rss_values"
   ]
  },
  {
   "cell_type": "markdown",
   "metadata": {},
   "source": [
    "## Plot RSS for Subsets"
   ]
  },
  {
   "cell_type": "code",
   "execution_count": 13,
   "metadata": {},
   "outputs": [
    {
     "data": {
      "text/plain": [
       "Text(0,0.5,u'Residual Sum-Of-Squares')"
      ]
     },
     "execution_count": 13,
     "metadata": {},
     "output_type": "execute_result"
    },
    {
     "data": {
      "image/png": "[encoded data removed]",
      "text/plain": [
       "<matplotlib.figure.Figure at 0x7f2c2acbef50>"
      ]
     },
     "metadata": {},
     "output_type": "display_data"
    }
   ],
   "source": [
    "# set x values according to the key and corresponding length of its dictionary\n",
    "x = [j for j in range(1,9) for k in range(len(rss_values[j]))]\n",
    "\n",
    "# set y values to k subsets(1-8)\n",
    "y = []\n",
    "for k in rss_values.keys():\n",
    "    y += rss_values[k]\n",
    "\n",
    "# graph scatter plot\n",
    "plt.scatter(x,y)\n",
    "plt.title(\"All Possible Subset Models for Prostate Cancer Data\")\n",
    "plt.xlabel(\"Subset Size k\")\n",
    "plt.ylabel(\"Residual Sum-Of-Squares\")"
   ]
  },
  {
   "cell_type": "markdown",
   "metadata": {},
   "source": [
    "## Part B: Digits Data Model"
   ]
  },
  {
   "cell_type": "code",
   "execution_count": 14,
   "metadata": {},
   "outputs": [
    {
     "name": "stdout",
     "output_type": "stream",
     "text": [
      "Digits data set: (1797, 64)\n",
      "X_train data set: (1203, 64)\n",
      "y_train target array: (1203,)\n",
      "X_test data set: (594, 64)\n",
      "y_test target array: (594,)\n"
     ]
    }
   ],
   "source": [
    "# Load the data set\n",
    "digits = datasets.load_digits()\n",
    "\n",
    "# Training data set\n",
    "X_digits = digits.data\n",
    "\n",
    "# Target data set \n",
    "y_digits = digits.target\n",
    "\n",
    "# Allocate 2/3 of the data set as training & 1/3 as testing\n",
    "X_train, X_test, y_train, y_test = train_test_split(X_digits, y_digits, test_size=0.33)\n",
    "\n",
    "# Print size of data subsets to verify splitting\n",
    "print(\"Digits data set: {}\".format(digits.data.shape))\n",
    "print(\"X_train data set: {}\".format(X_train.shape))\n",
    "print(\"y_train target array: {}\".format(y_train.shape))\n",
    "print(\"X_test data set: {}\".format(X_test.shape))\n",
    "print(\"y_test target array: {}\".format(y_test.shape))"
   ]
  },
  {
   "cell_type": "code",
   "execution_count": 15,
   "metadata": {},
   "outputs": [
    {
     "name": "stdout",
     "output_type": "stream",
     "text": [
      "[-1.60313025e-16  1.09051980e-01 -4.40810785e-03 -3.66124952e-02\n",
      "  6.08501962e-02 -1.62095131e-02 -1.85927355e-02  7.71109335e-03\n",
      "  2.73780644e+00 -7.46192760e-02  9.39752704e-02  6.80739937e-02\n",
      " -7.25498116e-02 -5.21401756e-02  6.88859520e-02  2.40199648e-01\n",
      " -1.63828066e+00  3.49217338e-02  7.26996113e-02 -5.65024172e-02\n",
      " -7.62136354e-02  3.14122387e-02 -4.25293247e-02 -3.84839360e-01\n",
      " -3.51417936e-01 -1.46506289e-01  2.11924607e-02  9.42052179e-02\n",
      "  7.90579902e-02  9.72564598e-02 -4.55958363e-02 -2.40986921e+00\n",
      "  1.20459198e-14 -1.36389603e-01  8.27076977e-03  1.26057101e-01\n",
      " -3.45829646e-02  2.13558089e-02 -1.77039686e-02  1.57651669e-14\n",
      "  2.60580439e-02  1.06205768e-01 -4.11633666e-02  7.16049974e-03\n",
      "  1.01349549e-01  5.45490985e-02  1.66278999e-02  1.18802066e-01\n",
      "  6.55330508e-01  2.84204827e-02  3.30721266e-03 -8.41376235e-02\n",
      " -2.00414046e-01 -3.88953902e-02  1.15881789e-01 -1.92212641e-01\n",
      "  0.00000000e+00 -1.26284722e-01  6.51107117e-03 -4.48739394e-02\n",
      " -8.96572628e-03 -8.17033246e-02 -5.74991137e-03 -4.78334909e-02]\n"
     ]
    }
   ],
   "source": [
    "# Create a linear regression object\n",
    "regr = linear_model.LinearRegression()\n",
    "\n",
    "# Fit the linear model to the training data set\n",
    "regr.fit(X_train, y_train)\n",
    "\n",
    "# Predict using the test set\n",
    "y_pred = regr.predict(X_test)\n",
    "\n",
    "print(regr.coef_)"
   ]
  },
  {
   "cell_type": "code",
   "execution_count": 16,
   "metadata": {},
   "outputs": [
    {
     "data": {
      "text/plain": [
       "2247.5064494721983"
      ]
     },
     "execution_count": 16,
     "metadata": {},
     "output_type": "execute_result"
    }
   ],
   "source": [
    "# Residual sum of squares\n",
    "np.sum((regr.predict(X_test) - y_test)**2)"
   ]
  },
  {
   "cell_type": "code",
   "execution_count": 17,
   "metadata": {},
   "outputs": [
    {
     "data": {
      "text/plain": [
       "0.5481668249516408"
      ]
     },
     "execution_count": 17,
     "metadata": {},
     "output_type": "execute_result"
    }
   ],
   "source": [
    "# Explained variance score: 1 is a perfect prediction & 0 is no linear relationship between X and y\n",
    "reg_score = regr.score(X_test, y_test)\n",
    "reg_score"
   ]
  }
 ],
 "metadata": {
  "kernelspec": {
   "display_name": "Python 2",
   "language": "python",
   "name": "python2"
  },
  "language_info": {
   "codemirror_mode": {
    "name": "ipython",
    "version": 2
   },
   "file_extension": ".py",
   "mimetype": "text/x-python",
   "name": "python",
   "nbconvert_exporter": "python",
   "pygments_lexer": "ipython2",
   "version": "2.7.14"
  }
 },
 "nbformat": 4,
 "nbformat_minor": 2
}
