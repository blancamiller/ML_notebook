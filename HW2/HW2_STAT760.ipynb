{
 "cells": [
  {
   "cell_type": "markdown",
   "metadata": {},
   "source": [
    "# HW 2: Apply Linear Regression to Construct a Prostate Cancer Model & Digits Data Model"
   ]
  },
  {
   "cell_type": "markdown",
   "metadata": {},
   "source": [
    "Blanca Miller\n",
    "<br>\n",
    "STAT 760\n",
    "<br>\n",
    "02/06/2018\n",
    "\n",
    "Prostrate Data Info: http://web.stanford.edu/~hastie/ElemStatLearn/datasets/prostate.info.txt \n",
    "<br>\n",
    "Data Set: http://web.stanford.edu/~hastie/ElemStatLearn/datasets/prostate.data\n",
    "\n",
    "Given a training set of prostate cancer linear data, estimate the model parameters using subset selection. \n",
    "\n",
    "## STEPS\n",
    "1. import data\n",
    "2. break data into two groups: train and test\n",
    "3. break the training set into two matrices\n",
    "    - X : design matrix (add column of 1s at beginning)\n",
    "    - y : vector of responses\n",
    "4. convert the X and y data frames into numpy arrays\n",
    "5. standardize the predictors to have unit variance\n",
    "6. estimate weights\n",
    "7. calculate RSS for training set for all possible models\n",
    "8. Graph k by RSS\n",
    "\n",
    "\n",
    "## FUNCTIONS\n",
    "- Fxn evaluates RSS for given X, y, beta\n",
    "- Fxn trains models given list of columns\n",
    "- Fxn generates all possible list of columns\n",
    "- Fxn plot dictionary"
   ]
  },
  {
   "cell_type": "markdown",
   "metadata": {},
   "source": [
    "## Imports"
   ]
  },
  {
   "cell_type": "code",
   "execution_count": 1,
   "metadata": {},
   "outputs": [],
   "source": [
    "import numpy as np\n",
    "import pandas as pd\n",
    "import itertools\n",
    "import matplotlib.pyplot as plt\n",
    "from sklearn import datasets\n",
    "from sklearn import linear_model\n",
    "from sklearn.metrics import r2_score\n",
    "from sklearn.model_selection import train_test_split"
   ]
  },
  {
   "cell_type": "markdown",
   "metadata": {},
   "source": [
    "## Load Data"
   ]
  },
  {
   "cell_type": "code",
   "execution_count": 2,
   "metadata": {},
   "outputs": [],
   "source": [
    "data = pd.read_csv('prostate.data', delimiter='\\t')"
   ]
  },
  {
   "cell_type": "code",
   "execution_count": 3,
   "metadata": {},
   "outputs": [
    {
     "name": "stdout",
     "output_type": "stream",
     "text": [
      "   Unnamed: 0    lcavol   lweight  age      lbph  svi       lcp  gleason  \\\n",
      "0           1 -0.579818  2.769459   50 -1.386294    0 -1.386294        6   \n",
      "1           2 -0.994252  3.319626   58 -1.386294    0 -1.386294        6   \n",
      "2           3 -0.510826  2.691243   74 -1.386294    0 -1.386294        7   \n",
      "3           4 -1.203973  3.282789   58 -1.386294    0 -1.386294        6   \n",
      "4           5  0.751416  3.432373   62 -1.386294    0 -1.386294        6   \n",
      "5           6 -1.049822  3.228826   50 -1.386294    0 -1.386294        6   \n",
      "6           7  0.737164  3.473518   64  0.615186    0 -1.386294        6   \n",
      "7           8  0.693147  3.539509   58  1.536867    0 -1.386294        6   \n",
      "8           9 -0.776529  3.539509   47 -1.386294    0 -1.386294        6   \n",
      "9          10  0.223144  3.244544   63 -1.386294    0 -1.386294        6   \n",
      "\n",
      "   pgg45      lpsa train  \n",
      "0      0 -0.430783     T  \n",
      "1      0 -0.162519     T  \n",
      "2     20 -0.162519     T  \n",
      "3      0 -0.162519     T  \n",
      "4      0  0.371564     T  \n",
      "5      0  0.765468     T  \n",
      "6      0  0.765468     F  \n",
      "7      0  0.854415     T  \n",
      "8      0  1.047319     F  \n",
      "9      0  1.047319     F  \n"
     ]
    }
   ],
   "source": [
    "print(data[0:10])"
   ]
  },
  {
   "cell_type": "markdown",
   "metadata": {},
   "source": [
    "## Functions"
   ]
  },
  {
   "cell_type": "code",
   "execution_count": 4,
   "metadata": {},
   "outputs": [],
   "source": [
    "#evaluates RSS for given X, y, beta\n",
    "def evaluateRSS(df, predictor_subset, beta):\n",
    "    \n",
    "    # generate predictor df\n",
    "    predictor_df = df[predictor_subset]\n",
    "    \n",
    "    # generate response df\n",
    "    response_df = df[\"lpsa\"]\n",
    "    \n",
    "    # convert predictor df to ndarray\n",
    "    predictor_matrix = predictor_df.as_matrix()\n",
    "    \n",
    "    # normalize predictors\n",
    "    predictor_matrix = (predictor_matrix - np.mean(predictor_matrix, axis=0))/np.std(predictor_matrix, axis=0)\n",
    "\n",
    "    # adds constant term 1s to predictor matrix\n",
    "    predictor_matrix = np.c_[np.ones(len(predictor_matrix)), predictor_matrix]\n",
    "    \n",
    "    # convert response df to ndarray\n",
    "    response_matrix = response_df.as_matrix()\n",
    "    \n",
    "    # compute error\n",
    "    e = response_matrix - np.dot(predictor_matrix, beta)\n",
    "    \n",
    "    # return error\n",
    "    return np.dot(e,e)"
   ]
  },
  {
   "cell_type": "code",
   "execution_count": 5,
   "metadata": {},
   "outputs": [],
   "source": [
    "# train model given a list of columns\n",
    "def train(df, predictors_subset):\n",
    "    \n",
    "    # generate predictor df\n",
    "    predictor_df = df[predictors_subset]\n",
    "    \n",
    "    # generate response df\n",
    "    response_df = df[\"lpsa\"]\n",
    "    \n",
    "    # convert predictor df to ndarray\n",
    "    predictor_matrix = predictor_df.as_matrix()\n",
    "    \n",
    "    # normalize predictors\n",
    "    predictor_matrix = (predictor_matrix - np.mean(predictor_matrix, axis=0))/np.std(predictor_matrix, axis=0)\n",
    "\n",
    "    # adds constant term 1s to predictor matrix\n",
    "    predictor_matrix = np.c_[np.ones(len(predictor_matrix)), predictor_matrix]\n",
    "    \n",
    "    # convert response df to ndarray\n",
    "    response_matrix = response_df.as_matrix()\n",
    "    \n",
    "    # fit model by pinv:\n",
    "    # calculate psuedo-inverse\n",
    "    predictor_inverse = np.linalg.pinv(predictor_matrix)\n",
    "    \n",
    "    # multiply pseudo-inverse by response matrix\n",
    "    beta = np.dot(predictor_inverse, response_matrix)\n",
    "    \n",
    "    # return weights\n",
    "    return beta"
   ]
  },
  {
   "cell_type": "code",
   "execution_count": 6,
   "metadata": {},
   "outputs": [],
   "source": [
    "# generates all possible list of columns for each subset\n",
    "def generate_columns(predictors):\n",
    "    \n",
    "    # return all possible subset of predictors - n choose k\n",
    "    n = len(predictors)\n",
    "    \n",
    "    subsets = []\n",
    "    \n",
    "    for k in range(1, n+1):\n",
    "        x = list(itertools.combinations(predictors, k))\n",
    "        x = [list(y) for y in x]\n",
    "        subsets += x \n",
    "        \n",
    "    return subsets"
   ]
  },
  {
   "cell_type": "code",
   "execution_count": 7,
   "metadata": {},
   "outputs": [],
   "source": [
    "def plot(rss_dict):\n",
    "    \n",
    "    # plots subset by rss\n",
    "    fig = plt.figure()\n",
    "    ax = fig.add_subplot(1, 1, 1)\n",
    "    x = rss_dict[:,0]\n",
    "    y = rss_dict[:,1]\n",
    "    ax.scatter(x,y)\n",
    "    plt.show()"
   ]
  },
  {
   "cell_type": "markdown",
   "metadata": {},
   "source": [
    "## Part A: Prostate Cancer Model"
   ]
  },
  {
   "cell_type": "markdown",
   "metadata": {},
   "source": [
    "## Train Prostate Cancer Models"
   ]
  },
  {
   "cell_type": "code",
   "execution_count": 8,
   "metadata": {},
   "outputs": [],
   "source": [
    "predictors = list(data.columns.values[1:9])"
   ]
  },
  {
   "cell_type": "code",
   "execution_count": 9,
   "metadata": {},
   "outputs": [],
   "source": [
    "train_data = data[data.train == 'T']\n",
    "test_data = data[data.train == 'F']"
   ]
  },
  {
   "cell_type": "code",
   "execution_count": 10,
   "metadata": {},
   "outputs": [],
   "source": [
    "# generate all possible subsets for each feature/predictor\n",
    "predictor_subsets = generate_columns(predictors)\n",
    "\n",
    "# create rss list for models\n",
    "rss_values = {k:[] for k in range(1,9)}"
   ]
  },
  {
   "cell_type": "code",
   "execution_count": 11,
   "metadata": {},
   "outputs": [],
   "source": [
    "# loop through each possible subset and evaluate model using RSS\n",
    "for p in predictor_subsets:\n",
    "    beta = train(train_data, p)\n",
    "    rss = evaluateRSS(train_data, p, beta)\n",
    "    rss_values[len(p)].append(rss)"
   ]
  },
  {
   "cell_type": "code",
   "execution_count": 12,
   "metadata": {},
   "outputs": [
    {
     "data": {
      "text/plain": [
       "{1: [44.52858265645385,\n",
       "  73.613540185775335,\n",
       "  91.292039020755482,\n",
       "  89.624912082459488,\n",
       "  66.42240272124414,\n",
       "  73.239391316218757,\n",
       "  84.991790459378052,\n",
       "  76.953236677263263],\n",
       " 2: [37.091845632561338,\n",
       "  44.495642164067419,\n",
       "  39.992304351212333,\n",
       "  42.312584301379623,\n",
       "  44.467567998531834,\n",
       "  44.424078149255507,\n",
       "  43.423103787681718,\n",
       "  73.028097216638173,\n",
       "  73.305459530268365,\n",
       "  51.714246792470377,\n",
       "  56.768034339535888,\n",
       "  63.059181884423303,\n",
       "  57.175054366940252,\n",
       "  87.197409584605992,\n",
       "  64.044028773554828,\n",
       "  71.208857866843857,\n",
       "  83.827432099917743,\n",
       "  75.824639480492948,\n",
       "  55.044014020601956,\n",
       "  64.137962336059871,\n",
       "  78.888337266541214,\n",
       "  69.582295055713956,\n",
       "  64.088802847943214,\n",
       "  63.294934863258128,\n",
       "  62.362702781956301,\n",
       "  71.749951063174379,\n",
       "  70.603509520730938,\n",
       "  76.950883206566914],\n",
       " 3: [36.817229416000025,\n",
       "  36.01516710570592,\n",
       "  34.907748856567864,\n",
       "  37.089787447798514,\n",
       "  36.658492427702328,\n",
       "  35.434033239986206,\n",
       "  39.802309202295788,\n",
       "  42.244606971046714,\n",
       "  44.43777353564316,\n",
       "  44.415174658518076,\n",
       "  43.423016786725107,\n",
       "  35.96948006886921,\n",
       "  39.970852869380721,\n",
       "  39.896830217190455,\n",
       "  38.545461464804418,\n",
       "  41.263782402004438,\n",
       "  42.267033549979999,\n",
       "  41.869161533703867,\n",
       "  44.301168014954449,\n",
       "  42.562229605787095,\n",
       "  43.099943647805276,\n",
       "  72.84486383586156,\n",
       "  51.548299233644642,\n",
       "  56.716510713484887,\n",
       "  62.80914942486244,\n",
       "  57.06730471494464,\n",
       "  48.601324135493357,\n",
       "  55.074650324588212,\n",
       "  62.835263443329488,\n",
       "  56.467668934282329,\n",
       "  49.909275078140865,\n",
       "  48.10158389631021,\n",
       "  47.417428583140726,\n",
       "  54.630336735488498,\n",
       "  53.570614437348148,\n",
       "  57.101450639781923,\n",
       "  54.774354550932962,\n",
       "  63.867968488321203,\n",
       "  78.755678004387065,\n",
       "  69.525536805544945,\n",
       "  62.20614337508249,\n",
       "  62.311130030324009,\n",
       "  61.19660255290141,\n",
       "  70.572267707969075,\n",
       "  69.400798784891393,\n",
       "  75.774282975691193,\n",
       "  52.778138763661516,\n",
       "  52.786771795161172,\n",
       "  51.530655271190874,\n",
       "  63.206685901646033,\n",
       "  61.856715635150863,\n",
       "  69.54806242205423,\n",
       "  62.448644696209527,\n",
       "  62.052388626434976,\n",
       "  62.173911688862894,\n",
       "  70.571758668498077],\n",
       " 4: [35.464238001473191,\n",
       "  34.712129622912379,\n",
       "  36.8142026323154,\n",
       "  36.049948120539554,\n",
       "  34.815976423396407,\n",
       "  32.81499474881555,\n",
       "  35.997877720345642,\n",
       "  35.667124547041951,\n",
       "  34.256787963135594,\n",
       "  34.273694721437316,\n",
       "  34.606688894416209,\n",
       "  34.074151863327096,\n",
       "  36.604275512383893,\n",
       "  34.746685114030711,\n",
       "  35.328554300945314,\n",
       "  35.762472367207536,\n",
       "  39.778736027296191,\n",
       "  39.594656768563958,\n",
       "  38.084320496054282,\n",
       "  41.203154292512664,\n",
       "  42.223637529440829,\n",
       "  41.849759194967582,\n",
       "  44.298548108223493,\n",
       "  42.546423826417332,\n",
       "  43.078113811846613,\n",
       "  35.357266631281469,\n",
       "  35.945795880621787,\n",
       "  35.493291436340279,\n",
       "  39.893073071050566,\n",
       "  38.238086420070047,\n",
       "  37.996532935990317,\n",
       "  40.999543720120002,\n",
       "  39.623312100382449,\n",
       "  41.739241310987772,\n",
       "  42.070406824624442,\n",
       "  48.59828096432507,\n",
       "  55.073232862732894,\n",
       "  62.482519006110948,\n",
       "  56.209941872824999,\n",
       "  49.839777901032285,\n",
       "  47.995087329407106,\n",
       "  47.397248632534811,\n",
       "  54.525230142741847,\n",
       "  53.525939875523683,\n",
       "  56.924276004445218,\n",
       "  46.706447196632695,\n",
       "  45.651696333928612,\n",
       "  44.692117214812356,\n",
       "  53.365903236442762,\n",
       "  52.153701516246095,\n",
       "  56.438289966912919,\n",
       "  47.663872765972833,\n",
       "  47.325932341640254,\n",
       "  47.096972715960064,\n",
       "  53.443536473783666,\n",
       "  52.663323877186585,\n",
       "  52.786647025948696,\n",
       "  51.526859567513917,\n",
       "  63.156138242952366,\n",
       "  61.818447405520246,\n",
       "  69.463894400533974,\n",
       "  61.432734534698604,\n",
       "  60.870167682747606,\n",
       "  61.168085348682801,\n",
       "  69.391009945230607,\n",
       "  51.77603907379109,\n",
       "  51.150469708901412,\n",
       "  51.49219322086384,\n",
       "  61.852731001239853,\n",
       "  61.865063596479814],\n",
       " 5: [32.28443746269631,\n",
       "  35.44384366134495,\n",
       "  34.704357000907613,\n",
       "  33.18849557681235,\n",
       "  34.083344003155155,\n",
       "  34.170208530567379,\n",
       "  33.644414586126189,\n",
       "  35.943402221663973,\n",
       "  33.916491474706113,\n",
       "  34.802458627723276,\n",
       "  32.322836795582703,\n",
       "  32.636848329725531,\n",
       "  32.069447332331798,\n",
       "  35.665535924859874,\n",
       "  33.835525242944549,\n",
       "  34.03813696596756,\n",
       "  33.649790928897154,\n",
       "  32.21753338431634,\n",
       "  34.057477254089768,\n",
       "  34.54863253165265,\n",
       "  35.159657902704765,\n",
       "  35.672790024714857,\n",
       "  35.13063768535882,\n",
       "  39.594193686581214,\n",
       "  37.694470290319927,\n",
       "  37.719335854691501,\n",
       "  40.990429981934092,\n",
       "  39.622267422641208,\n",
       "  41.688483685677724,\n",
       "  42.069512088885361,\n",
       "  35.207768745361847,\n",
       "  33.953537981525031,\n",
       "  35.273261065222151,\n",
       "  37.571189956527554,\n",
       "  39.392187991739952,\n",
       "  46.695898087816417,\n",
       "  45.284698737418957,\n",
       "  44.472357035694529,\n",
       "  53.09304326377768,\n",
       "  51.950949986443959,\n",
       "  56.110164622303316,\n",
       "  47.574583175153386,\n",
       "  47.30869098440597,\n",
       "  47.000748312092156,\n",
       "  53.339162003636915,\n",
       "  45.062977653634263,\n",
       "  44.535176559361354,\n",
       "  44.530921666671041,\n",
       "  52.104485796334416,\n",
       "  47.007278081596525,\n",
       "  51.77559675345443,\n",
       "  51.14604362963302,\n",
       "  51.491974557770831,\n",
       "  61.805746825693397,\n",
       "  60.842900645348436,\n",
       "  51.113054423721309],\n",
       " 6: [31.812830659773233,\n",
       "  31.805316901775825,\n",
       "  31.195594615243188,\n",
       "  34.689273250613915,\n",
       "  32.6037506583923,\n",
       "  33.14254428478425,\n",
       "  33.086783141763263,\n",
       "  31.572711025970815,\n",
       "  33.642782767538563,\n",
       "  33.868572946006104,\n",
       "  31.914263328598985,\n",
       "  30.539778129147358,\n",
       "  32.002775193927519,\n",
       "  33.53348157772524,\n",
       "  32.157943183770286,\n",
       "  34.86285919024521,\n",
       "  33.442089040181685,\n",
       "  35.011567475223572,\n",
       "  37.23986333205216,\n",
       "  39.386829537710604,\n",
       "  33.635367125035629,\n",
       "  44.723960117252872,\n",
       "  44.324641253846785,\n",
       "  44.176795979394399,\n",
       "  51.826870621487188,\n",
       "  46.917990256961076,\n",
       "  44.377460083432084,\n",
       "  51.112633574394316],\n",
       " 7: [30.958629941880631,\n",
       "  29.437300317417076,\n",
       "  31.194688345903845,\n",
       "  32.519818480573058,\n",
       "  31.570706017488391,\n",
       "  30.414990170034599,\n",
       "  33.26543290315886,\n",
       "  44.03662151270499],\n",
       " 8: [29.426384459908398]}"
      ]
     },
     "execution_count": 12,
     "metadata": {},
     "output_type": "execute_result"
    }
   ],
   "source": [
    "rss_values"
   ]
  },
  {
   "cell_type": "markdown",
   "metadata": {},
   "source": [
    "## Plot RSS for Subsets"
   ]
  },
  {
   "cell_type": "code",
   "execution_count": 13,
   "metadata": {},
   "outputs": [
    {
     "data": {
      "text/plain": [
       "<matplotlib.text.Text at 0x7f55768cc850>"
      ]
     },
     "execution_count": 13,
     "metadata": {},
     "output_type": "execute_result"
    },
    {
     "data": {
      "image/png": "[encoded data removed]",
      "text/plain": [
       "<matplotlib.figure.Figure at 0x7f55b7738590>"
      ]
     },
     "metadata": {},
     "output_type": "display_data"
    }
   ],
   "source": [
    "# set x values according to the key and corresponding length of its dictionary\n",
    "x = [j for j in range(1,9) for k in range(len(rss_values[j]))]\n",
    "\n",
    "# set y values to k subsets(1-8)\n",
    "y = []\n",
    "for k in rss_values.keys():\n",
    "    y += rss_values[k]\n",
    "\n",
    "# graph scatter plot\n",
    "plt.scatter(x,y)\n",
    "plt.title(\"All Possible Subset Models for Prostate Cancer Data\")\n",
    "plt.xlabel(\"Subset Size k\")\n",
    "plt.ylabel(\"Residual Sum-Of-Squares\")"
   ]
  },
  {
   "cell_type": "markdown",
   "metadata": {},
   "source": [
    "## Part B: Digits Data Model"
   ]
  },
  {
   "cell_type": "code",
   "execution_count": 14,
   "metadata": {},
   "outputs": [
    {
     "name": "stdout",
     "output_type": "stream",
     "text": [
      "Digits data set: (1797, 64)\n",
      "X_train data set: (1203, 64)\n",
      "y_train target array: (1203,)\n",
      "X_test data set: (594, 64)\n",
      "y_test target array: (594,)\n"
     ]
    }
   ],
   "source": [
    "# Load the data set\n",
    "digits = datasets.load_digits()\n",
    "\n",
    "# Training data set\n",
    "X_digits = digits.data\n",
    "\n",
    "# Target data set \n",
    "y_digits = digits.target\n",
    "\n",
    "# Allocate 2/3 of the data set as training & 1/3 as testing\n",
    "X_train, X_test, y_train, y_test = train_test_split(X_digits, y_digits, test_size=0.33)\n",
    "\n",
    "# Print size of data subsets to verify splitting\n",
    "print(\"Digits data set: {}\".format(digits.data.shape))\n",
    "print(\"X_train data set: {}\".format(X_train.shape))\n",
    "print(\"y_train target array: {}\".format(y_train.shape))\n",
    "print(\"X_test data set: {}\".format(X_test.shape))\n",
    "print(\"y_test target array: {}\".format(y_test.shape))"
   ]
  },
  {
   "cell_type": "code",
   "execution_count": 15,
   "metadata": {},
   "outputs": [
    {
     "name": "stdout",
     "output_type": "stream",
     "text": [
      "[ -1.94280340e-15  -2.89979657e-02   1.24287230e-03  -1.06973050e-02\n",
      "   4.38643781e-02  -1.65447148e-02  -2.00096106e-02   2.34955480e-02\n",
      "   8.74096945e-01  -3.12712915e-02   9.63255032e-02   4.05234971e-02\n",
      "  -5.95940201e-02  -6.59114040e-02   1.05233510e-01   1.68547641e-01\n",
      "   6.10949342e-02   1.89737977e-02   7.85374735e-02  -4.80103630e-02\n",
      "  -7.47479284e-02   3.95504178e-02  -5.61130058e-02  -3.46495044e-01\n",
      "  -3.63275601e+00  -1.58983369e-01   4.02572888e-02   9.12299099e-02\n",
      "   9.10485724e-02   7.73169368e-02  -1.57133999e-04  -1.32269712e+00\n",
      "   1.97966643e-14  -1.56139892e-01  -1.17031752e-02   1.32457386e-01\n",
      "  -5.83320267e-02   4.98255222e-02  -1.70400013e-02   1.70002901e-14\n",
      "   7.61362376e-02   9.69295065e-02  -2.49461828e-02   7.47353688e-03\n",
      "   1.30010714e-01   3.40584188e-02   3.67188004e-02  -1.55143391e-02\n",
      "   8.18111982e-01   4.46771349e-02  -8.21372475e-03  -7.25152141e-02\n",
      "  -2.08298482e-01  -1.86824314e-02   7.50105484e-02  -8.94214173e-02\n",
      "  -2.20255711e+00  -4.52896702e-02  -1.92508549e-03  -6.65000804e-02\n",
      "   4.30295237e-03  -9.30775110e-02   3.11597035e-02  -1.01808602e-01]\n"
     ]
    }
   ],
   "source": [
    "# Create a linear regression object\n",
    "regr = linear_model.LinearRegression()\n",
    "\n",
    "# Fit the linear model to the training data set\n",
    "regr.fit(X_train, y_train)\n",
    "\n",
    "# Predict using the test set\n",
    "y_pred = regr.predict(X_test)\n",
    "\n",
    "print(regr.coef_)"
   ]
  },
  {
   "cell_type": "code",
   "execution_count": 16,
   "metadata": {},
   "outputs": [
    {
     "data": {
      "text/plain": [
       "2094.8172659088614"
      ]
     },
     "execution_count": 16,
     "metadata": {},
     "output_type": "execute_result"
    }
   ],
   "source": [
    "# Residual sum of squares\n",
    "np.sum((regr.predict(X_test) - y_test)**2)"
   ]
  },
  {
   "cell_type": "code",
   "execution_count": 17,
   "metadata": {},
   "outputs": [
    {
     "data": {
      "text/plain": [
       "0.55782504133663546"
      ]
     },
     "execution_count": 17,
     "metadata": {},
     "output_type": "execute_result"
    }
   ],
   "source": [
    "# Explained variance score: 1 is a perfect prediction & 0 is no linear relationship between X and y\n",
    "reg_score = regr.score(X_test, y_test)\n",
    "reg_score"
   ]
  }
 ],
 "metadata": {
  "kernelspec": {
   "display_name": "Python 2",
   "language": "python",
   "name": "python2"
  },
  "language_info": {
   "codemirror_mode": {
    "name": "ipython",
    "version": 2
   },
   "file_extension": ".py",
   "mimetype": "text/x-python",
   "name": "python",
   "nbconvert_exporter": "python",
   "pygments_lexer": "ipython2",
   "version": "2.7.12"
  }
 },
 "nbformat": 4,
 "nbformat_minor": 2
}
