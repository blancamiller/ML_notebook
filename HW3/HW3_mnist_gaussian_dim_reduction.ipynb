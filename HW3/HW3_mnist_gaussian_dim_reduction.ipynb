{
 "cells": [
  {
   "cell_type": "markdown",
   "metadata": {},
   "source": [
    "# HW 3: Classify the Digits Data Set & Reduce its Dimensionality "
   ]
  },
  {
   "cell_type": "markdown",
   "metadata": {},
   "source": [
    "Blanca Miller\n",
    "STAT 760\n",
    "02/15/2018\n",
    "\n",
    "Objective: Given the MNIST data set, reduce the dimensionality of the data using eigenvalues, and classify the data according to the chosen features (max eigenvalues chosen).\n",
    "\n",
    "\n",
    "## STEPS\n",
    "\n",
    "1. Import digits training and testing data sets.\n",
    "2. Run pca: compute the eigenvalues for the data set. \n",
    "3. Choose principal components. \n",
    "4. Compute mean for each class.\n",
    "5. Compute covariance for each class.\n",
    "6. For new points, compute the probablity of beloging to each classes using the mahalanobis distance. \n",
    "\n",
    "## Data Set \n",
    "- Each datapoint is a 8x8 image of a digit.\n",
    "- 10 classes\n",
    "- ~180 samples per class\n",
    "- 1797 total samples\n",
    "- Integers 0-16 "
   ]
  },
  {
   "cell_type": "markdown",
   "metadata": {},
   "source": [
    "## Imports"
   ]
  },
  {
   "cell_type": "code",
   "execution_count": 1,
   "metadata": {},
   "outputs": [],
   "source": [
    "import sklearn\n",
    "import numpy as np\n",
    "import matplotlib.pyplot as plt\n",
    "from sklearn import decomposition, datasets, preprocessing\n",
    "from sklearn.model_selection import train_test_split \n",
    "from sklearn.naive_bayes import GaussianNB"
   ]
  },
  {
   "cell_type": "markdown",
   "metadata": {},
   "source": [
    "## Import Data & Set Training and Test Sets"
   ]
  },
  {
   "cell_type": "code",
   "execution_count": 2,
   "metadata": {},
   "outputs": [
    {
     "name": "stdout",
     "output_type": "stream",
     "text": [
      "Digits Data: (1797, 64)\n",
      "X_train: (1203, 64)\n",
      "y_train: (1203,)\n",
      "X_test: (594, 64)\n",
      "y_test: (594,)\n"
     ]
    }
   ],
   "source": [
    "digits = datasets.load_digits()\n",
    "X_digits = digits.data\n",
    "y_digits = digits.target\n",
    "X_train, X_test, y_train, y_test = train_test_split(X_digits, y_digits, test_size=0.33, random_state=42)\n",
    "print(\"Digits Data: {}\".format(digits.data.shape))\n",
    "print(\"X_train: {}\".format(X_train.shape))\n",
    "print(\"y_train: {}\".format(y_train.shape))\n",
    "print(\"X_test: {}\".format(X_test.shape))\n",
    "print(\"y_test: {}\".format(y_test.shape))"
   ]
  },
  {
   "cell_type": "code",
   "execution_count": 3,
   "metadata": {},
   "outputs": [
    {
     "data": {
      "text/plain": [
       "<matplotlib.figure.Figure at 0x7f9361f73c50>"
      ]
     },
     "metadata": {},
     "output_type": "display_data"
    },
    {
     "data": {
      "image/png": "[encoded data removed]",
      "text/plain": [
       "<matplotlib.figure.Figure at 0x7f93a88f8550>"
      ]
     },
     "metadata": {},
     "output_type": "display_data"
    }
   ],
   "source": [
    "plt.gray()\n",
    "plt.matshow(digits.images[0])\n",
    "plt.show()"
   ]
  },
  {
   "cell_type": "markdown",
   "metadata": {},
   "source": [
    "## Standardize Data & Run PCA"
   ]
  },
  {
   "cell_type": "code",
   "execution_count": 4,
   "metadata": {},
   "outputs": [
    {
     "name": "stdout",
     "output_type": "stream",
     "text": [
      "[[ 0.         -0.35276262 -1.07887239 ...,  1.06058522 -0.505317\n",
      "  -0.19535349]\n",
      " [ 0.         -0.35276262 -0.87246598 ...,  0.03591595 -0.505317\n",
      "  -0.19535349]\n",
      " [ 0.          0.72432731  1.39800449 ..., -1.15953153 -0.505317\n",
      "  -0.19535349]\n",
      " ..., \n",
      " [ 0.         -0.35276262  0.77878527 ...,  1.57291985 -0.02285958\n",
      "  -0.19535349]\n",
      " [ 0.         -0.35276262 -0.87246598 ..., -1.15953153 -0.505317\n",
      "  -0.19535349]\n",
      " [ 0.         -0.35276262 -0.87246598 ..., -0.98875332 -0.505317\n",
      "  -0.19535349]]\n"
     ]
    },
    {
     "data": {
      "text/plain": [
       "PCA(copy=True, iterated_power='auto', n_components=2, random_state=None,\n",
       "  svd_solver='auto', tol=0.0, whiten=False)"
      ]
     },
     "execution_count": 4,
     "metadata": {},
     "output_type": "execute_result"
    }
   ],
   "source": [
    "# Standardize training set\n",
    "X_train = preprocessing.scale(X_train) \n",
    "print(X_train)\n",
    "\n",
    "# Run PCA\n",
    "pca = decomposition.PCA(n_components=2)\n",
    "pca.fit(X_train)"
   ]
  },
  {
   "cell_type": "markdown",
   "metadata": {},
   "source": [
    "## Plot PCA"
   ]
  },
  {
   "cell_type": "code",
   "execution_count": 5,
   "metadata": {
    "scrolled": true
   },
   "outputs": [
    {
     "data": {
      "text/plain": [
       "(0.0, 1.0, 5.8000000000000007, 7.6000000000000005)"
      ]
     },
     "execution_count": 5,
     "metadata": {},
     "output_type": "execute_result"
    },
    {
     "data": {
      "image/png": "[encoded data removed]",
      "text/plain": [
       "<matplotlib.figure.Figure at 0x7f935fdc3a90>"
      ]
     },
     "metadata": {},
     "output_type": "display_data"
    }
   ],
   "source": [
    "plt.figure(1, figsize=(4, 3))\n",
    "plt.clf()\n",
    "plt.axes([.2, .2, .7, .7]) # check if these are set correctly\n",
    "plt.plot(pca.explained_variance_, linewidth=2) \n",
    "plt.axis()"
   ]
  },
  {
   "cell_type": "markdown",
   "metadata": {},
   "source": [
    "## Compute Mean & Stardard Deviation for Each Class"
   ]
  },
  {
   "cell_type": "code",
   "execution_count": 7,
   "metadata": {},
   "outputs": [
    {
     "name": "stdout",
     "output_type": "stream",
     "text": [
      "[[ 1.99045734  1.43807137 -0.51811749 ...,  3.23704678  1.12072065\n",
      "  -0.43302576]\n",
      " [-0.79074114  1.15429971 -4.4498883  ..., -1.00965238 -0.07501145\n",
      "   1.47992984]\n",
      " [-2.54622066  2.27747987 -1.32471324 ..., -0.93473003 -0.49007804\n",
      "   0.08429554]\n",
      " ..., \n",
      " [-1.67418871  2.28315405 -0.36096841 ..., -3.08454413  1.11995801\n",
      "   0.49412231]\n",
      " [ 1.66920345  1.83447617 -0.15898625 ..., -0.42579736  1.11555181\n",
      "   0.07653046]\n",
      " [ 0.31276722 -0.15285234 -4.48961499 ..., -0.6737512  -0.93615565\n",
      "   1.62699766]]\n"
     ]
    }
   ],
   "source": [
    "# Reduce Dimensionality of Data\n",
    "pcas = [decomposition.PCA(n_components=k) for k in range(0,10)]\n",
    "means = np.zeros((10, 10))\n",
    "standard_devs = np.zeros((10, 10))\n",
    "for k in range(1,10):\n",
    "    x_reduced = pcas[k].fit_transform(X_train)\n",
    "    x_reduced.mean(axis=0)\n",
    "    x_reduced.std(axis=0)\n",
    "print(x_reduced)"
   ]
  }
 ],
 "metadata": {
  "kernelspec": {
   "display_name": "Python 2",
   "language": "python",
   "name": "python2"
  },
  "language_info": {
   "codemirror_mode": {
    "name": "ipython",
    "version": 2
   },
   "file_extension": ".py",
   "mimetype": "text/x-python",
   "name": "python",
   "nbconvert_exporter": "python",
   "pygments_lexer": "ipython2",
   "version": "2.7.12"
  }
 },
 "nbformat": 4,
 "nbformat_minor": 2
}
