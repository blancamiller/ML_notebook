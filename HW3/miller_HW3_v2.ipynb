{
 "cells": [
  {
   "cell_type": "markdown",
   "metadata": {},
   "source": [
    "## HW3: Classify the Digits Data Set Using Principal Component Analysis"
   ]
  },
  {
   "cell_type": "markdown",
   "metadata": {},
   "source": [
    "Blanca Miller\n",
    "<br>\n",
    "STAT 760 \n",
    "<br>\n",
    "02/15/2018\n",
    "\n",
    "__Objective:__ Using the MNIST data set, reduce the dimensionality of the training data using eigenvalues and classify the test data according to the chosen features. This approach is called principal component analysis (pca). Decomposing a multivariate data set using a set of orthogonal components (eigenvalues) allows the maximum information about the data to be held, while simplifying & generalizing the model for test data. After reducing the dimensionality of the data set, the Mahalanobis distance is used to classify the testing data set. The Mahalanobis Distance provides a means of computing the corresponding probability for each data point and every class in the set.   "
   ]
  },
  {
   "cell_type": "markdown",
   "metadata": {},
   "source": [
    "## STEPS\n",
    "1. Import librabries\n",
    "2. Import data sets\n",
    "3. Standardize data\n",
    "4. Run PCA to choose max components and reduce the data's dimensionality\n",
    "5. Compute mean and standard deviation for each class\n",
    "6. Plot the gaussian distribution for each class\n",
    "7. Use Mahalanobis' Distance to compute the probability of test data being in each class"
   ]
  },
  {
   "cell_type": "markdown",
   "metadata": {},
   "source": [
    "## Data Set\n",
    "- Each data point is an 8x8 image of a digit\n",
    "- 10 classes compose the target set \n",
    "- ~180 samples per class\n",
    "- 1797 total samples \n",
    "- Data set integers: 0-16"
   ]
  },
  {
   "cell_type": "markdown",
   "metadata": {},
   "source": [
    "## Functions\n",
    "- Compute the mean\n",
    "- Compute the sample covariance matrix\n",
    "- Evaluate the model using the Mahalanobis distance "
   ]
  },
  {
   "cell_type": "markdown",
   "metadata": {},
   "source": [
    "## Imports"
   ]
  },
  {
   "cell_type": "code",
   "execution_count": 1,
   "metadata": {
    "collapsed": true
   },
   "outputs": [],
   "source": [
    "import sklearn\n",
    "import numpy as np\n",
    "import matplotlib.pyplot as plt\n",
    "from sklearn import decomposition, datasets, preprocessing\n",
    "from sklearn.model_selection import train_test_split\n",
    "from sklearn.naive_bayes import GaussianNB\n",
    "from scipy.spatial.distance import mahalanobis"
   ]
  },
  {
   "cell_type": "markdown",
   "metadata": {},
   "source": [
    "## Import Digits Training & Testing Data Sets"
   ]
  },
  {
   "cell_type": "code",
   "execution_count": 2,
   "metadata": {},
   "outputs": [
    {
     "name": "stdout",
     "output_type": "stream",
     "text": [
      "Digits data set: (1797, 64)\n",
      "X_train data set: (1203, 64)\n",
      "y_train target array: (1203,)\n",
      "X_test data set: (594, 64)\n",
      "y_test target array: (594,)\n"
     ]
    }
   ],
   "source": [
    "# Load the data set\n",
    "digits = datasets.load_digits()\n",
    "\n",
    "# Training data set\n",
    "X_digits = digits.data\n",
    "\n",
    "# Target data set \n",
    "y_digits = digits.target\n",
    "\n",
    "# Allocate 2/3 of the data set as training & 1/3 as testing\n",
    "X_train, X_test, y_train, y_test = train_test_split(X_digits, y_digits, test_size=0.33)\n",
    "\n",
    "# Print size of data subsets to verify splitting\n",
    "print(\"Digits data set: {}\".format(digits.data.shape))\n",
    "print(\"X_train data set: {}\".format(X_train.shape))\n",
    "print(\"y_train target array: {}\".format(y_train.shape))\n",
    "print(\"X_test data set: {}\".format(X_test.shape))\n",
    "print(\"y_test target array: {}\".format(y_test.shape))"
   ]
  },
  {
   "cell_type": "code",
   "execution_count": 3,
   "metadata": {},
   "outputs": [
    {
     "data": {
      "text/plain": [
       "<matplotlib.figure.Figure at 0x7fbe6a981ad0>"
      ]
     },
     "metadata": {},
     "output_type": "display_data"
    },
    {
     "data": {
      "image/png": "[encoded data removed]",
      "text/plain": [
       "<matplotlib.figure.Figure at 0x7fbe6a981a90>"
      ]
     },
     "metadata": {},
     "output_type": "display_data"
    }
   ],
   "source": [
    "# Print digits data point to verify data loading\n",
    "plt.gray()\n",
    "plt.matshow(digits.images[0])\n",
    "plt.show()"
   ]
  },
  {
   "cell_type": "markdown",
   "metadata": {},
   "source": [
    "## Standardize Data"
   ]
  },
  {
   "cell_type": "code",
   "execution_count": 4,
   "metadata": {},
   "outputs": [
    {
     "name": "stdout",
     "output_type": "stream",
     "text": [
      "[[-0.77813144 -0.77813144 -0.77813144 ...,  2.07780616  0.11434906\n",
      "  -0.77813144]\n",
      " [-0.71271935 -0.19827531  1.85950086 ..., -0.71271935 -0.71271935\n",
      "  -0.71271935]\n",
      " [-0.83018435 -0.83018435 -0.83018435 ...,  0.50287153 -0.83018435\n",
      "  -0.83018435]\n",
      " ..., \n",
      " [-0.80469474 -0.80469474 -0.29646648 ..., -0.80469474 -0.80469474\n",
      "  -0.80469474]\n",
      " [-0.81702415 -0.81702415 -0.81702415 ...,  1.03721505 -0.81702415\n",
      "  -0.81702415]\n",
      " [-0.7706927  -0.7706927  -0.7706927  ...,  1.13975682 -0.59701547\n",
      "  -0.7706927 ]]\n"
     ]
    }
   ],
   "source": [
    "# Standardize trainging set to equally weight each component \n",
    "# Set axis to 1 to standardize per sample/vector rather than standardize each feature\n",
    "X_train = preprocessing.scale(X_train, axis=1)\n",
    "X_test = preprocessing.scale(X_test, axis=1)\n",
    "print(X_train)"
   ]
  },
  {
   "cell_type": "markdown",
   "metadata": {},
   "source": [
    "## Function: Compute the Mean"
   ]
  },
  {
   "cell_type": "code",
   "execution_count": 5,
   "metadata": {
    "collapsed": true
   },
   "outputs": [],
   "source": [
    "def mean(features, targets, n_label):\n",
    "    counter = 0\n",
    "    n_avg = np.zeros_like(features[0])\n",
    "    \n",
    "    # loop through labels matrix to find all instances of n_label\n",
    "    for i in range(features.shape[0]):\n",
    "        \n",
    "        if targets[i] == n_label:\n",
    "            \n",
    "            # sum the values for the ith row to the average vector\n",
    "            n_avg += features[i]\n",
    "            \n",
    "            # count the number of instances of the n_label \n",
    "            counter += 1\n",
    "    \n",
    "    # divide the vector by the number of total n_labels\n",
    "    n_avg /= counter\n",
    "    \n",
    "    return n_avg"
   ]
  },
  {
   "cell_type": "markdown",
   "metadata": {},
   "source": [
    "## Function: Compute the Sample Covariance Matrix"
   ]
  },
  {
   "cell_type": "markdown",
   "metadata": {},
   "source": [
    "$Q = \\frac{1}{n-1}\\sum_{i=1}^n (x_i - \\bar{x})(x_i - \\bar{x})^T$"
   ]
  },
  {
   "cell_type": "code",
   "execution_count": 6,
   "metadata": {
    "collapsed": true
   },
   "outputs": [],
   "source": [
    "def cov(features, targets, n_label):\n",
    "    counter = 0\n",
    "    covariance = np.zeros((features.shape[1],features.shape[1]))\n",
    "    \n",
    "    for i in range(features.shape[0]):\n",
    "        if targets[i] == n_label:\n",
    "            \n",
    "            # sum the n_label values & multiply the data by its transpose \n",
    "            # because we standardized the data, we don't subtract the mean\n",
    "            covariance += np.outer(features[i], features[i])\n",
    "            counter += 1     \n",
    "                             \n",
    "    return covariance * (1.0 / (counter-1.0))"
   ]
  },
  {
   "cell_type": "markdown",
   "metadata": {},
   "source": [
    "## Function: Evaluate the Model"
   ]
  },
  {
   "cell_type": "code",
   "execution_count": 7,
   "metadata": {
    "collapsed": true
   },
   "outputs": [],
   "source": [
    "def eval_model(k, X_train, y_train, X_test, y_test):\n",
    "    \n",
    "    # Construct object representing PCA operation, executed by \"fit\" method: \n",
    "    # argument specifies the number of principal components to reduce data to\n",
    "    pca = decomposition.PCA(n_components = k)\n",
    "    \n",
    "    # Execute PCA: identifies n components \n",
    "    pca.fit(X_train)\n",
    "    \n",
    "    # Project data: n dimensional reduced representation\n",
    "    X_train_trans = pca.transform(X_train)\n",
    "    X_test_trans = pca.transform(X_test)\n",
    "    \n",
    "    # compute the mean for each class/target\n",
    "    mus = [mean(X_train_trans, y_train, n_label) for n_label in range(10)]\n",
    "    \n",
    "    # compute the sample covariance matrix for each class/target \n",
    "    sigmas = [cov(X_train_trans, y_train, n_label) for n_label in range(10)]    \n",
    "    \n",
    "    # compute the predicted response for the test set using the mahalanobis distance \n",
    "    y_hats = np.zeros(X_test_trans.shape[0])\n",
    "    \n",
    "    # loop through each test vector\n",
    "    for i in range(X_test_trans.shape[0]): \n",
    "        distance = np.inf\n",
    "        index = -1\n",
    "        \n",
    "        # loop through each class/target for each test vector\n",
    "        for j in range(10):\n",
    "            d = mahalanobis(X_test_trans[i], mus[j], sigmas[j])\n",
    "            if d < distance:\n",
    "                distance = d\n",
    "                index = j\n",
    "                \n",
    "        # array of predictions\n",
    "        y_hats[i] = index\n",
    "    \n",
    "    # compute rss for classification model on test set\n",
    "    return (1.0/X_test_trans.shape[0]) * np.sqrt(np.sum((y_test - y_hats) ** 2))"
   ]
  },
  {
   "cell_type": "markdown",
   "metadata": {
    "collapsed": true
   },
   "source": [
    "## Evaluate Model"
   ]
  },
  {
   "cell_type": "code",
   "execution_count": 8,
   "metadata": {},
   "outputs": [
    {
     "name": "stdout",
     "output_type": "stream",
     "text": [
      "Minimum Error Dimensionality: 11\n"
     ]
    }
   ],
   "source": [
    "rsses = np.zeros(64)\n",
    "error = np.inf\n",
    "index = -1\n",
    "for k in range(1, 64):\n",
    "    rsses[k] = eval_model(k, X_train, y_train, X_test, y_test)\n",
    "    if rsses[k] < error:\n",
    "        error = rsses[k]\n",
    "        index = k\n",
    "print(\"Minimum Error Dimensionality: {}\".format(index))"
   ]
  },
  {
   "cell_type": "code",
   "execution_count": 9,
   "metadata": {},
   "outputs": [
    {
     "name": "stdout",
     "output_type": "stream",
     "text": [
      "(63,)\n"
     ]
    },
    {
     "data": {
      "image/png": "[encoded data removed]",
      "text/plain": [
       "<matplotlib.figure.Figure at 0x7fbe6a981410>"
      ]
     },
     "metadata": {},
     "output_type": "display_data"
    }
   ],
   "source": [
    "# graph scatter plot\n",
    "x = range(1,64)\n",
    "y = rsses[1:]\n",
    "\n",
    "print(y.shape)\n",
    "\n",
    "plt.scatter(x,y)\n",
    "plt.title(\"Principal Component Analysis Using the Mahalanobis Distance\")\n",
    "plt.xlabel(\"Number of Dimensions\")\n",
    "plt.ylabel(\"Residual Sum-Of-Squares\")\n",
    "plt.show()"
   ]
  }
 ],
 "metadata": {
  "kernelspec": {
   "display_name": "Python 2",
   "language": "python",
   "name": "python2"
  },
  "language_info": {
   "codemirror_mode": {
    "name": "ipython",
    "version": 2
   },
   "file_extension": ".py",
   "mimetype": "text/x-python",
   "name": "python",
   "nbconvert_exporter": "python",
   "pygments_lexer": "ipython2",
   "version": "2.7.12"
  }
 },
 "nbformat": 4,
 "nbformat_minor": 2
}
