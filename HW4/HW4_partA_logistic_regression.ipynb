{
 "cells": [
  {
   "cell_type": "markdown",
   "metadata": {},
   "source": [
    "## HW4 Part A: Logistic Regression for Digits Data Set"
   ]
  },
  {
   "cell_type": "markdown",
   "metadata": {},
   "source": [
    "Blanca Miller\n",
    "<br>\n",
    "CS 791\n",
    "<br>\n",
    "03/02/2018\n",
    "\n",
    "__Objective:__ Generate a logistic regression model to model the posterior probabilities for the K classes using linear functions in X. We estimate the probability that the outcome variable assumes a certain value, rather than estimating the value itself. "
   ]
  }
 ],
 "metadata": {
  "kernelspec": {
   "display_name": "Python 2",
   "language": "python",
   "name": "python2"
  },
  "language_info": {
   "codemirror_mode": {
    "name": "ipython",
    "version": 2
   },
   "file_extension": ".py",
   "mimetype": "text/x-python",
   "name": "python",
   "nbconvert_exporter": "python",
   "pygments_lexer": "ipython2",
   "version": "2.7.12"
  }
 },
 "nbformat": 4,
 "nbformat_minor": 2
}
