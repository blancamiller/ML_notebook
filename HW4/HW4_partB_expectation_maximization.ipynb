{
 "cells": [
  {
   "cell_type": "markdown",
   "metadata": {},
   "source": [
    "## HW4 Part B: Expectation Maximization for Digits Data Set"
   ]
  },
  {
   "cell_type": "markdown",
   "metadata": {},
   "source": [
    "Blanca Miller\n",
    "<br>\n",
    "CS 791\n",
    "<br>\n",
    "03/02/2018\n",
    "\n",
    "__Objective:__ Determine the number of Gaussians needed to represent a data set. The Expecatation Maximization (EM) algorithm is an iterative procedure composed of two main processes: the expectation step and the maximization step. The expectation step subdivides the data set into n number of gaussians, then the maximization step recomputes the mean and covariance given a current position. This process is repeated until the local maximum likelihood parameters. \n"
   ]
  }
 ],
 "metadata": {
  "kernelspec": {
   "display_name": "Python 2",
   "language": "python",
   "name": "python2"
  },
  "language_info": {
   "codemirror_mode": {
    "name": "ipython",
    "version": 2
   },
   "file_extension": ".py",
   "mimetype": "text/x-python",
   "name": "python",
   "nbconvert_exporter": "python",
   "pygments_lexer": "ipython2",
   "version": "2.7.14"
  }
 },
 "nbformat": 4,
 "nbformat_minor": 2
}
