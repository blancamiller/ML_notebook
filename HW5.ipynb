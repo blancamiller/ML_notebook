{
 "cells": [
  {
   "cell_type": "markdown",
   "metadata": {},
   "source": [
    "# HW5: Learning Classifier Weights using Perceptron Learning and Gradient Descent"
   ]
  },
  {
   "cell_type": "markdown",
   "metadata": {},
   "source": [
    "Blanca Miller\n",
    "2.08.2018\n",
    "CS 791"
   ]
  },
  {
   "cell_type": "markdown",
   "metadata": {},
   "source": [
    "__Objective:__ \n",
    "- Generate a data set composed of classified points where each data vector is made up of a position and classification.\n",
    "- part a) Find a separating hyperplane using perceptron learning algorithm using a step function. Measure the run time for 10, 50 & 100 points. \n",
    "- part b) Find a separating hyperplane using gradient descent using a sigmoid function. Measure the run time for 10, 50, & 100 points. \n",
    "- Does the run time increase linearly? Explain.\n",
    "\n",
    "Weights map inputs to outputs, thus classifying a set of inputted data. The perceptron learning algorithm (PLA) always finds a hyperplane in a fininte amount of iterations, if a data set is linearly separable. Greadient descent finds the minimun of a function the (non-linear separability) \n",
    "\n",
    "\n",
    "with a step function using the thresholded outputs. "
   ]
  },
  {
   "cell_type": "markdown",
   "metadata": {},
   "source": [
    "__Given:__\n",
    "    - input vector: xi\n",
    "    - target/label: y\n",
    "    - learning rate/eta: η \n",
    "    - weight: wi\n",
    "    - predicted label: y_hat\n",
    "\n",
    "__Perceptron Learning Algorithm:__\n",
    "    - (o) output calculation/activation: y_hat = ∑ wi * xi , where y_hat >= 0 or y_hat < 0\n",
    "    - weight calculation: wi = wi + Δwi\n",
    "    - weight change: Δwi = η(y - y_hat) * xi\n",
    "    \n",
    "__Gradient Descent:__\n",
    "    - "
   ]
  },
  {
   "cell_type": "markdown",
   "metadata": {},
   "source": [
    "## Import Libraries"
   ]
  },
  {
   "cell_type": "code",
   "execution_count": 1,
   "metadata": {},
   "outputs": [],
   "source": [
    "import numpy as np\n",
    "import random\n",
    "from numpy import dot\n",
    "from sklearn.datasets import make_classification\n",
    "import matplotlib.pyplot as plt"
   ]
  },
  {
   "cell_type": "markdown",
   "metadata": {},
   "source": [
    "## Randomly Generate & Plot a data set & labels where n=100"
   ]
  },
  {
   "cell_type": "code",
   "execution_count": 2,
   "metadata": {},
   "outputs": [
    {
     "data": {
      "image/png": "[encoded data removed]",
      "text/plain": [
       "<matplotlib.figure.Figure at 0x7fbcf77766d0>"
      ]
     },
     "metadata": {},
     "output_type": "display_data"
    }
   ],
   "source": [
    "plt.figure(figsize=(8,8))\n",
    "plt.subplots_adjust(bottom=.05, top=.9, left=.05, right=.95)\n",
    "\n",
    "plt.subplot(322)\n",
    "plt.title(\"Two Randomly Generated Classes\")\n",
    "X, y = make_classification(n_features=2, n_redundant=0, n_informative=2,\n",
    "                             n_clusters_per_class=1)\n",
    "plt.scatter(X[:,0], X[:,1], marker='o', c=y, s=25, edgecolor='k')\n",
    "plt.show()"
   ]
  },
  {
   "cell_type": "code",
   "execution_count": 3,
   "metadata": {},
   "outputs": [],
   "source": [
    "#print(X)\n",
    "#print(y)"
   ]
  },
  {
   "cell_type": "markdown",
   "metadata": {},
   "source": [
    "## Perceptron Learning Algorithm"
   ]
  },
  {
   "cell_type": "code",
   "execution_count": 7,
   "metadata": {},
   "outputs": [
    {
     "name": "stdout",
     "output_type": "stream",
     "text": [
      "x: [ 0.21416244 -0.01451119] , y: 1 , result: 0.0731819510893 , error: 0 , weight: [ 0.39672263  0.81186553]\n",
      "x: [ 0.81761136  0.48851423] , y: 1 , result: 0.720972789845 , error: 0 , weight: [ 0.39672263  0.81186553]\n",
      "x: [ 1.27881689 -0.90003632] , y: 0 , result: -0.223372868517 , error: 0 , weight: [ 0.39672263  0.81186553]\n",
      "x: [ 1.60427277 -2.67681317] , y: 0 , result: -1.53676104262 , error: 0 , weight: [ 0.39672263  0.81186553]\n",
      "x: [-0.23954476 -0.08992156] , y: 0 , result: -0.168037040258 , error: 0 , weight: [ 0.39672263  0.81186553]\n",
      "x: [-0.4977284  -0.93111561] , y: 1 , result: -0.953400786601 , error: 1 , weight: [ 0.29717694  0.62564241]\n",
      "x: [ 0.64672462  1.70093561] , y: 1 , result: 1.25636910061 , error: 0 , weight: [ 0.29717694  0.62564241]\n",
      "x: [ 2.15418187 -2.15838687] , y: 0 , result: -0.710205181502 , error: 0 , weight: [ 0.29717694  0.62564241]\n",
      "x: [ 0.33494561  0.60694078] , y: 1 , result: 0.479266006015 , error: 0 , weight: [ 0.29717694  0.62564241]\n",
      "x: [-0.05728888  0.57014332] , y: 1 , result: 0.339680907946 , error: 0 , weight: [ 0.29717694  0.62564241]\n",
      "x: [ 2.04089667 -2.03025478] , y: 0 , result: -0.663706058492 , error: 0 , weight: [ 0.29717694  0.62564241]\n",
      "x: [ 0.85085738 -1.72253194] , y: 0 , result: -0.824833839804 , error: 0 , weight: [ 0.29717694  0.62564241]\n",
      "x: [ 2.31151156  2.65143615] , y: 1 , result: 2.34577884734 , error: 0 , weight: [ 0.29717694  0.62564241]\n",
      "x: [ 0.33494561  0.60694078] , y: 1 , result: 0.479266006015 , error: 0 , weight: [ 0.29717694  0.62564241]\n",
      "x: [ 2.15418187 -2.15838687] , y: 0 , result: -0.710205181502 , error: 0 , weight: [ 0.29717694  0.62564241]\n",
      "x: [ 2.04522279 -0.61119174] , y: 0 , result: 0.225405588836 , error: -1 , weight: [-0.11186761  0.74788076]\n",
      "x: [ 0.42375848  0.54906432] , y: 1 , result: 0.363229789423 , error: 0 , weight: [-0.11186761  0.74788076]\n",
      "x: [ 0.90109019  1.07567516] , y: 1 , result: 0.703673946386 , error: 0 , weight: [-0.11186761  0.74788076]\n",
      "x: [ 1.48190436 -2.26713603] , y: 0 , result: -1.8613245121 , error: 0 , weight: [-0.11186761  0.74788076]\n",
      "x: [ 1.60427277 -2.67681317] , y: 0 , result: -2.1814032283 , error: 0 , weight: [-0.11186761  0.74788076]\n",
      "x: [ 2.00213224 -1.65651054] , y: 0 , result: -1.4628461123 , error: 0 , weight: [-0.11186761  0.74788076]\n",
      "x: [ 0.80632976 -1.59408923] , y: 0 , result: -1.28239084748 , error: 0 , weight: [-0.11186761  0.74788076]\n",
      "x: [ 0.63782196 -1.83511468] , y: 0 , result: -1.44379857638 , error: 0 , weight: [-0.11186761  0.74788076]\n",
      "x: [ 0.79125511  0.70899793] , y: 1 , result: 0.441730085711 , error: 0 , weight: [-0.11186761  0.74788076]\n",
      "x: [ 0.36062147  0.03748977] , y: 0 , result: -0.0123039858673 , error: 0 , weight: [-0.11186761  0.74788076]\n",
      "x: [ 1.421129    0.75717833] , y: 1 , result: 0.407300793075 , error: 0 , weight: [-0.11186761  0.74788076]\n",
      "x: [ 2.20117012  1.76586114] , y: 1 , result: 1.07441392177 , error: 0 , weight: [-0.11186761  0.74788076]\n",
      "x: [ 0.89041459 -1.62783753] , y: 0 , result: -1.31703692216 , error: 0 , weight: [-0.11186761  0.74788076]\n",
      "x: [ 1.48190436 -2.26713603] , y: 0 , result: -1.8613245121 , error: 0 , weight: [-0.11186761  0.74788076]\n",
      "x: [ 2.248294    2.12106225] , y: 1 , result: 1.3347903575 , error: 0 , weight: [-0.11186761  0.74788076]\n",
      "x: [ 1.37645317  0.54670159] , y: 1 , result: 0.254887066446 , error: 0 , weight: [-0.11186761  0.74788076]\n",
      "x: [ 0.46880883 -0.58317219] , y: 0 , result: -0.488587781066 , error: 0 , weight: [-0.11186761  0.74788076]\n",
      "x: [ 0.36062147  0.03748977] , y: 0 , result: -0.0123039858673 , error: 0 , weight: [-0.11186761  0.74788076]\n",
      "x: [ 1.48384747  1.25942325] , y: 1 , result: 0.775903938818 , error: 0 , weight: [-0.11186761  0.74788076]\n",
      "x: [ 1.59139336 -0.99792808] , y: 0 , result: -0.924356583876 , error: 0 , weight: [-0.11186761  0.74788076]\n",
      "x: [ 1.31172608 -1.33431608] , y: 0 , result: -1.14464899022 , error: 0 , weight: [-0.11186761  0.74788076]\n",
      "x: [ 1.421129    0.75717833] , y: 1 , result: 0.407300793075 , error: 0 , weight: [-0.11186761  0.74788076]\n",
      "x: [ 1.08952373 -0.19389545] , y: 0 , result: -0.266893096824 , error: 0 , weight: [-0.11186761  0.74788076]\n",
      "x: [ 0.8824019   0.40369027] , y: 1 , result: 0.203199987483 , error: 0 , weight: [-0.11186761  0.74788076]\n",
      "x: [ 2.72320463 -2.56640911] , y: 0 , result: -2.22400638859 , error: 0 , weight: [-0.11186761  0.74788076]\n",
      "x: [ 1.14721799  0.27280963] , y: 1 , result: 0.075692532713 , error: 0 , weight: [-0.11186761  0.74788076]\n",
      "x: [ 0.73440808  1.45839822] , y: 1 , result: 1.0085514905 , error: 0 , weight: [-0.11186761  0.74788076]\n",
      "x: [ 0.64672462  1.70093561] , y: 1 , result: 1.19974947294 , error: 0 , weight: [-0.11186761  0.74788076]\n",
      "x: [ 1.43768026 -0.79404451] , y: 0 , result: -0.754680468465 , error: 0 , weight: [-0.11186761  0.74788076]\n",
      "x: [ 1.48384747  1.25942325] , y: 1 , result: 0.775903938818 , error: 0 , weight: [-0.11186761  0.74788076]\n",
      "x: [ 0.63339831  0.33670143] , y: 1 , result: 0.18095576334 , error: 0 , weight: [-0.11186761  0.74788076]\n",
      "x: [ 1.43768026 -0.79404451] , y: 0 , result: -0.754680468465 , error: 0 , weight: [-0.11186761  0.74788076]\n",
      "x: [ 0.90109019  1.07567516] , y: 1 , result: 0.703673946386 , error: 0 , weight: [-0.11186761  0.74788076]\n",
      "x: [ 0.65781633 -0.81770864] , y: 0 , result: -0.685136896524 , error: 0 , weight: [-0.11186761  0.74788076]\n",
      "x: [ 1.87898404  1.73417923] , y: 1 , result: 1.08676182103 , error: 0 , weight: [-0.11186761  0.74788076]\n",
      "x: [ 0.65989315  1.20657785] , y: 1 , result: 0.828555684006 , error: 0 , weight: [-0.11186761  0.74788076]\n",
      "x: [ 1.61728303  2.21565549] , y: 1 , result: 1.47612451375 , error: 0 , weight: [-0.11186761  0.74788076]\n",
      "x: [ 2.72320463 -2.56640911] , y: 0 , result: -2.22400638859 , error: 0 , weight: [-0.11186761  0.74788076]\n",
      "x: [ 0.77629376 -0.12030747] , y: 0 , result: -0.176817771735 , error: 0 , weight: [-0.11186761  0.74788076]\n",
      "x: [ 2.72320463 -2.56640911] , y: 0 , result: -2.22400638859 , error: 0 , weight: [-0.11186761  0.74788076]\n",
      "x: [ 1.82991579  1.53402496] , y: 1 , result: 0.94255943597 , error: 0 , weight: [-0.11186761  0.74788076]\n",
      "x: [ 1.08952373 -0.19389545] , y: 0 , result: -0.266893096824 , error: 0 , weight: [-0.11186761  0.74788076]\n",
      "x: [ 0.29011104  0.1316612 ] , y: 0 , result: 0.0660128519446 , error: -1 , weight: [-0.16988982  0.72154852]\n",
      "x: [ 0.81377232  0.75735807] , y: 1 , result: 0.408218960274 , error: 0 , weight: [-0.16988982  0.72154852]\n",
      "x: [ 2.31151156  2.65143615] , y: 1 , result: 1.52043753887 , error: 0 , weight: [-0.16988982  0.72154852]\n",
      "x: [ 0.64672462  1.70093561] , y: 1 , result: 1.11743563721 , error: 0 , weight: [-0.16988982  0.72154852]\n",
      "x: [ 0.46880883 -0.58317219] , y: 0 , result: -0.500432873838 , error: 0 , weight: [-0.16988982  0.72154852]\n",
      "x: [-0.41088905 -0.03523651] , y: 0 , result: 0.0443810119693 , error: -1 , weight: [-0.08771201  0.72859582]\n",
      "x: [ 0.59140092 -0.70558081] , y: 0 , result: -0.565956195369 , error: 0 , weight: [-0.08771201  0.72859582]\n",
      "x: [ 2.31151156  2.65143615] , y: 1 , result: 1.72907796907 , error: 0 , weight: [-0.08771201  0.72859582]\n",
      "x: [ 2.31151156  2.65143615] , y: 1 , result: 1.72907796907 , error: 0 , weight: [-0.08771201  0.72859582]\n",
      "x: [ 0.21416244 -0.01451119] , y: 1 , result: -0.0293574090121 , error: 1 , weight: [-0.04487952  0.72569358]\n",
      "x: [ 0.56859313 -0.5218475 ] , y: 0 , result: -0.404219569767 , error: 0 , weight: [-0.04487952  0.72569358]\n",
      "x: [ 1.61728303  2.21565549] , y: 1 , result: 1.53530407736 , error: 0 , weight: [-0.04487952  0.72569358]\n",
      "x: [ 0.60848758 -1.7899553 ] , y: 0 , result: -1.32626770547 , error: 0 , weight: [-0.04487952  0.72569358]\n",
      "x: [-0.08489245  0.22046924] , y: 0 , result: 0.163803046535 , error: -1 , weight: [-0.02790103  0.68159973]\n",
      "x: [ 1.31172608 -1.33431608] , y: 0 , result: -0.946068000996 , error: 0 , weight: [-0.02790103  0.68159973]\n",
      "x: [ 1.71714378  0.60538815] , y: 1 , result: 0.364722317818 , error: 0 , weight: [-0.02790103  0.68159973]\n",
      "x: [-0.04359314  0.01279407] , y: 1 , result: 0.00993672678854 , error: 0 , weight: [-0.02790103  0.68159973]\n",
      "x: [ 2.14900004  2.02395705] , y: 1 , result: 1.31956926883 , error: 0 , weight: [-0.02790103  0.68159973]\n",
      "x: [ 2.72320463 -2.56640911] , y: 0 , result: -1.82524398612 , error: 0 , weight: [-0.02790103  0.68159973]\n",
      "x: [ 2.72320463 -2.56640911] , y: 0 , result: -1.82524398612 , error: 0 , weight: [-0.02790103  0.68159973]\n",
      "x: [ 0.8824019   0.40369027] , y: 1 , result: 0.250535253209 , error: 0 , weight: [-0.02790103  0.68159973]\n",
      "x: [ 1.25501198 -2.58033645] , y: 0 , result: -1.79377277062 , error: 0 , weight: [-0.02790103  0.68159973]\n",
      "x: [ 0.65989315  1.20657785] , y: 1 , result: 0.80399143965 , error: 0 , weight: [-0.02790103  0.68159973]\n",
      "x: [ 0.98005617  0.02518743] , y: 1 , result: -0.0101768342598 , error: 1 , weight: [ 0.1681102   0.68663722]\n",
      "x: [ 0.60848758 -1.7899553 ] , y: 0 , result: -1.12675696121 , error: 0 , weight: [ 0.1681102   0.68663722]\n",
      "x: [ 0.85085738 -1.72253194] , y: 0 , result: -1.03971673717 , error: 0 , weight: [ 0.1681102   0.68663722]\n",
      "x: [ 2.04522279 -0.61119174] , y: 0 , result: -0.0758441790694 , error: 0 , weight: [ 0.1681102   0.68663722]\n",
      "x: [ 1.03143366 -2.05879768] , y: 0 , result: -1.24025259709 , error: 0 , weight: [ 0.1681102   0.68663722]\n",
      "x: [ 0.67894566  1.56468916] , y: 1 , result: 1.18851150988 , error: 0 , weight: [ 0.1681102   0.68663722]\n",
      "x: [ 1.14721799  0.27280963] , y: 1 , result: 0.380180291966 , error: 0 , weight: [ 0.1681102   0.68663722]\n",
      "x: [-0.04359314  0.01279407] , y: 1 , result: 0.00145643227423 , error: 0 , weight: [ 0.1681102   0.68663722]\n",
      "x: [ 2.04089667 -2.03025478] , y: 0 , result: -1.05095294745 , error: 0 , weight: [ 0.1681102   0.68663722]\n",
      "x: [ 1.48384747  1.25942325] , y: 1 , result: 1.11421677352 , error: 0 , weight: [ 0.1681102   0.68663722]\n",
      "x: [ 1.56203891  1.83868558] , y: 1 , result: 1.52510463128 , error: 0 , weight: [ 0.1681102   0.68663722]\n",
      "x: [ 0.88721195 -1.56085685] , y: 0 , result: -0.922593028497 , error: 0 , weight: [ 0.1681102   0.68663722]\n",
      "x: [ 0.36062147  0.03748977] , y: 0 , result: 0.0863660189794 , error: -1 , weight: [ 0.09598591  0.67913927]\n",
      "x: [ 1.65668194 -1.88836504] , y: 0 , result: -1.12344472486 , error: 0 , weight: [ 0.09598591  0.67913927]\n",
      "x: [ 0.83402937  1.7379032 ] , y: 1 , result: 1.26033337251 , error: 0 , weight: [ 0.09598591  0.67913927]\n",
      "x: [ 0.39200277  0.21613434] , y: 1 , result: 0.184412061387 , error: 0 , weight: [ 0.09598591  0.67913927]\n",
      "x: [ 1.31657715  0.70556742] , y: 1 , result: 0.605551390446 , error: 0 , weight: [ 0.09598591  0.67913927]\n",
      "x: [ 1.48190436 -2.26713603] , y: 0 , result: -1.39745916224 , error: 0 , weight: [ 0.09598591  0.67913927]\n",
      "x: [ 0.48440435  0.23841057] , y: 0 , result: 0.208409971536 , error: -1 , weight: [-0.00089496  0.63145715]\n",
      "x: [ 0.85085738 -1.72253194] , y: 0 , result: -1.08846659745 , error: 0 , weight: [-0.00089496  0.63145715]\n"
     ]
    }
   ],
   "source": [
    "# set the step function\n",
    "step = lambda x: 0 if x < 0 else 1\n",
    "\n",
    "# choose a number of random weights between 0 & 1\n",
    "w =  np.random.rand(2)\n",
    "\n",
    "# initialie an error list, a learning rate, and a variable for the number of samples \n",
    "errors = []\n",
    "eta = 0.2\n",
    "n = 100\n",
    "\n",
    "#try to reduce the error magnitude to zero \n",
    "for i in range(n):\n",
    "    \n",
    "    # choose a random input from the data set\n",
    "    rand = random.randrange(0, 99, 1)\n",
    "    x = X[rand]\n",
    "    label = y[rand]\n",
    "    \n",
    "    # compute the dot product of the weight and input vector\n",
    "    result = dot(w, x)\n",
    "    \n",
    "    # compare the expected label to the predicted label\n",
    "    error = label - step(result)\n",
    "    \n",
    "    # store errors to list to plot afterwards\n",
    "    errors.append(error)\n",
    "    w += eta * error * x\n",
    "\n",
    "    print(\"x: {} , y: {} , result: {} , error: {} , weight: {}\".format(x, label, result, error, w))"
   ]
  },
  {
   "cell_type": "markdown",
   "metadata": {},
   "source": [
    "## Plot the PLA Errors"
   ]
  },
  {
   "cell_type": "code",
   "execution_count": 9,
   "metadata": {},
   "outputs": [
    {
     "data": {
      "image/png": "[encoded data removed]",
      "text/plain": [
       "<matplotlib.figure.Figure at 0x7fbcf7745a50>"
      ]
     },
     "metadata": {},
     "output_type": "display_data"
    }
   ],
   "source": [
    "from pylab import plot, ylim\n",
    "ylim([-1,1])\n",
    "plot(errors)\n",
    "plt.show()"
   ]
  },
  {
   "cell_type": "code",
   "execution_count": null,
   "metadata": {
    "collapsed": true
   },
   "outputs": [],
   "source": []
  }
 ],
 "metadata": {
  "kernelspec": {
   "display_name": "Python 2",
   "language": "python",
   "name": "python2"
  },
  "language_info": {
   "codemirror_mode": {
    "name": "ipython",
    "version": 2
   },
   "file_extension": ".py",
   "mimetype": "text/x-python",
   "name": "python",
   "nbconvert_exporter": "python",
   "pygments_lexer": "ipython2",
   "version": "2.7.14"
  }
 },
 "nbformat": 4,
 "nbformat_minor": 2
}
