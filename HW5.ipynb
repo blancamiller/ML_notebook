{
 "cells": [
  {
   "cell_type": "markdown",
   "metadata": {},
   "source": [
    "# HW5: Learning Classifier Weights using Perceptron Learning and Gradient Descent"
   ]
  },
  {
   "cell_type": "markdown",
   "metadata": {},
   "source": [
    "# ============================================================"
   ]
  },
  {
   "cell_type": "markdown",
   "metadata": {},
   "source": [
    "Blanca Miller\n",
    "2.08.2018\n",
    "CS 791"
   ]
  },
  {
   "cell_type": "markdown",
   "metadata": {},
   "source": [
    "__Objective:__ \n",
    "- Generate a data set composed of classified points where each data vector is made up of a position and classification.\n",
    "- part a) Find a separating hyperplane using perceptron learning algorithm using a step function. Measure the run time for 10, 50 & 100 points. \n",
    "- part b) Find a separating hyperplane using gradient descent using a sigmoid function. Measure the run time for 10, 50, & 100 points. \n",
    "- Does the run time increase linearly? Explain.\n",
    "\n",
    "Weights map inputs to outputs, thus classifying a set of inputted data. The perceptron learning algorithm (PLA) always finds a hyperplane in a fininte amount of iterations, if a data set is linearly separable. Greadient descent minimizes the  \n",
    "\n",
    "\n",
    "with a step function using the thresholded outputs. "
   ]
  },
  {
   "cell_type": "markdown",
   "metadata": {},
   "source": [
    "Given:\n",
    "    - input vector: xi\n",
    "    - target/label: y\n",
    "    - learning rate: η \n",
    "    - weight: wi\n",
    "    - predicted label: y_hat\n",
    "\n",
    "Perceptron Learning Algorithm:\n",
    "    - output calculation: y_hat = ∑ wi * xi , where y_hat >= 0 or y_hat < 0\n",
    "    - weight calculation: wi = wi + Δwi\n",
    "    - weight change: Δwi = η(y - y_hat) * xi\n",
    "    \n",
    "Gradient Descent:\n",
    "    - "
   ]
  },
  {
   "cell_type": "markdown",
   "metadata": {},
   "source": [
    "## Randomly Generate a data set X and labels y"
   ]
  },
  {
   "cell_type": "code",
   "execution_count": null,
   "metadata": {},
   "outputs": [],
   "source": []
  },
  {
   "cell_type": "code",
   "execution_count": null,
   "metadata": {},
   "outputs": [],
   "source": []
  }
 ],
 "metadata": {
  "kernelspec": {
   "display_name": "Python 2",
   "language": "python",
   "name": "python2"
  },
  "language_info": {
   "codemirror_mode": {
    "name": "ipython",
    "version": 2
   },
   "file_extension": ".py",
   "mimetype": "text/x-python",
   "name": "python",
   "nbconvert_exporter": "python",
   "pygments_lexer": "ipython2",
   "version": "2.7.12"
  }
 },
 "nbformat": 4,
 "nbformat_minor": 2
}
