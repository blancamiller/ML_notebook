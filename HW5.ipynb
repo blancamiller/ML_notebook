{
 "cells": [
  {
   "cell_type": "markdown",
   "metadata": {},
   "source": [
    "# HW5: Learning Classifier Weights using Perceptron Learning and Gradient Descent"
   ]
  },
  {
   "cell_type": "markdown",
   "metadata": {},
   "source": [
    "Blanca Miller\n",
    "2.08.2018\n",
    "CS 791"
   ]
  },
  {
   "cell_type": "markdown",
   "metadata": {},
   "source": [
    "__Objective:__ \n",
    "- Generate a data set composed of classified points where each data vector is made up of a position and classification.\n",
    "- part a) Find a separating hyperplane using perceptron learning algorithm using a step function. Measure the run time for 10, 50 & 100 points. \n",
    "- part b) Find a separating hyperplane using gradient descent using a sigmoid function. Measure the run time for 10, 50, & 100 points. \n",
    "- Does the run time increase linearly? Explain.\n",
    "\n",
    "Weights map inputs to outputs, thus classifying a set of inputted data. The perceptron learning algorithm (PLA) always finds a hyperplane in a fininte amount of iterations, if a data set is linearly separable. Greadient descent finds the minimun of a function the (non-linear separability) \n",
    "\n",
    "\n",
    "with a step function using the thresholded outputs. "
   ]
  },
  {
   "cell_type": "markdown",
   "metadata": {},
   "source": [
    "__Given:__\n",
    "    - input vector: xi\n",
    "    - target/label: y\n",
    "    - learning rate/eta: η \n",
    "    - weight: wi\n",
    "    - predicted label: y_hat\n",
    "\n",
    "__Perceptron Learning Algorithm:__\n",
    "    - (o) output calculation/activation: y_hat = ∑ wi * xi , where y_hat >= 0 or y_hat < 0\n",
    "    - weight calculation: wi = wi + Δwi\n",
    "    - weight change: Δwi = η(y - y_hat) * xi\n",
    "    \n",
    "__Gradient Descent:__\n",
    "    - Learning Rate: Used to limit the amount each weight is corrected for each update\n",
    "    - Epochs: The number of times to run through the training data while updating the weight\n",
    "    - \n"
   ]
  },
  {
   "cell_type": "markdown",
   "metadata": {},
   "source": [
    "## Import Libraries"
   ]
  },
  {
   "cell_type": "code",
   "execution_count": 1,
   "metadata": {
    "collapsed": true
   },
   "outputs": [],
   "source": [
    "import numpy as np\n",
    "import random\n",
    "from numpy import dot\n",
    "from sklearn.datasets import make_classification\n",
    "import matplotlib.pyplot as plt"
   ]
  },
  {
   "cell_type": "markdown",
   "metadata": {},
   "source": [
    "## Randomly Generate & Plot a data set & labels where n=100"
   ]
  },
  {
   "cell_type": "code",
   "execution_count": 2,
   "metadata": {},
   "outputs": [
    {
     "data": {
      "image/png": "[encoded data removed]",
      "text/plain": [
       "<matplotlib.figure.Figure at 0x7f69ba012650>"
      ]
     },
     "metadata": {},
     "output_type": "display_data"
    }
   ],
   "source": [
    "plt.figure(figsize=(8,8))\n",
    "plt.subplots_adjust(bottom=.05, top=.9, left=.05, right=.95)\n",
    "\n",
    "plt.subplot(322)\n",
    "plt.title(\"Two Randomly Generated Classes\")\n",
    "X, y = make_classification(n_features=2, n_redundant=0, n_informative=2,\n",
    "                             n_clusters_per_class=1)\n",
    "plt.scatter(X[:,0], X[:,1], marker='o', c=y, s=25, edgecolor='k')\n",
    "plt.show()"
   ]
  },
  {
   "cell_type": "code",
   "execution_count": 3,
   "metadata": {
    "collapsed": true
   },
   "outputs": [],
   "source": [
    "#print(X)\n",
    "#print(y)"
   ]
  },
  {
   "cell_type": "markdown",
   "metadata": {},
   "source": [
    "# PART A"
   ]
  },
  {
   "cell_type": "markdown",
   "metadata": {},
   "source": [
    "## Perceptron Learning Algorithm"
   ]
  },
  {
   "cell_type": "code",
   "execution_count": 4,
   "metadata": {},
   "outputs": [
    {
     "name": "stdout",
     "output_type": "stream",
     "text": [
      "x: [-1.44197953 -0.69901428] , y: 1 , result: -1.32753982931 , error: 1 , weight: [ 0.20714637  0.73711487]\n",
      "x: [ 3.236635   -2.34398288] , y: 0 , result: -1.0573274552 , error: 0 , weight: [ 0.20714637  0.73711487]\n",
      "x: [-0.68947468 -0.80104908] , y: 0 , result: -0.733287361548 , error: 0 , weight: [ 0.20714637  0.73711487]\n",
      "x: [ 1.69050432 -0.65134746] , y: 0 , result: -0.129936065852 , error: 0 , weight: [ 0.20714637  0.73711487]\n",
      "x: [ 0.8783011  -1.17290991] , y: 0 , result: -0.682632454646 , error: 0 , weight: [ 0.20714637  0.73711487]\n",
      "x: [ 0.71981761 -0.18159165] , y: 0 , result: 0.0152536953981 , error: -1 , weight: [ 0.06318284  0.7734332 ]\n",
      "x: [-0.3090073  -1.99693293] , y: 1 , result: -1.56401818951 , error: 1 , weight: [ 0.00138138  0.37404661]\n",
      "x: [-2.17030228  1.05236464] , y: 1 , result: 0.390635408371 , error: 0 , weight: [ 0.00138138  0.37404661]\n",
      "x: [-0.91911837 -0.67038252] , y: 1 , result: -0.252023968517 , error: 1 , weight: [-0.18244229  0.23997011]\n",
      "x: [ 2.16665423 -1.84141667] , y: 0 , result: -0.83717431612 , error: 0 , weight: [-0.18244229  0.23997011]\n",
      "x: [-0.55720688 -1.12252962] , y: 1 , result: -0.16771545714 , error: 1 , weight: [-0.29388366  0.01546418]\n",
      "x: [-0.76887961 -0.99807444] , y: 1 , result: 0.21052674986 , error: 0 , weight: [-0.29388366  0.01546418]\n",
      "x: [-1.10339502 -1.11290101] , y: 1 , result: 0.30705966568 , error: 0 , weight: [-0.29388366  0.01546418]\n",
      "x: [-2.34387767  0.34808403] , y: 1 , result: 0.694210195706 , error: 0 , weight: [-0.29388366  0.01546418]\n",
      "x: [-0.76887961 -0.99807444] , y: 1 , result: 0.21052674986 , error: 0 , weight: [-0.29388366  0.01546418]\n",
      "x: [ 0.65417426 -0.49646277] , y: 0 , result: -0.199928521383 , error: 0 , weight: [-0.29388366  0.01546418]\n",
      "x: [ 1.9837099  -0.66970209] , y: 0 , result: -0.593336333274 , error: 0 , weight: [-0.29388366  0.01546418]\n",
      "x: [-1.49314685 -0.55898465] , y: 1 , result: 0.430167228196 , error: 0 , weight: [-0.29388366  0.01546418]\n",
      "x: [-1.49314685 -0.55898465] , y: 1 , result: 0.430167228196 , error: 0 , weight: [-0.29388366  0.01546418]\n",
      "x: [-1.03074697 -1.00934725] , y: 1 , result: 0.287310966597 , error: 0 , weight: [-0.29388366  0.01546418]\n",
      "x: [ 0.4676968  -0.33113346] , y: 0 , result: -0.142569157923 , error: 0 , weight: [-0.29388366  0.01546418]\n",
      "x: [-1.06060641 -0.61336199] , y: 1 , result: 0.30220975727 , error: 0 , weight: [-0.29388366  0.01546418]\n",
      "x: [-1.24327469 -0.19832196] , y: 1 , result: 0.362311235514 , error: 0 , weight: [-0.29388366  0.01546418]\n",
      "x: [ 0.14312328 -0.35747031] , y: 0 , result: -0.0475895797033 , error: 0 , weight: [-0.29388366  0.01546418]\n",
      "x: [ 0.95585489 -0.69442416] , y: 0 , result: -0.291648842483 , error: 0 , weight: [-0.29388366  0.01546418]\n",
      "x: [ 1.25494873 -0.90137608] , y: 0 , result: -0.382747977011 , error: 0 , weight: [-0.29388366  0.01546418]\n",
      "x: [ 0.02352391 -0.68829941] , y: 0 , result: -0.0175572810504 , error: 0 , weight: [-0.29388366  0.01546418]\n",
      "x: [ 0.21796524 -0.55908047] , y: 0 , result: -0.0727021457357 , error: 0 , weight: [-0.29388366  0.01546418]\n",
      "x: [ 0.30310863 -0.32556981] , y: 0 , result: -0.09411334715 , error: 0 , weight: [-0.29388366  0.01546418]\n",
      "x: [-0.90021263 -1.01207769] , y: 1 , result: 0.248906832059 , error: 0 , weight: [-0.29388366  0.01546418]\n",
      "x: [-1.85870584  0.18179983] , y: 1 , result: 0.549054671002 , error: 0 , weight: [-0.29388366  0.01546418]\n",
      "x: [-1.6478143  -0.26228973] , y: 1 , result: 0.480209607986 , error: 0 , weight: [-0.29388366  0.01546418]\n",
      "x: [ 1.69050432 -0.65134746] , y: 0 , result: -0.506884163418 , error: 0 , weight: [-0.29388366  0.01546418]\n",
      "x: [ 0.54810715 -0.94539635] , y: 0 , result: -0.175699521205 , error: 0 , weight: [-0.29388366  0.01546418]\n",
      "x: [ 0.17599329 -1.13725137] , y: 0 , result: -0.0693082190517 , error: 0 , weight: [-0.29388366  0.01546418]\n",
      "x: [ 0.247657   -0.92533249] , y: 0 , result: -0.0870918575879 , error: 0 , weight: [-0.29388366  0.01546418]\n",
      "x: [-1.57289627 -0.78476469] , y: 1 , result: 0.450112773338 , error: 0 , weight: [-0.29388366  0.01546418]\n",
      "x: [ 0.46892556 -1.12612228] , y: 0 , result: -0.155224124281 , error: 0 , weight: [-0.29388366  0.01546418]\n",
      "x: [ 2.16665423 -1.84141667] , y: 0 , result: -0.66522029068 , error: 0 , weight: [-0.29388366  0.01546418]\n",
      "x: [ 0.8783011  -1.17290991] , y: 0 , result: -0.276256440071 , error: 0 , weight: [-0.29388366  0.01546418]\n",
      "x: [-1.54427875 -0.51187978] , y: 1 , result: 0.445922496925 , error: 0 , weight: [-0.29388366  0.01546418]\n",
      "x: [-1.60703392 -0.33774423] , y: 0 , result: 0.467058078625 , error: -1 , weight: [ 0.02752312  0.08301303]\n",
      "x: [ 1.44316673 -0.39916721] , y: 0 , result: 0.00658436936414 , error: -1 , weight: [-0.26111023  0.16284647]\n",
      "x: [ 0.83252081 -0.86845946] , y: 0 , result: -0.358805257796 , error: 0 , weight: [-0.26111023  0.16284647]\n",
      "x: [-1.22116986 -0.75665721] , y: 0 , result: 0.195640982364 , error: -1 , weight: [-0.01687626  0.31417792]\n",
      "x: [-1.60703392 -0.33774423] , y: 0 , result: -0.0789910636352 , error: 0 , weight: [-0.01687626  0.31417792]\n",
      "x: [-0.3090073  -1.99693293] , y: 1 , result: -0.622177341112 , error: 1 , weight: [-0.07867771 -0.08520867]\n",
      "x: [ 0.02352391 -0.68829941] , y: 0 , result: 0.0567982708688 , error: -1 , weight: [-0.0833825   0.05245121]\n",
      "x: [-1.54427875 -0.51187978] , y: 1 , result: 0.101917102806 , error: 0 , weight: [-0.0833825   0.05245121]\n",
      "x: [ 1.29957376 -0.54165734] , y: 0 , result: -0.136772287263 , error: 0 , weight: [-0.0833825   0.05245121]\n",
      "x: [ 0.54810715 -0.94539635] , y: 0 , result: -0.0952897257276 , error: 0 , weight: [-0.0833825   0.05245121]\n",
      "x: [-0.68947468 -0.80104908] , y: 0 , result: 0.0154741252131 , error: -1 , weight: [ 0.05451244  0.21266103]\n",
      "x: [-1.17928264 -0.43696209] , y: 1 , result: -0.157210379606 , error: 1 , weight: [-0.18134409  0.12526861]\n",
      "x: [ 0.46892556 -1.12612228] , y: 0 , result: -0.226104651264 , error: 0 , weight: [-0.18134409  0.12526861]\n",
      "x: [-1.53869255 -0.63723703] , y: 1 , result: 0.199207002063 , error: 0 , weight: [-0.18134409  0.12526861]\n",
      "x: [ 0.85346294 -0.78026639] , y: 0 , result: -0.252513344964 , error: 0 , weight: [-0.18134409  0.12526861]\n",
      "x: [-0.60066582 -1.18460808] , y: 1 , result: -0.0394670106403 , error: 1 , weight: [-0.30147725 -0.11165301]\n",
      "x: [-1.17614315 -1.27366099] , y: 1 , result: 0.496788485983 , error: 0 , weight: [-0.30147725 -0.11165301]\n",
      "x: [-0.55720688 -1.12252962] , y: 1 , result: 0.293319005971 , error: 0 , weight: [-0.30147725 -0.11165301]\n",
      "x: [ 2.16665423 -1.84141667] , y: 0 , result: -0.447597259171 , error: 0 , weight: [-0.30147725 -0.11165301]\n",
      "x: [ 0.46892556 -1.12612228] , y: 0 , result: -0.0156354515449 , error: 0 , weight: [-0.30147725 -0.11165301]\n",
      "x: [ 0.0386873  -1.51569859] , y: 0 , result: 0.157568964866 , error: -1 , weight: [-0.30921471  0.19148671]\n",
      "x: [-0.76887961 -0.99807444] , y: 1 , result: 0.0466308942962 , error: 0 , weight: [-0.30921471  0.19148671]\n",
      "x: [-0.84118601 -1.73300473] , y: 1 , result: -0.0717402860318 , error: 1 , weight: [-0.47745192 -0.15511423]\n",
      "x: [-0.25388359 -2.19937571] , y: 1 , result: 0.462371685777 , error: 0 , weight: [-0.47745192 -0.15511423]\n",
      "x: [-1.6478143  -0.26228973] , y: 1 , result: 0.827436963058 , error: 0 , weight: [-0.47745192 -0.15511423]\n",
      "x: [ 0.25848793 -0.51029237] , y: 0 , result: -0.0442619478007 , error: 0 , weight: [-0.47745192 -0.15511423]\n",
      "x: [-0.91911837 -0.67038252] , y: 1 , result: 0.542820699089 , error: 0 , weight: [-0.47745192 -0.15511423]\n",
      "x: [ 0.14312328 -0.35747031] , y: 0 , result: -0.0128857493491 , error: 0 , weight: [-0.47745192 -0.15511423]\n",
      "x: [-1.15655895 -0.03579653] , y: 1 , result: 0.557753837592 , error: 0 , weight: [-0.47745192 -0.15511423]\n",
      "x: [ 2.16665423 -1.84141667] , y: 0 , result: -0.748843274207 , error: 0 , weight: [-0.47745192 -0.15511423]\n",
      "x: [ 0.83252081 -0.86845946] , y: 0 , result: -0.262778228923 , error: 0 , weight: [-0.47745192 -0.15511423]\n",
      "x: [-1.03074697 -1.00934725] , y: 1 , result: 0.648696242748 , error: 0 , weight: [-0.47745192 -0.15511423]\n",
      "x: [ 0.247657   -0.92533249] , y: 0 , result: 0.0252879325959 , error: -1 , weight: [-0.52698331  0.02995226]\n",
      "x: [ 0.25848793 -0.51029237] , y: 0 , result: -0.151503239179 , error: 0 , weight: [-0.52698331  0.02995226]\n",
      "x: [-1.02051408 -1.20764919] , y: 1 , result: 0.501622067423 , error: 0 , weight: [-0.52698331  0.02995226]\n",
      "x: [-2.17030228  1.05236464] , y: 1 , result: 1.17523379114 , error: 0 , weight: [-0.52698331  0.02995226]\n",
      "x: [-0.99262677 -0.876484  ] , y: 1 , result: 0.496845067128 , error: 0 , weight: [-0.52698331  0.02995226]\n",
      "x: [-1.03766508 -1.33348722] , y: 0 , result: 0.506891220707 , error: -1 , weight: [-0.3194503   0.29664971]\n",
      "x: [ 1.53875123 -0.90275047] , y: 0 , result: -0.75935520232 , error: 0 , weight: [-0.3194503   0.29664971]\n",
      "x: [-1.17614315 -1.27366099] , y: 1 , result: -0.00211187679482 , error: 1 , weight: [-0.55467893  0.04191751]\n",
      "x: [ 0.95585489 -0.69442416] , y: 0 , result: -0.559301100685 , error: 0 , weight: [-0.55467893  0.04191751]\n",
      "x: [ 0.30310863 -0.32556981] , y: 0 , result: -0.181775047122 , error: 0 , weight: [-0.55467893  0.04191751]\n",
      "x: [ 0.48639812 -0.41364654] , y: 0 , result: -0.287133823148 , error: 0 , weight: [-0.55467893  0.04191751]\n",
      "x: [-0.25388359 -2.19937571] , y: 1 , result: 0.0486315281819 , error: 0 , weight: [-0.55467893  0.04191751]\n",
      "x: [-0.44218679 -1.32833586] , y: 1 , result: 0.189591163802 , error: 0 , weight: [-0.55467893  0.04191751]\n",
      "x: [ 1.31140559 -1.50095433] , y: 0 , result: -0.79032531425 , error: 0 , weight: [-0.55467893  0.04191751]\n",
      "x: [-1.03766508 -1.33348722] , y: 0 , result: 0.519674490762 , error: -1 , weight: [-0.34714591  0.30861495]\n",
      "x: [ 0.14312328 -0.35747031] , y: 0 , result: -0.160005343272 , error: 0 , weight: [-0.34714591  0.30861495]\n",
      "x: [-1.12871155 -1.04339088] , y: 1 , result: 0.0698215729151 , error: 0 , weight: [-0.34714591  0.30861495]\n",
      "x: [-0.84193037 -1.17065421] , y: 1 , result: -0.0690087030794 , error: 1 , weight: [-0.51553199  0.07448411]\n",
      "x: [ 1.31693882 -1.13360618] , y: 0 , result: -0.763359735939 , error: 0 , weight: [-0.51553199  0.07448411]\n",
      "x: [-0.84193037 -1.17065421] , y: 1 , result: 0.346846902166 , error: 0 , weight: [-0.51553199  0.07448411]\n",
      "x: [-1.24327469 -0.19832196] , y: 1 , result: 0.626176039707 , error: 0 , weight: [-0.51553199  0.07448411]\n",
      "x: [ 0.247657   -0.92533249] , y: 0 , result: -0.196597671751 , error: 0 , weight: [-0.51553199  0.07448411]\n",
      "x: [-2.34387767  0.34808403] , y: 1 , result: 1.23427064734 , error: 0 , weight: [-0.51553199  0.07448411]\n",
      "x: [ 0.25848793 -0.51029237] , y: 0 , result: -0.171267471942 , error: 0 , weight: [-0.51553199  0.07448411]\n",
      "x: [ 3.34944213 -1.17266017] , y: 0 , result: -1.81408911218 , error: 0 , weight: [-0.51553199  0.07448411]\n",
      "x: [-0.3090073  -1.99693293] , y: 1 , result: 0.0105633714275 , error: 0 , weight: [-0.51553199  0.07448411]\n",
      "x: [-0.88641296 -0.64687132] , y: 1 , result: 0.408792600035 , error: 0 , weight: [-0.51553199  0.07448411]\n"
     ]
    }
   ],
   "source": [
    "# set the step function\n",
    "step = lambda x: 0 if x < 0 else 1\n",
    "\n",
    "# choose a number of random weights between 0 & 1\n",
    "w =  np.random.rand(2)\n",
    "\n",
    "# initialie an error list, a learning rate, and a variable for the number of samples \n",
    "errors = []\n",
    "eta = 0.2\n",
    "n = 100\n",
    "\n",
    "#try to reduce the error magnitude to zero \n",
    "for i in range(n):\n",
    "    \n",
    "    # choose a random input from the data set\n",
    "    rand = random.randrange(0, 99, 1)\n",
    "    x = X[rand]\n",
    "    label = y[rand]\n",
    "    \n",
    "    # compute the dot product of the weight and input vector\n",
    "    result = dot(w, x)\n",
    "    \n",
    "    # compare the expected label to the predicted label\n",
    "    error = label - step(result)\n",
    "    \n",
    "    # store errors to list to plot afterwards\n",
    "    errors.append(error)\n",
    "    w += eta * error * x\n",
    "\n",
    "    print(\"x: {} , y: {} , result: {} , error: {} , weight: {}\".format(x, label, result, error, w))"
   ]
  },
  {
   "cell_type": "markdown",
   "metadata": {},
   "source": [
    "## Plot the PLA Errors"
   ]
  },
  {
   "cell_type": "code",
   "execution_count": 5,
   "metadata": {},
   "outputs": [
    {
     "data": {
      "image/png": "[encoded data removed]",
      "text/plain": [
       "<matplotlib.figure.Figure at 0x7f69b9fe1a50>"
      ]
     },
     "metadata": {},
     "output_type": "display_data"
    }
   ],
   "source": [
    "from pylab import plot, ylim\n",
    "ylim([-1,1])\n",
    "plot(errors)\n",
    "plt.show()"
   ]
  },
  {
   "cell_type": "markdown",
   "metadata": {
    "collapsed": true
   },
   "source": [
    "# PART B"
   ]
  },
  {
   "cell_type": "markdown",
   "metadata": {
    "collapsed": true
   },
   "source": [
    "## Gradient Descent "
   ]
  },
  {
   "cell_type": "code",
   "execution_count": 6,
   "metadata": {
    "collapsed": true
   },
   "outputs": [],
   "source": [
    "def predict(row, weights):\n",
    "    activation = weights[0]\n",
    "    for i in range(len(row)-1):\n",
    "        activation += weights[i + 1] * row[i]\n",
    "    return 1.0 if activation >= 0.0 else 0.0"
   ]
  },
  {
   "cell_type": "code",
   "execution_count": 7,
   "metadata": {},
   "outputs": [],
   "source": [
    "def train_weights(train, l_rate, n_epoch):\n",
    "    weights = [0.0 for i in range(len(train[0]))]\n",
    "    epoch = 0\n",
    "    for epoch in range(n_epoch):\n",
    "        sum_error = 0.0\n",
    "        for row in train:\n",
    "            prediction = predict(row, weights)\n",
    "            error = row[-1] - prediction\n",
    "            sum_error += error**2\n",
    "            weights[0] = weights[0] + l_rate * error\n",
    "            for i in range(len(row)-1):\n",
    "                weights[i + 1] = weights[i + 1] + l_rate * error * row[i]\n",
    "    print('>epoch=%d, lrate=%.3f, error=%.3f' % (epoch, l_rate, sum_error))\n",
    "    return weights"
   ]
  },
  {
   "cell_type": "code",
   "execution_count": 10,
   "metadata": {},
   "outputs": [
    {
     "ename": "NameError",
     "evalue": "name 'weights' is not defined",
     "output_type": "error",
     "traceback": [
      "\u001b[0;31m---------------------------------------------------------------------------\u001b[0m",
      "\u001b[0;31mNameError\u001b[0m                                 Traceback (most recent call last)",
      "\u001b[0;32m<ipython-input-10-f0b276af4de0>\u001b[0m in \u001b[0;36m<module>\u001b[0;34m()\u001b[0m\n\u001b[1;32m      1\u001b[0m \u001b[0;32mfor\u001b[0m \u001b[0mt\u001b[0m \u001b[0;32min\u001b[0m \u001b[0mrange\u001b[0m\u001b[0;34m(\u001b[0m\u001b[0mX\u001b[0m\u001b[0;34m.\u001b[0m\u001b[0mshape\u001b[0m\u001b[0;34m[\u001b[0m\u001b[0;36m0\u001b[0m\u001b[0;34m]\u001b[0m\u001b[0;34m)\u001b[0m\u001b[0;34m:\u001b[0m\u001b[0;34m\u001b[0m\u001b[0m\n\u001b[0;32m----> 2\u001b[0;31m     \u001b[0mpredict\u001b[0m\u001b[0;34m(\u001b[0m\u001b[0mX\u001b[0m\u001b[0;34m[\u001b[0m\u001b[0mi\u001b[0m\u001b[0;34m]\u001b[0m\u001b[0;34m,\u001b[0m \u001b[0mweights\u001b[0m\u001b[0;34m)\u001b[0m\u001b[0;34m\u001b[0m\u001b[0m\n\u001b[0m",
      "\u001b[0;31mNameError\u001b[0m: name 'weights' is not defined"
     ]
    }
   ],
   "source": [
    "for t in range(X.shape[0]): \n",
    "    predict(X[i], weights)"
   ]
  },
  {
   "cell_type": "code",
   "execution_count": null,
   "metadata": {},
   "outputs": [],
   "source": []
  },
  {
   "cell_type": "code",
   "execution_count": null,
   "metadata": {
    "collapsed": true
   },
   "outputs": [],
   "source": []
  }
 ],
 "metadata": {
  "kernelspec": {
   "display_name": "Python 2",
   "language": "python",
   "name": "python2"
  },
  "language_info": {
   "codemirror_mode": {
    "name": "ipython",
    "version": 2
   },
   "file_extension": ".py",
   "mimetype": "text/x-python",
   "name": "python",
   "nbconvert_exporter": "python",
   "pygments_lexer": "ipython2",
   "version": "2.7.14"
  }
 },
 "nbformat": 4,
 "nbformat_minor": 2
}
