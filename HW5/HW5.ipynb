{
 "cells": [
  {
   "cell_type": "markdown",
   "metadata": {},
   "source": [
    "# HW5: Learning Classifier Weights using Perceptron Learning and Gradient Descent"
   ]
  },
  {
   "cell_type": "markdown",
   "metadata": {},
   "source": [
    "Blanca Miller <br />\n",
    "STAT 760 <br />\n",
    "03.08.2018 <br />"
   ]
  },
  {
   "cell_type": "markdown",
   "metadata": {},
   "source": [
    "__Objective:__ \n",
    "- Generate a data set composed of classified points where each data vector is made up of a position and classification.\n",
    "- part a) Find a separating hyperplane using perceptron learning algorithm using a step function. Measure the run time for 10, 50 & 100 points. \n",
    "- part b) Find a separating hyperplane using gradient descent using a sigmoid function. Measure the run time for 10, 50, & 100 points. \n",
    "- Does the run time increase linearly? Explain.\n",
    "\n",
    "Weights map inputs to outputs, thus classifying a set of inputted data. The perceptron learning algorithm (PLA) always finds a hyperplane in a fininte amount of iterations, if a data set is linearly separable. Greadient descent finds the minimun of a function the (non-linear separability) \n",
    "\n",
    "\n",
    "with a step function using the thresholded outputs. "
   ]
  },
  {
   "cell_type": "markdown",
   "metadata": {},
   "source": [
    "__Given:__\n",
    "    - input vector: xi\n",
    "    - target/label: y\n",
    "    - learning rate: η \n",
    "    - weight: wi\n",
    "    - predicted label: y_hat\n",
    "\n",
    "__Perceptron Learning Algorithm:__\n",
    "    - output calculation: y_hat = ∑ wi * xi , where y_hat >= 0 or y_hat < 0\n",
    "    - weight calculation: wi = wi + Δwi\n",
    "    - weight change: Δwi = η(y - y_hat) * xi\n",
    "    \n",
    "__Gradient Descent:__\n",
    "    - Learning Rate: Used to limit the amount each weight is corrected for each update\n",
    "    - Epochs: The number of times to run through the training data while updating the weight"
   ]
  },
  {
   "cell_type": "markdown",
   "metadata": {},
   "source": [
    "### Import Libraries"
   ]
  },
  {
   "cell_type": "code",
   "execution_count": 1,
   "metadata": {
    "collapsed": true
   },
   "outputs": [],
   "source": [
    "import numpy as np\n",
    "import random\n",
    "from numpy import dot\n",
    "from sklearn.datasets import make_classification\n",
    "import matplotlib.pyplot as plt"
   ]
  },
  {
   "cell_type": "markdown",
   "metadata": {},
   "source": [
    "### Randomly Generate & Plot a data set & labels where n=100"
   ]
  },
  {
   "cell_type": "code",
   "execution_count": 3,
   "metadata": {},
   "outputs": [
    {
     "data": {
      "image/png": "[encoded data removed]",
      "text/plain": [
       "<matplotlib.figure.Figure at 0x7f2de42b87d0>"
      ]
     },
     "metadata": {},
     "output_type": "display_data"
    }
   ],
   "source": [
    "plt.figure(figsize=(8,8))\n",
    "plt.subplots_adjust(bottom=.05, top=.9, left=.05, right=.95)\n",
    "\n",
    "plt.subplot(322)\n",
    "plt.title(\"Two Randomly Generated Classes\")\n",
    "X, y = make_classification(n_features=2, n_redundant=0, n_informative=2,\n",
    "                             n_clusters_per_class=1)\n",
    "plt.scatter(X[:,0], X[:,1], marker='o', c=y, s=25, edgecolor='k')\n",
    "plt.show()"
   ]
  },
  {
   "cell_type": "code",
   "execution_count": 4,
   "metadata": {
    "collapsed": true
   },
   "outputs": [],
   "source": [
    "#print(X)\n",
    "#print(y)"
   ]
  },
  {
   "cell_type": "markdown",
   "metadata": {},
   "source": [
    "## PART A"
   ]
  },
  {
   "cell_type": "markdown",
   "metadata": {},
   "source": [
    "### Perceptron Learning Algorithm"
   ]
  },
  {
   "cell_type": "code",
   "execution_count": 6,
   "metadata": {},
   "outputs": [
    {
     "name": "stdout",
     "output_type": "stream",
     "text": [
      "x: [-0.15336614  0.1529213 ] , y: 0 , result: -0.040484714557 , error: 0 , weight: [ 0.29991231  0.03604259]\n",
      "x: [-2.06017956  0.24921028] , y: 1 , result: -0.608891025586 , error: 1 , weight: [-0.1121236   0.08588464]\n",
      "x: [-0.85598161  1.29590601] , y: 1 , result: 0.207274166019 , error: 0 , weight: [-0.1121236   0.08588464]\n",
      "x: [-1.28859494 -1.76646872] , y: 0 , result: -0.00723062344308 , error: 0 , weight: [-0.1121236   0.08588464]\n",
      "x: [-0.15336614  0.1529213 ] , y: 0 , result: 0.0303295552523 , error: -1 , weight: [-0.08145038  0.05530038]\n",
      "x: [-1.28859494 -1.76646872] , y: 0 , result: 0.00727014715716 , error: -1 , weight: [ 0.17626861  0.40859413]\n",
      "x: [-2.06370358 -2.31733042] , y: 0 , result: -1.31061376538 , error: 0 , weight: [ 0.17626861  0.40859413]\n",
      "x: [-0.31165529  1.09955406] , y: 1 , result: 0.394336285821 , error: 0 , weight: [ 0.17626861  0.40859413]\n",
      "x: [-1.65424004  0.91192957] , y: 1 , result: 0.081018468627 , error: 0 , weight: [ 0.17626861  0.40859413]\n",
      "x: [-0.82986022  1.20418742] , y: 1 , result: 0.345745595652 , error: 0 , weight: [ 0.17626861  0.40859413]\n",
      "x: [ 0.90427553  1.69777711] , y: 0 , result: 0.853097149369 , error: -1 , weight: [-0.00458649  0.0690387 ]\n",
      "x: [-1.59422155  0.33839854] , y: 1 , result: 0.030674484118 , error: 0 , weight: [-0.00458649  0.0690387 ]\n",
      "x: [-1.65424004  0.91192957] , y: 1 , result: 0.0705455974606 , error: 0 , weight: [-0.00458649  0.0690387 ]\n",
      "x: [-0.48143156 -0.45409568] , y: 0 , result: -0.029142094099 , error: 0 , weight: [-0.00458649  0.0690387 ]\n",
      "x: [-1.14606024  0.73509787] , y: 1 , result: 0.0560066020691 , error: 0 , weight: [-0.00458649  0.0690387 ]\n",
      "x: [-0.82986022  1.20418742] , y: 1 , result: 0.086941687331 , error: 0 , weight: [-0.00458649  0.0690387 ]\n",
      "x: [-1.14606024  0.73509787] , y: 1 , result: 0.0560066020691 , error: 0 , weight: [-0.00458649  0.0690387 ]\n",
      "x: [-1.07977028 -0.9752269 ] , y: 0 , result: -0.0623760414884 , error: 0 , weight: [-0.00458649  0.0690387 ]\n",
      "x: [-2.29058625 -3.46066387] , y: 0 , result: -0.228413987841 , error: 0 , weight: [-0.00458649  0.0690387 ]\n",
      "x: [-1.51024456  0.78027686] , y: 1 , result: 0.0607960303739 , error: 0 , weight: [-0.00458649  0.0690387 ]\n",
      "x: [ 0.91825789  3.22125671] , y: 1 , result: 0.21817980351 , error: 0 , weight: [-0.00458649  0.0690387 ]\n",
      "x: [-0.70628577 -0.32412445] , y: 0 , result: -0.0191377566582 , error: 0 , weight: [-0.00458649  0.0690387 ]\n",
      "x: [ 0.22829488  1.80539873] , y: 1 , result: 0.123595314618 , error: 0 , weight: [-0.00458649  0.0690387 ]\n",
      "x: [-0.23714089 -0.43804357] , y: 0 , result: -0.0291543151015 , error: 0 , weight: [-0.00458649  0.0690387 ]\n",
      "x: [-0.98173165  1.18525652] , y: 1 , result: 0.0863312798887 , error: 0 , weight: [-0.00458649  0.0690387 ]\n",
      "x: [-1.44623068 -1.40450835] , y: 0 , result: -0.0903323073217 , error: 0 , weight: [-0.00458649  0.0690387 ]\n",
      "x: [-0.26923906 -0.16618495] , y: 0 , result: -0.0102383299017 , error: 0 , weight: [-0.00458649  0.0690387 ]\n",
      "x: [ 0.10728618  0.18131372] , y: 0 , result: 0.0120255970452 , error: -1 , weight: [-0.02604373  0.03277596]\n",
      "x: [-1.62250755  0.64222466] , y: 1 , result: 0.0633056762365 , error: 0 , weight: [-0.02604373  0.03277596]\n",
      "x: [-0.99639283 -0.73314127] , y: 0 , result: 0.00192037677829 , error: -1 , weight: [ 0.17323484  0.17940421]\n",
      "x: [-1.64971388  0.81391435] , y: 1 , result: -0.139768249989 , error: 1 , weight: [-0.15670794  0.34218708]\n",
      "x: [-0.70496975 -0.71300939] , y: 0 , result: -0.133508248992 , error: 0 , weight: [-0.15670794  0.34218708]\n",
      "x: [-1.20604293 -0.68035223] , y: 0 , result: -0.0438112446082 , error: 0 , weight: [-0.15670794  0.34218708]\n",
      "x: [-0.31165529  1.09955406] , y: 1 , result: 0.425092054567 , error: 0 , weight: [-0.15670794  0.34218708]\n",
      "x: [-1.62250755  0.64222466] , y: 1 , result: 0.474020795402 , error: 0 , weight: [-0.15670794  0.34218708]\n",
      "x: [-0.43459616  0.23969527] , y: 0 , result: 0.150125293335 , error: -1 , weight: [-0.06978871  0.29424803]\n",
      "x: [-1.83731293  0.21597401] , y: 1 , result: 0.191773620854 , error: 0 , weight: [-0.06978871  0.29424803]\n",
      "x: [-2.88246296 -0.46817061] , y: 1 , result: 0.0634050845108 , error: 0 , weight: [-0.06978871  0.29424803]\n",
      "x: [-0.00246807  1.96010903] , y: 1 , result: 0.576930461664 , error: 0 , weight: [-0.06978871  0.29424803]\n",
      "x: [-1.65424004  0.91192957] , y: 1 , result: 0.383780753212 , error: 0 , weight: [-0.06978871  0.29424803]\n",
      "x: [-1.62250755  0.64222466] , y: 1 , result: 0.302206043598 , error: 0 , weight: [-0.06978871  0.29424803]\n",
      "x: [-2.06370358 -2.31733042] , y: 0 , result: -0.537846704233 , error: 0 , weight: [-0.06978871  0.29424803]\n",
      "x: [-0.588547   -0.55715884] , y: 0 , result: -0.122868956799 , error: 0 , weight: [-0.06978871  0.29424803]\n",
      "x: [-0.91967208 -0.82745677] , y: 0 , result: -0.17929479882 , error: 0 , weight: [-0.06978871  0.29424803]\n",
      "x: [-0.588547   -0.55715884] , y: 0 , result: -0.122868956799 , error: 0 , weight: [-0.06978871  0.29424803]\n",
      "x: [-0.82986022  1.20418742] , y: 1 , result: 0.412244646945 , error: 0 , weight: [-0.06978871  0.29424803]\n",
      "x: [-0.70628577 -0.32412445] , y: 0 , result: -0.0460822104926 , error: 0 , weight: [-0.06978871  0.29424803]\n",
      "x: [-0.31946701  1.6802186 ] , y: 1 , result: 0.51669620267 , error: 0 , weight: [-0.06978871  0.29424803]\n",
      "x: [-0.88456763  0.84324258] , y: 1 , result: 0.309855298588 , error: 0 , weight: [-0.06978871  0.29424803]\n",
      "x: [-1.12223288  0.87958181] , y: 1 , result: 0.337134394716 , error: 0 , weight: [-0.06978871  0.29424803]\n",
      "x: [-1.82215181 -1.61167348] , y: 0 , result: -0.347066126718 , error: 0 , weight: [-0.06978871  0.29424803]\n",
      "x: [-0.7123574  -0.43531048] , y: 0 , result: -0.0783747476719 , error: 0 , weight: [-0.06978871  0.29424803]\n",
      "x: [-1.87312314  0.2642973 ] , y: 1 , result: 0.208491802541 , error: 0 , weight: [-0.06978871  0.29424803]\n",
      "x: [-0.98173165  1.18525652] , y: 1 , result: 0.417273177281 , error: 0 , weight: [-0.06978871  0.29424803]\n",
      "x: [-1.22179955 -1.15450746] , y: 0 , result: -0.254443734504 , error: 0 , weight: [-0.06978871  0.29424803]\n",
      "x: [-0.58728503 -0.2743181 ] , y: 0 , result: -0.039731697097 , error: 0 , weight: [-0.06978871  0.29424803]\n",
      "x: [-0.58023999 -0.59363646] , y: 0 , result: -0.134182160305 , error: 0 , weight: [-0.06978871  0.29424803]\n",
      "x: [-1.83731293  0.21597401] , y: 1 , result: 0.191773620854 , error: 0 , weight: [-0.06978871  0.29424803]\n",
      "x: [ 0.90427553  1.69777711] , y: 0 , result: 0.43645934883 , error: -1 , weight: [-0.25064381 -0.04530739]\n",
      "x: [-0.99639283 -0.73314127] , y: 0 , result: 0.282956418454 , error: -1 , weight: [-0.05136525  0.10132086]\n",
      "x: [-0.99639283 -0.73314127] , y: 0 , result: -0.0231025399595 , error: 0 , weight: [-0.05136525  0.10132086]\n",
      "x: [-0.70628577 -0.32412445] , y: 0 , result: 0.00343797542316 , error: -1 , weight: [ 0.08989191  0.16614575]\n",
      "x: [-1.22179955 -1.15450746] , y: 0 , result: -0.301646401795 , error: 0 , weight: [ 0.08989191  0.16614575]\n",
      "x: [ 0.03513162  0.56887741] , y: 0 , result: 0.0976746141263 , error: -1 , weight: [ 0.08286558  0.05237027]\n",
      "x: [-2.21922755 -2.60417603] , y: 0 , result: -0.320278981475 , error: 0 , weight: [ 0.08286558  0.05237027]\n",
      "x: [-1.58200259  0.13893335] , y: 1 , result: -0.123817588777 , error: 1 , weight: [-0.23353494  0.08015694]\n",
      "x: [ 0.03513162  0.56887741] , y: 0 , result: 0.0373950114262 , error: -1 , weight: [-0.24056126 -0.03361854]\n",
      "x: [-1.69804938 -2.40742929] , y: 0 , result: 0.489419166135 , error: -1 , weight: [ 0.09904862  0.44786732]\n",
      "x: [-1.51024456  0.78027686] , y: 1 , result: 0.199872869177 , error: 0 , weight: [ 0.09904862  0.44786732]\n",
      "x: [-0.23714089 -0.43804357] , y: 0 , result: -0.219673875943 , error: 0 , weight: [ 0.09904862  0.44786732]\n",
      "x: [-1.40700799 -1.91936754] , y: 0 , result: -0.998984181277 , error: 0 , weight: [ 0.09904862  0.44786732]\n",
      "x: [ 0.22829488  1.80539873] , y: 1 , result: 0.831191372808 , error: 0 , weight: [ 0.09904862  0.44786732]\n",
      "x: [-0.7123574  -0.43531048] , y: 0 , result: -0.265519348216 , error: 0 , weight: [ 0.09904862  0.44786732]\n",
      "x: [-1.28859494 -1.76646872] , y: 0 , result: -0.918777148482 , error: 0 , weight: [ 0.09904862  0.44786732]\n",
      "x: [-0.77470246 -0.43412497] , y: 0 , result: -0.271163589636 , error: 0 , weight: [ 0.09904862  0.44786732]\n",
      "x: [ 0.04240058  0.35556549] , y: 0 , result: 0.163445877666 , error: -1 , weight: [ 0.0905685   0.37675422]\n",
      "x: [-1.58200259  0.13893335] , y: 1 , result: -0.0909358752112 , error: 1 , weight: [-0.22583202  0.40454089]\n",
      "x: [ 0.91825789  3.22125671] , y: 1 , result: 1.09575802229 , error: 0 , weight: [-0.22583202  0.40454089]\n",
      "x: [-0.88456763  0.84324258] , y: 1 , result: 0.540889796413 , error: 0 , weight: [-0.22583202  0.40454089]\n",
      "x: [-0.77470246 -0.43412497] , y: 0 , result: -0.000668679494429 , error: 0 , weight: [-0.22583202  0.40454089]\n",
      "x: [-1.65424004  0.91192957] , y: 1 , result: 0.742493167766 , error: 0 , weight: [-0.22583202  0.40454089]\n",
      "x: [-1.65424004  0.91192957] , y: 1 , result: 0.742493167766 , error: 0 , weight: [-0.22583202  0.40454089]\n",
      "x: [-0.7123574  -0.43531048] , y: 0 , result: -0.0152277780062 , error: 0 , weight: [-0.22583202  0.40454089]\n",
      "x: [ 0.90427553  1.69777711] , y: 0 , result: 0.482605894145 , error: -1 , weight: [-0.40668712  0.06498547]\n",
      "x: [-1.40700799 -1.91936754] , y: 0 , result: 0.447481036667 , error: -1 , weight: [-0.12528553  0.44885898]\n",
      "x: [-1.12223288  0.87958181] , y: 1 , result: 0.535407726533 , error: 0 , weight: [-0.12528553  0.44885898]\n",
      "x: [-1.62250755  0.64222466] , y: 1 , result: 0.491545015507 , error: 0 , weight: [-0.12528553  0.44885898]\n",
      "x: [-1.78809006  0.66788296] , y: 1 , result: 0.523807065085 , error: 0 , weight: [-0.12528553  0.44885898]\n",
      "x: [-1.22179955 -1.15450746] , y: 0 , result: -0.36513723503 , error: 0 , weight: [-0.12528553  0.44885898]\n",
      "x: [-0.31946701  1.6802186 ] , y: 1 , result: 0.794205794081 , error: 0 , weight: [-0.12528553  0.44885898]\n",
      "x: [-1.28859494 -1.76646872] , y: 0 , result: -0.631453041726 , error: 0 , weight: [-0.12528553  0.44885898]\n",
      "x: [-0.87264106  0.91952145] , y: 1 , result: 0.522064749184 , error: 0 , weight: [-0.12528553  0.44885898]\n",
      "x: [ 0.18342541  0.90058305] , y: 0 , result: 0.381254237375 , error: -1 , weight: [-0.16197061  0.26874236]\n",
      "x: [-1.87312314  0.2642973 ] , y: 1 , result: 0.374418779326 , error: 0 , weight: [-0.16197061  0.26874236]\n",
      "x: [-0.87226638  1.60766161] , y: 1 , result: 0.573328298784 , error: 0 , weight: [-0.16197061  0.26874236]\n",
      "x: [-2.29058625 -3.46066387] , y: 0 , result: -0.559019338611 , error: 0 , weight: [-0.16197061  0.26874236]\n",
      "x: [-1.5533552   0.13129211] , y: 1 , result: 0.286881640244 , error: 0 , weight: [-0.16197061  0.26874236]\n",
      "x: [-1.64971388  0.81391435] , y: 1 , result: 0.485938429438 , error: 0 , weight: [-0.16197061  0.26874236]\n",
      "x: [-0.00699847  1.63368545] , y: 1 , result: 0.440174036029 , error: 0 , weight: [-0.16197061  0.26874236]\n",
      "x: [-0.00246807  1.96010903] , y: 1 , result: 0.527164089336 , error: 0 , weight: [-0.16197061  0.26874236]\n"
     ]
    }
   ],
   "source": [
    "# set the step function\n",
    "step = lambda x: 0 if x < 0 else 1\n",
    "\n",
    "# choose a number of random weights between 0 & 1\n",
    "w =  np.random.rand(2)\n",
    "\n",
    "# initialie an error list, a learning rate, and a variable for the number of samples \n",
    "errors = []\n",
    "eta = 0.2\n",
    "n = 100\n",
    "\n",
    "#try to reduce the error magnitude to zero \n",
    "for i in range(n):\n",
    "    \n",
    "    # choose a random input from the data set\n",
    "    rand = random.randrange(0, 99, 1)\n",
    "    x = X[rand]\n",
    "    label = y[rand]\n",
    "    \n",
    "    # compute the dot product of the weight and input vector\n",
    "    result = dot(w, x)\n",
    "    \n",
    "    # compare the expected label to the predicted label\n",
    "    error = label - step(result)\n",
    "    \n",
    "    # store errors to list to plot afterwards\n",
    "    errors.append(error)\n",
    "    w += eta * error * x\n",
    "\n",
    "    print(\"x: {} , y: {} , result: {} , error: {} , weight: {}\".format(x, label, result, error, w))"
   ]
  },
  {
   "cell_type": "markdown",
   "metadata": {},
   "source": [
    "### Plot the PLA Errors"
   ]
  },
  {
   "cell_type": "code",
   "execution_count": 7,
   "metadata": {},
   "outputs": [
    {
     "data": {
      "image/png": "[encoded data removed]",
      "text/plain": [
       "<matplotlib.figure.Figure at 0x7f2ddc586c50>"
      ]
     },
     "metadata": {},
     "output_type": "display_data"
    }
   ],
   "source": [
    "from pylab import plot, ylim\n",
    "ylim([-1,1])\n",
    "plot(errors)\n",
    "plt.show()"
   ]
  },
  {
   "cell_type": "markdown",
   "metadata": {},
   "source": [
    "## PART B"
   ]
  },
  {
   "cell_type": "markdown",
   "metadata": {},
   "source": [
    "### Gradient Descent "
   ]
  },
  {
   "cell_type": "code",
   "execution_count": 8,
   "metadata": {
    "collapsed": true
   },
   "outputs": [],
   "source": [
    "def predict(row, weights):\n",
    "    activation = weights[0]\n",
    "    for i in range(len(row)-1):\n",
    "        activation += weights[i + 1] * row[i]\n",
    "    return 1.0 if activation >= 0.0 else 0.0"
   ]
  },
  {
   "cell_type": "code",
   "execution_count": 9,
   "metadata": {
    "collapsed": true
   },
   "outputs": [],
   "source": [
    "def train_weights(train, l_rate, n_epoch):\n",
    "    weights = [0.0 for i in range(len(train[0]))]\n",
    "    epoch = 0\n",
    "    for epoch in range(n_epoch):\n",
    "        sum_error = 0.0\n",
    "        for row in train:\n",
    "            prediction = predict(row, weights)\n",
    "            error = row[-1] - prediction\n",
    "            sum_error += error**2\n",
    "            weights[0] = weights[0] + l_rate * error\n",
    "            for i in range(len(row)-1):\n",
    "                weights[i + 1] = weights[i + 1] + l_rate * error * row[i]\n",
    "    print('>epoch=%d, lrate=%.3f, error=%.3f' % (epoch, l_rate, sum_error))\n",
    "    return weights"
   ]
  },
  {
   "cell_type": "code",
   "execution_count": 10,
   "metadata": {},
   "outputs": [
    {
     "ename": "NameError",
     "evalue": "name 'weights' is not defined",
     "output_type": "error",
     "traceback": [
      "\u001b[0;31m---------------------------------------------------------------------------\u001b[0m",
      "\u001b[0;31mNameError\u001b[0m                                 Traceback (most recent call last)",
      "\u001b[0;32m<ipython-input-10-f0b276af4de0>\u001b[0m in \u001b[0;36m<module>\u001b[0;34m()\u001b[0m\n\u001b[1;32m      1\u001b[0m \u001b[0;32mfor\u001b[0m \u001b[0mt\u001b[0m \u001b[0;32min\u001b[0m \u001b[0mrange\u001b[0m\u001b[0;34m(\u001b[0m\u001b[0mX\u001b[0m\u001b[0;34m.\u001b[0m\u001b[0mshape\u001b[0m\u001b[0;34m[\u001b[0m\u001b[0;36m0\u001b[0m\u001b[0;34m]\u001b[0m\u001b[0;34m)\u001b[0m\u001b[0;34m:\u001b[0m\u001b[0;34m\u001b[0m\u001b[0m\n\u001b[0;32m----> 2\u001b[0;31m     \u001b[0mpredict\u001b[0m\u001b[0;34m(\u001b[0m\u001b[0mX\u001b[0m\u001b[0;34m[\u001b[0m\u001b[0mi\u001b[0m\u001b[0;34m]\u001b[0m\u001b[0;34m,\u001b[0m \u001b[0mweights\u001b[0m\u001b[0;34m)\u001b[0m\u001b[0;34m\u001b[0m\u001b[0m\n\u001b[0m",
      "\u001b[0;31mNameError\u001b[0m: name 'weights' is not defined"
     ]
    }
   ],
   "source": [
    "for t in range(X.shape[0]): \n",
    "    predict(X[i], weights)"
   ]
  },
  {
   "cell_type": "code",
   "execution_count": null,
   "metadata": {
    "collapsed": true
   },
   "outputs": [],
   "source": []
  }
 ],
 "metadata": {
  "kernelspec": {
   "display_name": "Python 2",
   "language": "python",
   "name": "python2"
  },
  "language_info": {
   "codemirror_mode": {
    "name": "ipython",
    "version": 2
   },
   "file_extension": ".py",
   "mimetype": "text/x-python",
   "name": "python",
   "nbconvert_exporter": "python",
   "pygments_lexer": "ipython2",
   "version": "2.7.14"
  }
 },
 "nbformat": 4,
 "nbformat_minor": 2
}
