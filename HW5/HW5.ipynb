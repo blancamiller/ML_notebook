{
 "cells": [
  {
   "cell_type": "markdown",
   "metadata": {},
   "source": [
    "# HW5: Learning Classifier Weights using Perceptron Learning and Gradient Descent"
   ]
  },
  {
   "cell_type": "markdown",
   "metadata": {},
   "source": [
    "Blanca Miller <br />\n",
    "STAT 760 <br />\n",
    "03.08.2018 <br />"
   ]
  },
  {
   "cell_type": "markdown",
   "metadata": {},
   "source": [
    "__Objective:__ \n",
    "- Generate a data set composed of classified points where each data vector is made up of a position and classification.\n",
    "- part a) Find a separating hyperplane using perceptron learning algorithm using a step function. Measure the run time for 10, 50 & 100 points. \n",
    "- part b) Find a separating hyperplane using gradient descent using a sigmoid function. Measure the run time for 10, 50, & 100 points. \n",
    "- Does the run time increase linearly? Explain.\n",
    "\n",
    "Weights map inputs to outputs, thus classifying a set of inputted data. The perceptron learning algorithm (PLA) always finds a hyperplane in a fininte amount of iterations, if a data set is linearly separable. Greadient descent finds the minimun of a function the (non-linear separability) \n",
    "\n",
    "\n",
    "with a step function using the thresholded outputs. "
   ]
  },
  {
   "cell_type": "markdown",
   "metadata": {},
   "source": [
    "__Given:__\n",
    "    - input vector: xi\n",
    "    - target/label: y\n",
    "    - learning rate: η \n",
    "    - weight: wi\n",
    "    - predicted label: y_hat\n",
    "\n",
    "__Perceptron Learning Algorithm:__\n",
    "    - output calculation: y_hat = ∑ wi * xi , where y_hat >= 0 or y_hat < 0\n",
    "    - weight calculation: wi = wi + Δwi\n",
    "    - weight change: Δwi = η(y - y_hat) * xi\n",
    "    \n",
    "__Gradient Descent:__\n",
    "    - "
   ]
  },
  {
   "cell_type": "markdown",
   "metadata": {},
   "source": [
    "## Randomly Generate a data set X and labels y where n=100"
   ]
  },
  {
   "cell_type": "code",
   "execution_count": 1,
   "metadata": {},
   "outputs": [
    {
     "ename": "SyntaxError",
     "evalue": "invalid syntax (<ipython-input-1-1373be4e3dd5>, line 3)",
     "output_type": "error",
     "traceback": [
      "\u001b[0;36m  File \u001b[0;32m\"<ipython-input-1-1373be4e3dd5>\"\u001b[0;36m, line \u001b[0;32m3\u001b[0m\n\u001b[0;31m    data =\u001b[0m\n\u001b[0m            ^\u001b[0m\n\u001b[0;31mSyntaxError\u001b[0m\u001b[0;31m:\u001b[0m invalid syntax\n"
     ]
    }
   ],
   "source": [
    "n = 100\n",
    "for i in n: \n",
    "    data =  "
   ]
  },
  {
   "cell_type": "code",
   "execution_count": null,
   "metadata": {
    "collapsed": true
   },
   "outputs": [],
   "source": []
  }
 ],
 "metadata": {
  "kernelspec": {
   "display_name": "Python 2",
   "language": "python",
   "name": "python2"
  },
  "language_info": {
   "codemirror_mode": {
    "name": "ipython",
    "version": 2
   },
   "file_extension": ".py",
   "mimetype": "text/x-python",
   "name": "python",
   "nbconvert_exporter": "python",
   "pygments_lexer": "ipython2",
   "version": "2.7.14"
  }
 },
 "nbformat": 4,
 "nbformat_minor": 2
}
