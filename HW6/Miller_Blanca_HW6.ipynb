{
 "cells": [
  {
   "cell_type": "markdown",
   "metadata": {},
   "source": [
    "# HW6: Train Neural Net for Digits Data Set"
   ]
  },
  {
   "cell_type": "markdown",
   "metadata": {},
   "source": [
    "Blanca Miller <br />\n",
    "STAT 760 <br />\n",
    "03.22.2018 <br />"
   ]
  },
  {
   "cell_type": "markdown",
   "metadata": {},
   "source": [
    "**Objective:** Learn to classify digits with a neural net. Using the digits dataset, reduce the dimensions of the dataset to 16 using PCA, then train a neural network for the 10 classes, and provide a confusion matrix to evaluate the performance of the classifying neural net. \n",
    "\n",
    "We'll use a multi-layer perceptron (MLP) to train the classifier model. MLP trains using gradient descent. The gradients are calculated using backpropogation. For classification, MLP minimizes the Cross-Entropy loss function.\n",
    "\n",
    "**Digits Data Set:** https://web.stanford.edu/~hastie/ElemStatLearn/"
   ]
  },
  {
   "cell_type": "markdown",
   "metadata": {},
   "source": [
    "#### Import Libraries"
   ]
  },
  {
   "cell_type": "code",
   "execution_count": 3,
   "metadata": {},
   "outputs": [],
   "source": [
    "import sklearn\n",
    "import itertools\n",
    "import numpy as np\n",
    "import pandas as pd\n",
    "import seaborn as sb\n",
    "import matplotlib.pyplot as plt\n",
    "\n",
    "from sklearn import preprocessing\n",
    "from sklearn import decomposition\n",
    "from sklearn.neural_network import MLPClassifier\n",
    "from sklearn.metrics import confusion_matrix"
   ]
  },
  {
   "cell_type": "markdown",
   "metadata": {},
   "source": [
    "#### Function: Confusion Matrix"
   ]
  },
  {
   "cell_type": "code",
   "execution_count": 4,
   "metadata": {},
   "outputs": [],
   "source": [
    "def plot_confusion_matrix(cm, classes,\n",
    "                          normalize=False,\n",
    "                          title='Confusion matrix',\n",
    "                          cmap=plt.cm.Blues):\n",
    "    \"\"\"\n",
    "    This function prints and plots the confusion matrix.\n",
    "    Normalization can be applied by setting `normalize=True`.\n",
    "    \"\"\"\n",
    "    if normalize:\n",
    "        cm = cm.astype('float') / cm.sum(axis=1)[:, np.newaxis]\n",
    "        print(\"Normalized confusion matrix\")\n",
    "    else:\n",
    "        print('Confusion matrix, without normalization')\n",
    "\n",
    "    print(cm)\n",
    "\n",
    "    plt.imshow(cm, interpolation='nearest', cmap=cmap)\n",
    "    plt.title(title)\n",
    "    plt.colorbar()\n",
    "    tick_marks = np.arange(len(classes))\n",
    "    plt.xticks(tick_marks, classes, rotation=45)\n",
    "    plt.yticks(tick_marks, classes)\n",
    "\n",
    "    fmt = '.2f' if normalize else 'd'\n",
    "    thresh = cm.max() / 2.\n",
    "    for i, j in itertools.product(range(cm.shape[0]), range(cm.shape[1])):\n",
    "        plt.text(j, i, format(cm[i, j], fmt),\n",
    "                 horizontalalignment=\"center\",\n",
    "                 color=\"white\" if cm[i, j] > thresh else \"black\")\n",
    "\n",
    "    plt.tight_layout()\n",
    "    plt.ylabel('True label')\n",
    "    plt.xlabel('Predicted label')"
   ]
  },
  {
   "cell_type": "markdown",
   "metadata": {},
   "source": [
    "#### Load Digits Data Set"
   ]
  },
  {
   "cell_type": "code",
   "execution_count": 5,
   "metadata": {},
   "outputs": [],
   "source": [
    "train = pd.read_csv('digits_data.train', delimiter=' ', header=None)\n",
    "test = pd.read_csv('digits_data.test', delimiter=' ', header=None)"
   ]
  },
  {
   "cell_type": "code",
   "execution_count": 6,
   "metadata": {},
   "outputs": [
    {
     "name": "stdout",
     "output_type": "stream",
     "text": [
      "Training set: (7291, 258)\n",
      "Testing set: (2007, 257)\n"
     ]
    }
   ],
   "source": [
    "# print data set dimensionality\n",
    "print(\"Training set: {}\".format(train.shape))\n",
    "print(\"Testing set: {}\".format(test.shape))"
   ]
  },
  {
   "cell_type": "code",
   "execution_count": 7,
   "metadata": {},
   "outputs": [
    {
     "data": {
      "text/html": [
       "<div>\n",
       "<style scoped>\n",
       "    .dataframe tbody tr th:only-of-type {\n",
       "        vertical-align: middle;\n",
       "    }\n",
       "\n",
       "    .dataframe tbody tr th {\n",
       "        vertical-align: top;\n",
       "    }\n",
       "\n",
       "    .dataframe thead th {\n",
       "        text-align: right;\n",
       "    }\n",
       "</style>\n",
       "<table border=\"1\" class=\"dataframe\">\n",
       "  <thead>\n",
       "    <tr style=\"text-align: right;\">\n",
       "      <th></th>\n",
       "      <th>0</th>\n",
       "      <th>1</th>\n",
       "      <th>2</th>\n",
       "      <th>3</th>\n",
       "      <th>4</th>\n",
       "      <th>5</th>\n",
       "      <th>6</th>\n",
       "      <th>7</th>\n",
       "      <th>8</th>\n",
       "      <th>9</th>\n",
       "      <th>...</th>\n",
       "      <th>248</th>\n",
       "      <th>249</th>\n",
       "      <th>250</th>\n",
       "      <th>251</th>\n",
       "      <th>252</th>\n",
       "      <th>253</th>\n",
       "      <th>254</th>\n",
       "      <th>255</th>\n",
       "      <th>256</th>\n",
       "      <th>257</th>\n",
       "    </tr>\n",
       "  </thead>\n",
       "  <tbody>\n",
       "    <tr>\n",
       "      <th>0</th>\n",
       "      <td>6.0</td>\n",
       "      <td>-1.0</td>\n",
       "      <td>-1.0</td>\n",
       "      <td>-1.0</td>\n",
       "      <td>-1.000</td>\n",
       "      <td>-1.000</td>\n",
       "      <td>-1.000</td>\n",
       "      <td>-1.000</td>\n",
       "      <td>-0.631</td>\n",
       "      <td>0.862</td>\n",
       "      <td>...</td>\n",
       "      <td>0.823</td>\n",
       "      <td>1.000</td>\n",
       "      <td>0.482</td>\n",
       "      <td>-0.474</td>\n",
       "      <td>-0.991</td>\n",
       "      <td>-1.000</td>\n",
       "      <td>-1.000</td>\n",
       "      <td>-1.000</td>\n",
       "      <td>-1.0</td>\n",
       "      <td>NaN</td>\n",
       "    </tr>\n",
       "    <tr>\n",
       "      <th>1</th>\n",
       "      <td>5.0</td>\n",
       "      <td>-1.0</td>\n",
       "      <td>-1.0</td>\n",
       "      <td>-1.0</td>\n",
       "      <td>-0.813</td>\n",
       "      <td>-0.671</td>\n",
       "      <td>-0.809</td>\n",
       "      <td>-0.887</td>\n",
       "      <td>-0.671</td>\n",
       "      <td>-0.853</td>\n",
       "      <td>...</td>\n",
       "      <td>-0.671</td>\n",
       "      <td>-0.033</td>\n",
       "      <td>0.761</td>\n",
       "      <td>0.762</td>\n",
       "      <td>0.126</td>\n",
       "      <td>-0.095</td>\n",
       "      <td>-0.671</td>\n",
       "      <td>-0.828</td>\n",
       "      <td>-1.0</td>\n",
       "      <td>NaN</td>\n",
       "    </tr>\n",
       "    <tr>\n",
       "      <th>2</th>\n",
       "      <td>4.0</td>\n",
       "      <td>-1.0</td>\n",
       "      <td>-1.0</td>\n",
       "      <td>-1.0</td>\n",
       "      <td>-1.000</td>\n",
       "      <td>-1.000</td>\n",
       "      <td>-1.000</td>\n",
       "      <td>-1.000</td>\n",
       "      <td>-1.000</td>\n",
       "      <td>-1.000</td>\n",
       "      <td>...</td>\n",
       "      <td>-1.000</td>\n",
       "      <td>-1.000</td>\n",
       "      <td>-0.109</td>\n",
       "      <td>1.000</td>\n",
       "      <td>-0.179</td>\n",
       "      <td>-1.000</td>\n",
       "      <td>-1.000</td>\n",
       "      <td>-1.000</td>\n",
       "      <td>-1.0</td>\n",
       "      <td>NaN</td>\n",
       "    </tr>\n",
       "    <tr>\n",
       "      <th>3</th>\n",
       "      <td>7.0</td>\n",
       "      <td>-1.0</td>\n",
       "      <td>-1.0</td>\n",
       "      <td>-1.0</td>\n",
       "      <td>-1.000</td>\n",
       "      <td>-1.000</td>\n",
       "      <td>-0.273</td>\n",
       "      <td>0.684</td>\n",
       "      <td>0.960</td>\n",
       "      <td>0.450</td>\n",
       "      <td>...</td>\n",
       "      <td>1.000</td>\n",
       "      <td>0.536</td>\n",
       "      <td>-0.987</td>\n",
       "      <td>-1.000</td>\n",
       "      <td>-1.000</td>\n",
       "      <td>-1.000</td>\n",
       "      <td>-1.000</td>\n",
       "      <td>-1.000</td>\n",
       "      <td>-1.0</td>\n",
       "      <td>NaN</td>\n",
       "    </tr>\n",
       "    <tr>\n",
       "      <th>4</th>\n",
       "      <td>3.0</td>\n",
       "      <td>-1.0</td>\n",
       "      <td>-1.0</td>\n",
       "      <td>-1.0</td>\n",
       "      <td>-1.000</td>\n",
       "      <td>-1.000</td>\n",
       "      <td>-0.928</td>\n",
       "      <td>-0.204</td>\n",
       "      <td>0.751</td>\n",
       "      <td>0.466</td>\n",
       "      <td>...</td>\n",
       "      <td>0.639</td>\n",
       "      <td>1.000</td>\n",
       "      <td>1.000</td>\n",
       "      <td>0.791</td>\n",
       "      <td>0.439</td>\n",
       "      <td>-0.199</td>\n",
       "      <td>-0.883</td>\n",
       "      <td>-1.000</td>\n",
       "      <td>-1.0</td>\n",
       "      <td>NaN</td>\n",
       "    </tr>\n",
       "  </tbody>\n",
       "</table>\n",
       "<p>5 rows × 258 columns</p>\n",
       "</div>"
      ],
      "text/plain": [
       "   0    1    2    3      4      5      6      7      8      9   ...     248  \\\n",
       "0  6.0 -1.0 -1.0 -1.0 -1.000 -1.000 -1.000 -1.000 -0.631  0.862 ...   0.823   \n",
       "1  5.0 -1.0 -1.0 -1.0 -0.813 -0.671 -0.809 -0.887 -0.671 -0.853 ...  -0.671   \n",
       "2  4.0 -1.0 -1.0 -1.0 -1.000 -1.000 -1.000 -1.000 -1.000 -1.000 ...  -1.000   \n",
       "3  7.0 -1.0 -1.0 -1.0 -1.000 -1.000 -0.273  0.684  0.960  0.450 ...   1.000   \n",
       "4  3.0 -1.0 -1.0 -1.0 -1.000 -1.000 -0.928 -0.204  0.751  0.466 ...   0.639   \n",
       "\n",
       "     249    250    251    252    253    254    255  256  257  \n",
       "0  1.000  0.482 -0.474 -0.991 -1.000 -1.000 -1.000 -1.0  NaN  \n",
       "1 -0.033  0.761  0.762  0.126 -0.095 -0.671 -0.828 -1.0  NaN  \n",
       "2 -1.000 -0.109  1.000 -0.179 -1.000 -1.000 -1.000 -1.0  NaN  \n",
       "3  0.536 -0.987 -1.000 -1.000 -1.000 -1.000 -1.000 -1.0  NaN  \n",
       "4  1.000  1.000  0.791  0.439 -0.199 -0.883 -1.000 -1.0  NaN  \n",
       "\n",
       "[5 rows x 258 columns]"
      ]
     },
     "execution_count": 7,
     "metadata": {},
     "output_type": "execute_result"
    }
   ],
   "source": [
    "# print subset (head) of training observations for verification\n",
    "train.head()"
   ]
  },
  {
   "cell_type": "code",
   "execution_count": 8,
   "metadata": {},
   "outputs": [
    {
     "data": {
      "text/html": [
       "<div>\n",
       "<style scoped>\n",
       "    .dataframe tbody tr th:only-of-type {\n",
       "        vertical-align: middle;\n",
       "    }\n",
       "\n",
       "    .dataframe tbody tr th {\n",
       "        vertical-align: top;\n",
       "    }\n",
       "\n",
       "    .dataframe thead th {\n",
       "        text-align: right;\n",
       "    }\n",
       "</style>\n",
       "<table border=\"1\" class=\"dataframe\">\n",
       "  <thead>\n",
       "    <tr style=\"text-align: right;\">\n",
       "      <th></th>\n",
       "      <th>0</th>\n",
       "      <th>1</th>\n",
       "      <th>2</th>\n",
       "      <th>3</th>\n",
       "      <th>4</th>\n",
       "      <th>5</th>\n",
       "      <th>6</th>\n",
       "      <th>7</th>\n",
       "      <th>8</th>\n",
       "      <th>9</th>\n",
       "      <th>...</th>\n",
       "      <th>247</th>\n",
       "      <th>248</th>\n",
       "      <th>249</th>\n",
       "      <th>250</th>\n",
       "      <th>251</th>\n",
       "      <th>252</th>\n",
       "      <th>253</th>\n",
       "      <th>254</th>\n",
       "      <th>255</th>\n",
       "      <th>256</th>\n",
       "    </tr>\n",
       "  </thead>\n",
       "  <tbody>\n",
       "    <tr>\n",
       "      <th>0</th>\n",
       "      <td>9</td>\n",
       "      <td>-1.0</td>\n",
       "      <td>-1.0</td>\n",
       "      <td>-1.0</td>\n",
       "      <td>-1.000</td>\n",
       "      <td>-1.0</td>\n",
       "      <td>-0.948</td>\n",
       "      <td>-0.561</td>\n",
       "      <td>0.148</td>\n",
       "      <td>0.384</td>\n",
       "      <td>...</td>\n",
       "      <td>-1.000</td>\n",
       "      <td>-0.908</td>\n",
       "      <td>0.430</td>\n",
       "      <td>0.622</td>\n",
       "      <td>-0.973</td>\n",
       "      <td>-1.000</td>\n",
       "      <td>-1.0</td>\n",
       "      <td>-1.0</td>\n",
       "      <td>-1.0</td>\n",
       "      <td>-1.0</td>\n",
       "    </tr>\n",
       "    <tr>\n",
       "      <th>1</th>\n",
       "      <td>6</td>\n",
       "      <td>-1.0</td>\n",
       "      <td>-1.0</td>\n",
       "      <td>-1.0</td>\n",
       "      <td>-1.000</td>\n",
       "      <td>-1.0</td>\n",
       "      <td>-1.000</td>\n",
       "      <td>-1.000</td>\n",
       "      <td>-1.000</td>\n",
       "      <td>-1.000</td>\n",
       "      <td>...</td>\n",
       "      <td>-1.000</td>\n",
       "      <td>-1.000</td>\n",
       "      <td>-1.000</td>\n",
       "      <td>-1.000</td>\n",
       "      <td>-1.000</td>\n",
       "      <td>-1.000</td>\n",
       "      <td>-1.0</td>\n",
       "      <td>-1.0</td>\n",
       "      <td>-1.0</td>\n",
       "      <td>-1.0</td>\n",
       "    </tr>\n",
       "    <tr>\n",
       "      <th>2</th>\n",
       "      <td>3</td>\n",
       "      <td>-1.0</td>\n",
       "      <td>-1.0</td>\n",
       "      <td>-1.0</td>\n",
       "      <td>-0.593</td>\n",
       "      <td>0.7</td>\n",
       "      <td>1.000</td>\n",
       "      <td>1.000</td>\n",
       "      <td>1.000</td>\n",
       "      <td>1.000</td>\n",
       "      <td>...</td>\n",
       "      <td>1.000</td>\n",
       "      <td>0.717</td>\n",
       "      <td>0.333</td>\n",
       "      <td>0.162</td>\n",
       "      <td>-0.393</td>\n",
       "      <td>-1.000</td>\n",
       "      <td>-1.0</td>\n",
       "      <td>-1.0</td>\n",
       "      <td>-1.0</td>\n",
       "      <td>-1.0</td>\n",
       "    </tr>\n",
       "    <tr>\n",
       "      <th>3</th>\n",
       "      <td>6</td>\n",
       "      <td>-1.0</td>\n",
       "      <td>-1.0</td>\n",
       "      <td>-1.0</td>\n",
       "      <td>-1.000</td>\n",
       "      <td>-1.0</td>\n",
       "      <td>-1.000</td>\n",
       "      <td>-1.000</td>\n",
       "      <td>-1.000</td>\n",
       "      <td>-1.000</td>\n",
       "      <td>...</td>\n",
       "      <td>-1.000</td>\n",
       "      <td>-1.000</td>\n",
       "      <td>-1.000</td>\n",
       "      <td>-1.000</td>\n",
       "      <td>-1.000</td>\n",
       "      <td>-1.000</td>\n",
       "      <td>-1.0</td>\n",
       "      <td>-1.0</td>\n",
       "      <td>-1.0</td>\n",
       "      <td>-1.0</td>\n",
       "    </tr>\n",
       "    <tr>\n",
       "      <th>4</th>\n",
       "      <td>6</td>\n",
       "      <td>-1.0</td>\n",
       "      <td>-1.0</td>\n",
       "      <td>-1.0</td>\n",
       "      <td>-1.000</td>\n",
       "      <td>-1.0</td>\n",
       "      <td>-1.000</td>\n",
       "      <td>-1.000</td>\n",
       "      <td>-0.858</td>\n",
       "      <td>-0.106</td>\n",
       "      <td>...</td>\n",
       "      <td>0.901</td>\n",
       "      <td>0.901</td>\n",
       "      <td>0.901</td>\n",
       "      <td>0.290</td>\n",
       "      <td>-0.369</td>\n",
       "      <td>-0.867</td>\n",
       "      <td>-1.0</td>\n",
       "      <td>-1.0</td>\n",
       "      <td>-1.0</td>\n",
       "      <td>-1.0</td>\n",
       "    </tr>\n",
       "  </tbody>\n",
       "</table>\n",
       "<p>5 rows × 257 columns</p>\n",
       "</div>"
      ],
      "text/plain": [
       "   0    1    2    3      4    5      6      7      8      9   ...     247  \\\n",
       "0    9 -1.0 -1.0 -1.0 -1.000 -1.0 -0.948 -0.561  0.148  0.384 ...  -1.000   \n",
       "1    6 -1.0 -1.0 -1.0 -1.000 -1.0 -1.000 -1.000 -1.000 -1.000 ...  -1.000   \n",
       "2    3 -1.0 -1.0 -1.0 -0.593  0.7  1.000  1.000  1.000  1.000 ...   1.000   \n",
       "3    6 -1.0 -1.0 -1.0 -1.000 -1.0 -1.000 -1.000 -1.000 -1.000 ...  -1.000   \n",
       "4    6 -1.0 -1.0 -1.0 -1.000 -1.0 -1.000 -1.000 -0.858 -0.106 ...   0.901   \n",
       "\n",
       "     248    249    250    251    252  253  254  255  256  \n",
       "0 -0.908  0.430  0.622 -0.973 -1.000 -1.0 -1.0 -1.0 -1.0  \n",
       "1 -1.000 -1.000 -1.000 -1.000 -1.000 -1.0 -1.0 -1.0 -1.0  \n",
       "2  0.717  0.333  0.162 -0.393 -1.000 -1.0 -1.0 -1.0 -1.0  \n",
       "3 -1.000 -1.000 -1.000 -1.000 -1.000 -1.0 -1.0 -1.0 -1.0  \n",
       "4  0.901  0.901  0.290 -0.369 -0.867 -1.0 -1.0 -1.0 -1.0  \n",
       "\n",
       "[5 rows x 257 columns]"
      ]
     },
     "execution_count": 8,
     "metadata": {},
     "output_type": "execute_result"
    }
   ],
   "source": [
    "# print subset (head) testing observations for verification\n",
    "test.head()"
   ]
  },
  {
   "cell_type": "markdown",
   "metadata": {},
   "source": [
    "#### Convert Data Frame into Numpy Array"
   ]
  },
  {
   "cell_type": "code",
   "execution_count": 9,
   "metadata": {},
   "outputs": [],
   "source": [
    "train_set = train.as_matrix()\n",
    "test_set = test.as_matrix()"
   ]
  },
  {
   "cell_type": "markdown",
   "metadata": {},
   "source": [
    "#### Parse Data Values from their Labels & Print Dimensions"
   ]
  },
  {
   "cell_type": "code",
   "execution_count": 10,
   "metadata": {},
   "outputs": [],
   "source": [
    "# get all rows from 1st-(last-1) column\n",
    "# last-1 is to remove NaN column that numpy inserted\n",
    "X_train = train_set[:, 1:257]\n",
    "\n",
    "# get all rows for 0th column\n",
    "y_train = train_set[:, 0]\n",
    "\n",
    "# get all rows for 1st - last columns\n",
    "X_test = test_set[:, 1:]\n",
    "\n",
    "# get all rows for 0th column\n",
    "y_test = test_set[:, 0]"
   ]
  },
  {
   "cell_type": "code",
   "execution_count": 11,
   "metadata": {},
   "outputs": [
    {
     "name": "stdout",
     "output_type": "stream",
     "text": [
      "Training Data: (7291, 256)\n",
      "Training Labels: (7291,)\n",
      "Testing Data: (2007, 256)\n",
      "Testing Labels: (2007,)\n"
     ]
    }
   ],
   "source": [
    "# print data & label set dimensionality for verification\n",
    "print(\"Training Data: {}\".format(X_train.shape))\n",
    "print(\"Training Labels: {}\".format(y_train.shape))\n",
    "print(\"Testing Data: {}\".format(X_test.shape))\n",
    "print(\"Testing Labels: {}\".format(y_test.shape))"
   ]
  },
  {
   "cell_type": "markdown",
   "metadata": {},
   "source": [
    "#### Determine & Print Number of Samples & Features"
   ]
  },
  {
   "cell_type": "code",
   "execution_count": 12,
   "metadata": {},
   "outputs": [],
   "source": [
    "n_trains = X_train.shape[0]\n",
    "n_features = X_train.shape[1]"
   ]
  },
  {
   "cell_type": "code",
   "execution_count": 13,
   "metadata": {},
   "outputs": [
    {
     "name": "stdout",
     "output_type": "stream",
     "text": [
      "Number of Training Samples: 7291\n",
      "Number of Data Features: 256\n"
     ]
    }
   ],
   "source": [
    "print(\"Number of Training Samples: {}\".format(n_trains))\n",
    "print(\"Number of Data Features: {}\".format(n_features))"
   ]
  },
  {
   "cell_type": "markdown",
   "metadata": {},
   "source": [
    "#### Standardize Data to Obtain Similar Inputs & Weight Magnitudes"
   ]
  },
  {
   "cell_type": "code",
   "execution_count": 14,
   "metadata": {},
   "outputs": [],
   "source": [
    "# set axis to 1 to standardize by sample/vector, rather than by feature \n",
    "X_train = preprocessing.scale(X_train, axis=1)\n",
    "X_test = preprocessing.scale(X_test, axis=1)"
   ]
  },
  {
   "cell_type": "markdown",
   "metadata": {},
   "source": [
    "#### Principal Component Analysis"
   ]
  },
  {
   "cell_type": "code",
   "execution_count": 15,
   "metadata": {},
   "outputs": [
    {
     "data": {
      "text/plain": [
       "array([0.15582707, 0.10293384, 0.06530886, 0.05641492, 0.04107802,\n",
       "       0.03749884, 0.03463196, 0.02686704, 0.02640698, 0.02329143,\n",
       "       0.02067199, 0.0186969 , 0.01606253, 0.01518529, 0.01486015,\n",
       "       0.01334564])"
      ]
     },
     "execution_count": 15,
     "metadata": {},
     "output_type": "execute_result"
    }
   ],
   "source": [
    "# designate number of principal components\n",
    "k = 16\n",
    "\n",
    "# construct object representing PCA operation, executed by \"fit\" method\n",
    "pca = decomposition.PCA(n_components = k)\n",
    "\n",
    "# execute PCA: identifies n components\n",
    "pca.fit(X_train)\n",
    "\n",
    "# project data: n dimensional reduced representation\n",
    "X_train_trans = pca.transform(X_train)\n",
    "X_test_trans = pca.transform(X_test)\n",
    "\n",
    "# amount of information compressed in the chosen k components\n",
    "pca.explained_variance_ratio_"
   ]
  },
  {
   "cell_type": "code",
   "execution_count": 27,
   "metadata": {},
   "outputs": [
    {
     "data": {
      "text/plain": [
       "(7291, 16)"
      ]
     },
     "execution_count": 27,
     "metadata": {},
     "output_type": "execute_result"
    }
   ],
   "source": [
    "X_train_trans.shape"
   ]
  },
  {
   "cell_type": "code",
   "execution_count": 16,
   "metadata": {},
   "outputs": [
    {
     "data": {
      "text/plain": [
       "0.669081469791873"
      ]
     },
     "execution_count": 16,
     "metadata": {},
     "output_type": "execute_result"
    }
   ],
   "source": [
    "# the percentage of cumulative variance - recommended to keep 70%+\n",
    "pca.explained_variance_ratio_.sum()"
   ]
  },
  {
   "cell_type": "markdown",
   "metadata": {},
   "source": [
    "**Analysis:** This value, the cumulative variance, tell us that reducing the data's dimensionality from the original 256 dimensions to the chosen 16 dimensions only removed ~30% of the information contained in the original components. This is OK because some of that information contains noise, such as in the form of outliers and redundancy. Thus, we are only retaining the components that provide the fundamental structure of the data set. "
   ]
  },
  {
   "cell_type": "code",
   "execution_count": 17,
   "metadata": {},
   "outputs": [
    {
     "data": {
      "text/html": [
       "<div>\n",
       "<style scoped>\n",
       "    .dataframe tbody tr th:only-of-type {\n",
       "        vertical-align: middle;\n",
       "    }\n",
       "\n",
       "    .dataframe tbody tr th {\n",
       "        vertical-align: top;\n",
       "    }\n",
       "\n",
       "    .dataframe thead th {\n",
       "        text-align: right;\n",
       "    }\n",
       "</style>\n",
       "<table border=\"1\" class=\"dataframe\">\n",
       "  <thead>\n",
       "    <tr style=\"text-align: right;\">\n",
       "      <th></th>\n",
       "      <th>0</th>\n",
       "      <th>1</th>\n",
       "      <th>2</th>\n",
       "      <th>3</th>\n",
       "      <th>4</th>\n",
       "      <th>5</th>\n",
       "      <th>6</th>\n",
       "      <th>7</th>\n",
       "      <th>8</th>\n",
       "      <th>9</th>\n",
       "      <th>...</th>\n",
       "      <th>246</th>\n",
       "      <th>247</th>\n",
       "      <th>248</th>\n",
       "      <th>249</th>\n",
       "      <th>250</th>\n",
       "      <th>251</th>\n",
       "      <th>252</th>\n",
       "      <th>253</th>\n",
       "      <th>254</th>\n",
       "      <th>255</th>\n",
       "    </tr>\n",
       "  </thead>\n",
       "  <tbody>\n",
       "    <tr>\n",
       "      <th>0</th>\n",
       "      <td>0.020767</td>\n",
       "      <td>0.020892</td>\n",
       "      <td>0.020038</td>\n",
       "      <td>0.017383</td>\n",
       "      <td>0.011280</td>\n",
       "      <td>-0.001436</td>\n",
       "      <td>0.002770</td>\n",
       "      <td>0.074980</td>\n",
       "      <td>0.041810</td>\n",
       "      <td>-0.009762</td>\n",
       "      <td>...</td>\n",
       "      <td>-0.057267</td>\n",
       "      <td>0.023995</td>\n",
       "      <td>0.051138</td>\n",
       "      <td>-0.026917</td>\n",
       "      <td>-0.026235</td>\n",
       "      <td>-0.000480</td>\n",
       "      <td>0.013252</td>\n",
       "      <td>0.017844</td>\n",
       "      <td>0.019480</td>\n",
       "      <td>0.020427</td>\n",
       "    </tr>\n",
       "    <tr>\n",
       "      <th>1</th>\n",
       "      <td>0.003684</td>\n",
       "      <td>0.007541</td>\n",
       "      <td>0.013784</td>\n",
       "      <td>0.025167</td>\n",
       "      <td>0.041100</td>\n",
       "      <td>0.055579</td>\n",
       "      <td>0.051438</td>\n",
       "      <td>0.003358</td>\n",
       "      <td>0.023490</td>\n",
       "      <td>0.071997</td>\n",
       "      <td>...</td>\n",
       "      <td>-0.022188</td>\n",
       "      <td>-0.024049</td>\n",
       "      <td>-0.050959</td>\n",
       "      <td>-0.034106</td>\n",
       "      <td>-0.019799</td>\n",
       "      <td>-0.007247</td>\n",
       "      <td>0.001185</td>\n",
       "      <td>0.003255</td>\n",
       "      <td>0.003449</td>\n",
       "      <td>0.003018</td>\n",
       "    </tr>\n",
       "    <tr>\n",
       "      <th>2</th>\n",
       "      <td>-0.003664</td>\n",
       "      <td>0.000027</td>\n",
       "      <td>0.004500</td>\n",
       "      <td>0.011590</td>\n",
       "      <td>0.020164</td>\n",
       "      <td>0.024164</td>\n",
       "      <td>0.025705</td>\n",
       "      <td>0.046801</td>\n",
       "      <td>-0.004783</td>\n",
       "      <td>-0.046556</td>\n",
       "      <td>...</td>\n",
       "      <td>-0.030538</td>\n",
       "      <td>-0.020838</td>\n",
       "      <td>-0.035574</td>\n",
       "      <td>-0.061992</td>\n",
       "      <td>-0.021720</td>\n",
       "      <td>-0.001798</td>\n",
       "      <td>0.000242</td>\n",
       "      <td>-0.000865</td>\n",
       "      <td>-0.002337</td>\n",
       "      <td>-0.003997</td>\n",
       "    </tr>\n",
       "    <tr>\n",
       "      <th>3</th>\n",
       "      <td>0.000229</td>\n",
       "      <td>0.001276</td>\n",
       "      <td>-0.002920</td>\n",
       "      <td>-0.015478</td>\n",
       "      <td>-0.038011</td>\n",
       "      <td>-0.066440</td>\n",
       "      <td>-0.102984</td>\n",
       "      <td>-0.132646</td>\n",
       "      <td>-0.132645</td>\n",
       "      <td>-0.106963</td>\n",
       "      <td>...</td>\n",
       "      <td>-0.120585</td>\n",
       "      <td>-0.145045</td>\n",
       "      <td>-0.133225</td>\n",
       "      <td>-0.099457</td>\n",
       "      <td>-0.066500</td>\n",
       "      <td>-0.036361</td>\n",
       "      <td>-0.013576</td>\n",
       "      <td>-0.002375</td>\n",
       "      <td>0.001870</td>\n",
       "      <td>0.001240</td>\n",
       "    </tr>\n",
       "    <tr>\n",
       "      <th>4</th>\n",
       "      <td>-0.005367</td>\n",
       "      <td>0.000803</td>\n",
       "      <td>0.012565</td>\n",
       "      <td>0.035269</td>\n",
       "      <td>0.074511</td>\n",
       "      <td>0.107217</td>\n",
       "      <td>0.100940</td>\n",
       "      <td>0.006847</td>\n",
       "      <td>-0.041835</td>\n",
       "      <td>-0.053673</td>\n",
       "      <td>...</td>\n",
       "      <td>0.029224</td>\n",
       "      <td>-0.079775</td>\n",
       "      <td>-0.159146</td>\n",
       "      <td>-0.092637</td>\n",
       "      <td>-0.040494</td>\n",
       "      <td>-0.008839</td>\n",
       "      <td>0.012617</td>\n",
       "      <td>0.018684</td>\n",
       "      <td>0.010167</td>\n",
       "      <td>-0.001674</td>\n",
       "    </tr>\n",
       "    <tr>\n",
       "      <th>5</th>\n",
       "      <td>0.008705</td>\n",
       "      <td>0.020989</td>\n",
       "      <td>0.038342</td>\n",
       "      <td>0.057897</td>\n",
       "      <td>0.070894</td>\n",
       "      <td>0.058736</td>\n",
       "      <td>0.025441</td>\n",
       "      <td>0.029680</td>\n",
       "      <td>0.032366</td>\n",
       "      <td>0.020442</td>\n",
       "      <td>...</td>\n",
       "      <td>0.079886</td>\n",
       "      <td>0.058057</td>\n",
       "      <td>0.017508</td>\n",
       "      <td>-0.010492</td>\n",
       "      <td>-0.002588</td>\n",
       "      <td>0.002359</td>\n",
       "      <td>0.006143</td>\n",
       "      <td>0.006480</td>\n",
       "      <td>0.005991</td>\n",
       "      <td>0.005408</td>\n",
       "    </tr>\n",
       "    <tr>\n",
       "      <th>6</th>\n",
       "      <td>-0.000269</td>\n",
       "      <td>-0.001461</td>\n",
       "      <td>-0.000901</td>\n",
       "      <td>0.001844</td>\n",
       "      <td>0.007364</td>\n",
       "      <td>-0.003315</td>\n",
       "      <td>-0.051236</td>\n",
       "      <td>-0.100110</td>\n",
       "      <td>-0.095994</td>\n",
       "      <td>-0.051980</td>\n",
       "      <td>...</td>\n",
       "      <td>-0.055881</td>\n",
       "      <td>-0.109261</td>\n",
       "      <td>-0.016510</td>\n",
       "      <td>0.082550</td>\n",
       "      <td>0.078238</td>\n",
       "      <td>0.044593</td>\n",
       "      <td>0.018306</td>\n",
       "      <td>0.005159</td>\n",
       "      <td>0.001067</td>\n",
       "      <td>0.000370</td>\n",
       "    </tr>\n",
       "    <tr>\n",
       "      <th>7</th>\n",
       "      <td>0.003808</td>\n",
       "      <td>0.007155</td>\n",
       "      <td>0.008440</td>\n",
       "      <td>-0.001523</td>\n",
       "      <td>-0.036132</td>\n",
       "      <td>-0.101701</td>\n",
       "      <td>-0.172361</td>\n",
       "      <td>-0.205520</td>\n",
       "      <td>-0.091556</td>\n",
       "      <td>0.058496</td>\n",
       "      <td>...</td>\n",
       "      <td>-0.107305</td>\n",
       "      <td>-0.107256</td>\n",
       "      <td>-0.039567</td>\n",
       "      <td>0.055447</td>\n",
       "      <td>0.088753</td>\n",
       "      <td>0.074727</td>\n",
       "      <td>0.041190</td>\n",
       "      <td>0.019729</td>\n",
       "      <td>0.009248</td>\n",
       "      <td>0.003657</td>\n",
       "    </tr>\n",
       "    <tr>\n",
       "      <th>8</th>\n",
       "      <td>0.012085</td>\n",
       "      <td>0.015690</td>\n",
       "      <td>0.024078</td>\n",
       "      <td>0.035435</td>\n",
       "      <td>0.042810</td>\n",
       "      <td>0.036046</td>\n",
       "      <td>0.020979</td>\n",
       "      <td>0.028388</td>\n",
       "      <td>-0.015646</td>\n",
       "      <td>-0.024804</td>\n",
       "      <td>...</td>\n",
       "      <td>0.024562</td>\n",
       "      <td>0.000701</td>\n",
       "      <td>-0.036937</td>\n",
       "      <td>-0.044878</td>\n",
       "      <td>0.014082</td>\n",
       "      <td>0.029054</td>\n",
       "      <td>0.024137</td>\n",
       "      <td>0.019911</td>\n",
       "      <td>0.016647</td>\n",
       "      <td>0.013026</td>\n",
       "    </tr>\n",
       "    <tr>\n",
       "      <th>9</th>\n",
       "      <td>0.009734</td>\n",
       "      <td>0.007048</td>\n",
       "      <td>0.001281</td>\n",
       "      <td>-0.010769</td>\n",
       "      <td>-0.025673</td>\n",
       "      <td>-0.028260</td>\n",
       "      <td>-0.009452</td>\n",
       "      <td>0.040738</td>\n",
       "      <td>0.113036</td>\n",
       "      <td>0.143814</td>\n",
       "      <td>...</td>\n",
       "      <td>0.099123</td>\n",
       "      <td>0.134557</td>\n",
       "      <td>0.101309</td>\n",
       "      <td>0.057453</td>\n",
       "      <td>0.035107</td>\n",
       "      <td>0.018633</td>\n",
       "      <td>0.011715</td>\n",
       "      <td>0.012773</td>\n",
       "      <td>0.012190</td>\n",
       "      <td>0.010594</td>\n",
       "    </tr>\n",
       "    <tr>\n",
       "      <th>10</th>\n",
       "      <td>-0.000174</td>\n",
       "      <td>-0.000903</td>\n",
       "      <td>-0.002281</td>\n",
       "      <td>-0.012064</td>\n",
       "      <td>-0.035295</td>\n",
       "      <td>-0.039117</td>\n",
       "      <td>-0.009245</td>\n",
       "      <td>0.070074</td>\n",
       "      <td>0.070041</td>\n",
       "      <td>0.020571</td>\n",
       "      <td>...</td>\n",
       "      <td>-0.123367</td>\n",
       "      <td>-0.021559</td>\n",
       "      <td>0.099337</td>\n",
       "      <td>0.141373</td>\n",
       "      <td>0.130115</td>\n",
       "      <td>0.085014</td>\n",
       "      <td>0.050576</td>\n",
       "      <td>0.029699</td>\n",
       "      <td>0.014234</td>\n",
       "      <td>0.003478</td>\n",
       "    </tr>\n",
       "    <tr>\n",
       "      <th>11</th>\n",
       "      <td>0.008302</td>\n",
       "      <td>0.010489</td>\n",
       "      <td>0.019493</td>\n",
       "      <td>0.041673</td>\n",
       "      <td>0.077649</td>\n",
       "      <td>0.101696</td>\n",
       "      <td>0.091646</td>\n",
       "      <td>0.059543</td>\n",
       "      <td>0.103551</td>\n",
       "      <td>0.126032</td>\n",
       "      <td>...</td>\n",
       "      <td>0.015237</td>\n",
       "      <td>0.064558</td>\n",
       "      <td>0.037629</td>\n",
       "      <td>0.031368</td>\n",
       "      <td>0.026163</td>\n",
       "      <td>0.009819</td>\n",
       "      <td>0.002559</td>\n",
       "      <td>0.001466</td>\n",
       "      <td>0.004099</td>\n",
       "      <td>0.006894</td>\n",
       "    </tr>\n",
       "    <tr>\n",
       "      <th>12</th>\n",
       "      <td>-0.008190</td>\n",
       "      <td>-0.003601</td>\n",
       "      <td>-0.000862</td>\n",
       "      <td>-0.002713</td>\n",
       "      <td>-0.006099</td>\n",
       "      <td>-0.010908</td>\n",
       "      <td>-0.029041</td>\n",
       "      <td>-0.060897</td>\n",
       "      <td>-0.055336</td>\n",
       "      <td>-0.047923</td>\n",
       "      <td>...</td>\n",
       "      <td>0.008324</td>\n",
       "      <td>-0.020779</td>\n",
       "      <td>-0.083339</td>\n",
       "      <td>-0.037723</td>\n",
       "      <td>0.016349</td>\n",
       "      <td>0.021230</td>\n",
       "      <td>0.002126</td>\n",
       "      <td>-0.007381</td>\n",
       "      <td>-0.010335</td>\n",
       "      <td>-0.010875</td>\n",
       "    </tr>\n",
       "    <tr>\n",
       "      <th>13</th>\n",
       "      <td>0.000192</td>\n",
       "      <td>0.002055</td>\n",
       "      <td>-0.000319</td>\n",
       "      <td>-0.007911</td>\n",
       "      <td>-0.017586</td>\n",
       "      <td>-0.023471</td>\n",
       "      <td>-0.028579</td>\n",
       "      <td>-0.055412</td>\n",
       "      <td>-0.043777</td>\n",
       "      <td>0.055107</td>\n",
       "      <td>...</td>\n",
       "      <td>-0.006905</td>\n",
       "      <td>-0.020132</td>\n",
       "      <td>-0.081401</td>\n",
       "      <td>-0.020655</td>\n",
       "      <td>0.033582</td>\n",
       "      <td>0.023034</td>\n",
       "      <td>0.004675</td>\n",
       "      <td>-0.005979</td>\n",
       "      <td>-0.007585</td>\n",
       "      <td>-0.003045</td>\n",
       "    </tr>\n",
       "    <tr>\n",
       "      <th>14</th>\n",
       "      <td>0.012741</td>\n",
       "      <td>0.006572</td>\n",
       "      <td>-0.004093</td>\n",
       "      <td>-0.026467</td>\n",
       "      <td>-0.048253</td>\n",
       "      <td>-0.050744</td>\n",
       "      <td>0.002819</td>\n",
       "      <td>0.118751</td>\n",
       "      <td>0.182261</td>\n",
       "      <td>0.153752</td>\n",
       "      <td>...</td>\n",
       "      <td>-0.053425</td>\n",
       "      <td>-0.039533</td>\n",
       "      <td>0.001773</td>\n",
       "      <td>-0.025648</td>\n",
       "      <td>-0.022196</td>\n",
       "      <td>-0.000962</td>\n",
       "      <td>0.016960</td>\n",
       "      <td>0.022580</td>\n",
       "      <td>0.020638</td>\n",
       "      <td>0.015590</td>\n",
       "    </tr>\n",
       "    <tr>\n",
       "      <th>15</th>\n",
       "      <td>0.007809</td>\n",
       "      <td>0.022635</td>\n",
       "      <td>0.032276</td>\n",
       "      <td>0.029665</td>\n",
       "      <td>0.019354</td>\n",
       "      <td>0.021177</td>\n",
       "      <td>0.085188</td>\n",
       "      <td>0.083151</td>\n",
       "      <td>0.065876</td>\n",
       "      <td>0.026181</td>\n",
       "      <td>...</td>\n",
       "      <td>0.109127</td>\n",
       "      <td>0.039002</td>\n",
       "      <td>-0.053123</td>\n",
       "      <td>0.010166</td>\n",
       "      <td>0.005832</td>\n",
       "      <td>0.002887</td>\n",
       "      <td>0.001418</td>\n",
       "      <td>-0.002706</td>\n",
       "      <td>-0.001603</td>\n",
       "      <td>0.001033</td>\n",
       "    </tr>\n",
       "  </tbody>\n",
       "</table>\n",
       "<p>16 rows × 256 columns</p>\n",
       "</div>"
      ],
      "text/plain": [
       "         0         1         2         3         4         5         6    \\\n",
       "0   0.020767  0.020892  0.020038  0.017383  0.011280 -0.001436  0.002770   \n",
       "1   0.003684  0.007541  0.013784  0.025167  0.041100  0.055579  0.051438   \n",
       "2  -0.003664  0.000027  0.004500  0.011590  0.020164  0.024164  0.025705   \n",
       "3   0.000229  0.001276 -0.002920 -0.015478 -0.038011 -0.066440 -0.102984   \n",
       "4  -0.005367  0.000803  0.012565  0.035269  0.074511  0.107217  0.100940   \n",
       "5   0.008705  0.020989  0.038342  0.057897  0.070894  0.058736  0.025441   \n",
       "6  -0.000269 -0.001461 -0.000901  0.001844  0.007364 -0.003315 -0.051236   \n",
       "7   0.003808  0.007155  0.008440 -0.001523 -0.036132 -0.101701 -0.172361   \n",
       "8   0.012085  0.015690  0.024078  0.035435  0.042810  0.036046  0.020979   \n",
       "9   0.009734  0.007048  0.001281 -0.010769 -0.025673 -0.028260 -0.009452   \n",
       "10 -0.000174 -0.000903 -0.002281 -0.012064 -0.035295 -0.039117 -0.009245   \n",
       "11  0.008302  0.010489  0.019493  0.041673  0.077649  0.101696  0.091646   \n",
       "12 -0.008190 -0.003601 -0.000862 -0.002713 -0.006099 -0.010908 -0.029041   \n",
       "13  0.000192  0.002055 -0.000319 -0.007911 -0.017586 -0.023471 -0.028579   \n",
       "14  0.012741  0.006572 -0.004093 -0.026467 -0.048253 -0.050744  0.002819   \n",
       "15  0.007809  0.022635  0.032276  0.029665  0.019354  0.021177  0.085188   \n",
       "\n",
       "         7         8         9      ...          246       247       248  \\\n",
       "0   0.074980  0.041810 -0.009762    ...    -0.057267  0.023995  0.051138   \n",
       "1   0.003358  0.023490  0.071997    ...    -0.022188 -0.024049 -0.050959   \n",
       "2   0.046801 -0.004783 -0.046556    ...    -0.030538 -0.020838 -0.035574   \n",
       "3  -0.132646 -0.132645 -0.106963    ...    -0.120585 -0.145045 -0.133225   \n",
       "4   0.006847 -0.041835 -0.053673    ...     0.029224 -0.079775 -0.159146   \n",
       "5   0.029680  0.032366  0.020442    ...     0.079886  0.058057  0.017508   \n",
       "6  -0.100110 -0.095994 -0.051980    ...    -0.055881 -0.109261 -0.016510   \n",
       "7  -0.205520 -0.091556  0.058496    ...    -0.107305 -0.107256 -0.039567   \n",
       "8   0.028388 -0.015646 -0.024804    ...     0.024562  0.000701 -0.036937   \n",
       "9   0.040738  0.113036  0.143814    ...     0.099123  0.134557  0.101309   \n",
       "10  0.070074  0.070041  0.020571    ...    -0.123367 -0.021559  0.099337   \n",
       "11  0.059543  0.103551  0.126032    ...     0.015237  0.064558  0.037629   \n",
       "12 -0.060897 -0.055336 -0.047923    ...     0.008324 -0.020779 -0.083339   \n",
       "13 -0.055412 -0.043777  0.055107    ...    -0.006905 -0.020132 -0.081401   \n",
       "14  0.118751  0.182261  0.153752    ...    -0.053425 -0.039533  0.001773   \n",
       "15  0.083151  0.065876  0.026181    ...     0.109127  0.039002 -0.053123   \n",
       "\n",
       "         249       250       251       252       253       254       255  \n",
       "0  -0.026917 -0.026235 -0.000480  0.013252  0.017844  0.019480  0.020427  \n",
       "1  -0.034106 -0.019799 -0.007247  0.001185  0.003255  0.003449  0.003018  \n",
       "2  -0.061992 -0.021720 -0.001798  0.000242 -0.000865 -0.002337 -0.003997  \n",
       "3  -0.099457 -0.066500 -0.036361 -0.013576 -0.002375  0.001870  0.001240  \n",
       "4  -0.092637 -0.040494 -0.008839  0.012617  0.018684  0.010167 -0.001674  \n",
       "5  -0.010492 -0.002588  0.002359  0.006143  0.006480  0.005991  0.005408  \n",
       "6   0.082550  0.078238  0.044593  0.018306  0.005159  0.001067  0.000370  \n",
       "7   0.055447  0.088753  0.074727  0.041190  0.019729  0.009248  0.003657  \n",
       "8  -0.044878  0.014082  0.029054  0.024137  0.019911  0.016647  0.013026  \n",
       "9   0.057453  0.035107  0.018633  0.011715  0.012773  0.012190  0.010594  \n",
       "10  0.141373  0.130115  0.085014  0.050576  0.029699  0.014234  0.003478  \n",
       "11  0.031368  0.026163  0.009819  0.002559  0.001466  0.004099  0.006894  \n",
       "12 -0.037723  0.016349  0.021230  0.002126 -0.007381 -0.010335 -0.010875  \n",
       "13 -0.020655  0.033582  0.023034  0.004675 -0.005979 -0.007585 -0.003045  \n",
       "14 -0.025648 -0.022196 -0.000962  0.016960  0.022580  0.020638  0.015590  \n",
       "15  0.010166  0.005832  0.002887  0.001418 -0.002706 -0.001603  0.001033  \n",
       "\n",
       "[16 rows x 256 columns]"
      ]
     },
     "execution_count": 17,
     "metadata": {},
     "output_type": "execute_result"
    }
   ],
   "source": [
    "components = pd.DataFrame(pca.components_)\n",
    "components"
   ]
  },
  {
   "cell_type": "code",
   "execution_count": 18,
   "metadata": {},
   "outputs": [
    {
     "data": {
      "text/plain": [
       "<matplotlib.axes._subplots.AxesSubplot at 0x7f42883a6ad0>"
      ]
     },
     "execution_count": 18,
     "metadata": {},
     "output_type": "execute_result"
    },
    {
     "data": {
      "image/png": "[encoded data removed]",
      "text/plain": [
       "<matplotlib.figure.Figure at 0x7f4291cb7090>"
      ]
     },
     "metadata": {},
     "output_type": "display_data"
    }
   ],
   "source": [
    "sb.heatmap(components)"
   ]
  },
  {
   "cell_type": "markdown",
   "metadata": {},
   "source": [
    "## Train a 1 Hidden Layer Neural Net"
   ]
  },
  {
   "cell_type": "code",
   "execution_count": 19,
   "metadata": {},
   "outputs": [
    {
     "name": "stderr",
     "output_type": "stream",
     "text": [
      "/home/blanca/anaconda2/lib/python2.7/site-packages/sklearn/neural_network/multilayer_perceptron.py:564: ConvergenceWarning: Stochastic Optimizer: Maximum iterations (200) reached and the optimization hasn't converged yet.\n",
      "  % self.max_iter, ConvergenceWarning)\n"
     ]
    },
    {
     "data": {
      "text/plain": [
       "MLPClassifier(activation='relu', alpha=0.0001, batch_size='auto', beta_1=0.9,\n",
       "       beta_2=0.999, early_stopping=False, epsilon=1e-08,\n",
       "       hidden_layer_sizes=(200,), learning_rate='constant',\n",
       "       learning_rate_init=0.001, max_iter=200, momentum=0.9,\n",
       "       nesterovs_momentum=True, power_t=0.5, random_state=None,\n",
       "       shuffle=True, solver='adam', tol=0.0001, validation_fraction=0.1,\n",
       "       verbose=False, warm_start=False)"
      ]
     },
     "execution_count": 19,
     "metadata": {},
     "output_type": "execute_result"
    }
   ],
   "source": [
    "# initialize classifier objects\n",
    "clf_10 = MLPClassifier(hidden_layer_sizes=(10,))\n",
    "clf_50 = MLPClassifier(hidden_layer_sizes=(50,))\n",
    "clf_100 = MLPClassifier()\n",
    "clf_150 = MLPClassifier(hidden_layer_sizes=(150,))\n",
    "clf_199 = MLPClassifier(hidden_layer_sizes=(200,))\n",
    "\n",
    "# fit the classifier model to the data matrix X and is targets y\n",
    "clf_10.fit(X_train_trans, y_train)\n",
    "clf_50.fit(X_train_trans, y_train)\n",
    "clf_100.fit(X_train_trans, y_train)\n",
    "clf_150.fit(X_train_trans, y_train)\n",
    "clf_199.fit(X_train_trans, y_train)"
   ]
  },
  {
   "cell_type": "code",
   "execution_count": 33,
   "metadata": {},
   "outputs": [
    {
     "name": "stdout",
     "output_type": "stream",
     "text": [
      "Training Data: (7291, 16)\n",
      "Training Labels: (7291,)\n",
      "Testing Data: (2007, 16)\n",
      "Testing Labels: (2007,)\n"
     ]
    }
   ],
   "source": [
    "print(\"Training Data: {}\".format(X_train_trans.shape))\n",
    "print(\"Training Labels: {}\".format(y_train.shape))\n",
    "\n",
    "print(\"Testing Data: {}\".format(X_test_trans.shape))\n",
    "print(\"Testing Labels: {}\".format(y_test.shape))"
   ]
  },
  {
   "cell_type": "markdown",
   "metadata": {},
   "source": [
    "#### Determine Neural Nets Predictive Score"
   ]
  },
  {
   "cell_type": "code",
   "execution_count": 20,
   "metadata": {},
   "outputs": [
    {
     "name": "stdout",
     "output_type": "stream",
     "text": [
      "Training 10 hidden layer set score: 0.949527\n",
      "Test 10 hidden set score: 0.899352\n",
      "Training 50 hidden layer set score: 0.999451\n",
      "Test 50 hidden set score: 0.930244\n",
      "Training 100 hidden layer set score: 0.999863\n",
      "Test 100 hidden set score: 0.938714\n",
      "Training 150 hidden layer set score: 0.999863\n",
      "Test 150 hidden set score: 0.938714\n",
      "Training 199 hidden layer set score: 0.999863\n",
      "Test 199 hidden set score: 0.941704\n"
     ]
    }
   ],
   "source": [
    "print(\"Training 10 hidden layer set score: %f\" % clf_10.score(X_train_trans, y_train))\n",
    "print(\"Test 10 hidden set score: %f\" % clf_10.score(X_test_trans, y_test))\n",
    "\n",
    "print(\"Training 50 hidden layer set score: %f\" % clf_50.score(X_train_trans, y_train))\n",
    "print(\"Test 50 hidden set score: %f\" % clf_50.score(X_test_trans, y_test))\n",
    "\n",
    "print(\"Training 100 hidden layer set score: %f\" % clf_100.score(X_train_trans, y_train))\n",
    "print(\"Test 100 hidden set score: %f\" % clf_100.score(X_test_trans, y_test))\n",
    "\n",
    "print(\"Training 150 hidden layer set score: %f\" % clf_150.score(X_train_trans, y_train))\n",
    "print(\"Test 150 hidden set score: %f\" % clf_150.score(X_test_trans, y_test))\n",
    "\n",
    "print(\"Training 199 hidden layer set score: %f\" % clf_199.score(X_train_trans, y_train))\n",
    "print(\"Test 199 hidden set score: %f\" % clf_199.score(X_test_trans, y_test))"
   ]
  },
  {
   "cell_type": "markdown",
   "metadata": {},
   "source": [
    "**Analysis:** The accuracy when using 1 hidden layer of 10 nodes was fairly accurate. As the number of the hidden nodes increased to 50, 100, and 150, there was a growth in accuracy. However, this growth slows and sometimes decreases as we approach the max number of nodes, 199."
   ]
  },
  {
   "cell_type": "markdown",
   "metadata": {},
   "source": [
    "Now that we've trained on the training set, we can predict labels for the test set."
   ]
  },
  {
   "cell_type": "markdown",
   "metadata": {},
   "source": [
    "#### Predict Labels for New Data"
   ]
  },
  {
   "cell_type": "code",
   "execution_count": 22,
   "metadata": {},
   "outputs": [],
   "source": [
    "test_predictions_10 = clf_10.predict(X_test_trans)\n",
    "test_predictions_50 = clf_50.predict(X_test_trans)\n",
    "test_predictions_100 = clf_100.predict(X_test_trans)\n",
    "test_predictions_150 = clf_150.predict(X_test_trans)\n",
    "test_predictions_199 = clf_199.predict(X_test_trans)"
   ]
  },
  {
   "cell_type": "code",
   "execution_count": 30,
   "metadata": {},
   "outputs": [
    {
     "data": {
      "text/plain": [
       "(7291, 16)"
      ]
     },
     "execution_count": 30,
     "metadata": {},
     "output_type": "execute_result"
    }
   ],
   "source": [
    "X_train_trans.shape"
   ]
  },
  {
   "cell_type": "code",
   "execution_count": 31,
   "metadata": {},
   "outputs": [
    {
     "data": {
      "text/plain": [
       "(2007,)"
      ]
     },
     "execution_count": 31,
     "metadata": {},
     "output_type": "execute_result"
    }
   ],
   "source": [
    "test_predictions_10.shape"
   ]
  },
  {
   "cell_type": "code",
   "execution_count": 23,
   "metadata": {},
   "outputs": [],
   "source": [
    "cm_10 = confusion_matrix(y_test, test_predictions_10)\n",
    "cm_50 = confusion_matrix(y_test, test_predictions_50)\n",
    "cm_100 = confusion_matrix(y_test, test_predictions_100)\n",
    "cm_150 = confusion_matrix(y_test, test_predictions_150)\n",
    "cm_199 = confusion_matrix(y_test, test_predictions_199)"
   ]
  },
  {
   "cell_type": "code",
   "execution_count": 32,
   "metadata": {},
   "outputs": [
    {
     "data": {
      "text/plain": [
       "(10, 10)"
      ]
     },
     "execution_count": 32,
     "metadata": {},
     "output_type": "execute_result"
    }
   ],
   "source": [
    "cm_10.shape"
   ]
  },
  {
   "cell_type": "code",
   "execution_count": 28,
   "metadata": {},
   "outputs": [],
   "source": [
    "class_names = [0, 1, 2, 3, 4, 5, 6, 7, 8, 9]"
   ]
  },
  {
   "cell_type": "code",
   "execution_count": 35,
   "metadata": {},
   "outputs": [
    {
     "name": "stdout",
     "output_type": "stream",
     "text": [
      "Confusion matrix, without normalization\n",
      "[[348   0   0   2   3   2   2   0   1   1]\n",
      " [  0 248   1   0   7   0   4   2   0   2]\n",
      " [  4   0 170   8   5   2   3   2   4   0]\n",
      " [  2   0   6 143   1  10   0   1   2   1]\n",
      " [  2   1   7   1 179   1   4   0   1   4]\n",
      " [  2   0   0  13   1 141   0   0   1   2]\n",
      " [  9   0   3   0   5   1 151   0   1   0]\n",
      " [  0   0   2   1   9   0   0 130   1   4]\n",
      " [  2   1   6   7   3   4   2   4 131   6]\n",
      " [  0   2   0   1   7   0   0   4   2 161]]\n"
     ]
    },
    {
     "data": {
      "image/png": "[encoded data removed]",
      "text/plain": [
       "<matplotlib.figure.Figure at 0x7f84b8125a10>"
      ]
     },
     "metadata": {},
     "output_type": "display_data"
    }
   ],
   "source": [
    "plot_confusion_matrix(cm_10, classes=class_names, title='Confusion matrix of 1 hidden layer & 10 nodes, w/o normalization')"
   ]
  },
  {
   "cell_type": "code",
   "execution_count": 39,
   "metadata": {},
   "outputs": [
    {
     "name": "stdout",
     "output_type": "stream",
     "text": [
      "Confusion matrix, without normalization\n",
      "[[350   0   2   0   2   1   3   0   0   1]\n",
      " [  0 256   0   0   5   0   3   0   0   0]\n",
      " [  3   1 181   2   2   2   1   1   5   0]\n",
      " [  1   0   2 149   0  11   0   1   2   0]\n",
      " [  0   1   4   0 187   2   1   1   0   4]\n",
      " [  2   0   0   5   1 147   0   0   3   2]\n",
      " [  0   0   2   0   3   3 162   0   0   0]\n",
      " [  1   1   1   1   4   0   0 136   1   2]\n",
      " [  0   0   2   4   0   3   1   1 152   3]\n",
      " [  0   1   0   3   3   0   0   3   0 167]]\n"
     ]
    },
    {
     "data": {
      "image/png": "[encoded data removed]",
      "text/plain": [
       "<matplotlib.figure.Figure at 0x7f84a767a710>"
      ]
     },
     "metadata": {},
     "output_type": "display_data"
    }
   ],
   "source": [
    "plot_confusion_matrix(cm_199, classes=class_names, title='Confusion matrix of 1 hidden layer & 199 nodes, w/o normalization')"
   ]
  },
  {
   "cell_type": "markdown",
   "metadata": {},
   "source": [
    "## Train a 3 Hidden Layer Neural Net"
   ]
  },
  {
   "cell_type": "code",
   "execution_count": 40,
   "metadata": {},
   "outputs": [
    {
     "data": {
      "text/plain": [
       "MLPClassifier(activation='relu', alpha=0.0001, batch_size='auto', beta_1=0.9,\n",
       "       beta_2=0.999, early_stopping=False, epsilon=1e-08,\n",
       "       hidden_layer_sizes=(200, 3), learning_rate='constant',\n",
       "       learning_rate_init=0.001, max_iter=200, momentum=0.9,\n",
       "       nesterovs_momentum=True, power_t=0.5, random_state=None,\n",
       "       shuffle=True, solver='adam', tol=0.0001, validation_fraction=0.1,\n",
       "       verbose=False, warm_start=False)"
      ]
     },
     "execution_count": 40,
     "metadata": {},
     "output_type": "execute_result"
    }
   ],
   "source": [
    "# initialize classifier objects\n",
    "clf_3_10 = MLPClassifier(hidden_layer_sizes=(10,3))\n",
    "clf_3_50 = MLPClassifier(hidden_layer_sizes=(50,3))\n",
    "clf_3_100 = MLPClassifier(hidden_layer_sizes=(100,3))\n",
    "clf_3_150 = MLPClassifier(hidden_layer_sizes=(150,3))\n",
    "clf_3_199 = MLPClassifier(hidden_layer_sizes=(200,3))\n",
    "\n",
    "# fit the classifier model to the data matrix X and is targets y\n",
    "clf_3_10.fit(X_train_trans, y_train)\n",
    "clf_3_50.fit(X_train_trans, y_train)\n",
    "clf_3_100.fit(X_train_trans, y_train)\n",
    "clf_3_150.fit(X_train_trans, y_train)\n",
    "clf_3_199.fit(X_train_trans, y_train)"
   ]
  },
  {
   "cell_type": "code",
   "execution_count": 41,
   "metadata": {},
   "outputs": [
    {
     "name": "stdout",
     "output_type": "stream",
     "text": [
      "Training 3 hidden layer & 10 node set score: 0.905774\n",
      "Test 3 hidden layer & 10 node set score: 0.858994\n",
      "Training 3 hidden layer & 50 node set score: 0.970374\n",
      "Test 3 hidden layer & 50 node set score: 0.892377\n",
      "Training 3 hidden layer & 100 node layer set score: 0.985599\n",
      "Test 3 hidden layer & 100 node set score: 0.895864\n",
      "Training 3 hidden layer & 150 node layer set score: 0.995474\n",
      "Test 3 hidden layer & 150 node set score: 0.904833\n",
      "Training 3 hidden layer & 199 node layer set score: 0.997668\n",
      "Test 3 hidden layer & 199 node set score: 0.914300\n"
     ]
    }
   ],
   "source": [
    "print(\"Training 3 hidden layer & 10 node set score: %f\" % clf_3_10.score(X_train_trans, y_train))\n",
    "print(\"Test 3 hidden layer & 10 node set score: %f\" % clf_3_10.score(X_test_trans, y_test))\n",
    "\n",
    "print(\"Training 3 hidden layer & 50 node set score: %f\" % clf_3_50.score(X_train_trans, y_train))\n",
    "print(\"Test 3 hidden layer & 50 node set score: %f\" % clf_3_50.score(X_test_trans, y_test))\n",
    "\n",
    "print(\"Training 3 hidden layer & 100 node layer set score: %f\" % clf_3_100.score(X_train_trans, y_train))\n",
    "print(\"Test 3 hidden layer & 100 node set score: %f\" % clf_3_100.score(X_test_trans, y_test))\n",
    "\n",
    "print(\"Training 3 hidden layer & 150 node layer set score: %f\" % clf_3_150.score(X_train_trans, y_train))\n",
    "print(\"Test 3 hidden layer & 150 node set score: %f\" % clf_3_150.score(X_test_trans, y_test))\n",
    "\n",
    "print(\"Training 3 hidden layer & 199 node layer set score: %f\" % clf_3_199.score(X_train_trans, y_train))\n",
    "print(\"Test 3 hidden layer & 199 node set score: %f\" % clf_3_199.score(X_test_trans, y_test))"
   ]
  },
  {
   "cell_type": "markdown",
   "metadata": {},
   "source": [
    "**Analysis:** Increasing the number of layers for the same number of nodes decresed the accuracy of prediction. A 3 hidden layers, 10 node model was several 3-4% less accurate than the 1 hidden layer, 10 node model and this pattern persisted as the number of nodes increased. Moreover, the 3 layer, 199 node model did not perform better than the 1 hidden layer, 50 node model.  "
   ]
  },
  {
   "cell_type": "markdown",
   "metadata": {},
   "source": [
    "#### Predict Labels for New Data"
   ]
  },
  {
   "cell_type": "code",
   "execution_count": 42,
   "metadata": {},
   "outputs": [],
   "source": [
    "test_predictions_3_10 = clf_3_10.predict(X_test_trans)\n",
    "test_predictions_3_50 = clf_3_50.predict(X_test_trans)\n",
    "test_predictions_3_100 = clf_3_100.predict(X_test_trans)\n",
    "test_predictions_3_150 = clf_3_150.predict(X_test_trans)\n",
    "test_predictions_3_199 = clf_3_199.predict(X_test_trans)"
   ]
  },
  {
   "cell_type": "code",
   "execution_count": 2,
   "metadata": {},
   "outputs": [
    {
     "ename": "NameError",
     "evalue": "name 'confusion_matrix' is not defined",
     "output_type": "error",
     "traceback": [
      "\u001b[0;31m---------------------------------------------------------------------------\u001b[0m",
      "\u001b[0;31mNameError\u001b[0m                                 Traceback (most recent call last)",
      "\u001b[0;32m<ipython-input-2-c759591e972b>\u001b[0m in \u001b[0;36m<module>\u001b[0;34m()\u001b[0m\n\u001b[0;32m----> 1\u001b[0;31m \u001b[0mcm_3_10\u001b[0m \u001b[0;34m=\u001b[0m \u001b[0mconfusion_matrix\u001b[0m\u001b[0;34m(\u001b[0m\u001b[0my_test\u001b[0m\u001b[0;34m,\u001b[0m \u001b[0mtest_predictions_3_10\u001b[0m\u001b[0;34m)\u001b[0m\u001b[0;34m\u001b[0m\u001b[0m\n\u001b[0m\u001b[1;32m      2\u001b[0m \u001b[0mcm_3_50\u001b[0m \u001b[0;34m=\u001b[0m \u001b[0mconfusion_matrix\u001b[0m\u001b[0;34m(\u001b[0m\u001b[0my_test\u001b[0m\u001b[0;34m,\u001b[0m \u001b[0mtest_predictions_3_50\u001b[0m\u001b[0;34m)\u001b[0m\u001b[0;34m\u001b[0m\u001b[0m\n\u001b[1;32m      3\u001b[0m \u001b[0mcm_3_100\u001b[0m \u001b[0;34m=\u001b[0m \u001b[0mconfusion_matrix\u001b[0m\u001b[0;34m(\u001b[0m\u001b[0my_test\u001b[0m\u001b[0;34m,\u001b[0m \u001b[0mtest_predictions_3_100\u001b[0m\u001b[0;34m)\u001b[0m\u001b[0;34m\u001b[0m\u001b[0m\n\u001b[1;32m      4\u001b[0m \u001b[0mcm_3_150\u001b[0m \u001b[0;34m=\u001b[0m \u001b[0mconfusion_matrix\u001b[0m\u001b[0;34m(\u001b[0m\u001b[0my_test\u001b[0m\u001b[0;34m,\u001b[0m \u001b[0mtest_predictions_3_150\u001b[0m\u001b[0;34m)\u001b[0m\u001b[0;34m\u001b[0m\u001b[0m\n\u001b[1;32m      5\u001b[0m \u001b[0mcm_3_199\u001b[0m \u001b[0;34m=\u001b[0m \u001b[0mconfusion_matrix\u001b[0m\u001b[0;34m(\u001b[0m\u001b[0my_test\u001b[0m\u001b[0;34m,\u001b[0m \u001b[0mtest_predictions_3_199\u001b[0m\u001b[0;34m)\u001b[0m\u001b[0;34m\u001b[0m\u001b[0m\n",
      "\u001b[0;31mNameError\u001b[0m: name 'confusion_matrix' is not defined"
     ]
    }
   ],
   "source": [
    "cm_3_10 = confusion_matrix(y_test, test_predictions_3_10)\n",
    "cm_3_50 = confusion_matrix(y_test, test_predictions_3_50)\n",
    "cm_3_100 = confusion_matrix(y_test, test_predictions_3_100)\n",
    "cm_3_150 = confusion_matrix(y_test, test_predictions_3_150)\n",
    "cm_3_199 = confusion_matrix(y_test, test_predictions_3_199)"
   ]
  },
  {
   "cell_type": "code",
   "execution_count": 46,
   "metadata": {},
   "outputs": [
    {
     "name": "stdout",
     "output_type": "stream",
     "text": [
      "Confusion matrix, without normalization\n",
      "[[344   1   0   1   2   2   2   1   4   2]\n",
      " [  0 246   0   0   2   3   5   1   0   7]\n",
      " [  2   0 153   5   8   2   4   6  16   2]\n",
      " [  3   0   1 141   1  12   0   0   6   2]\n",
      " [  0   1   7   0 163   3   5   0   1  20]\n",
      " [  3   0   2  15   5 125   0   0   6   4]\n",
      " [  8   0   4   0   4   1 143   0   2   8]\n",
      " [  1   1   1   0   0   2   3 131   1   7]\n",
      " [  5   0   9   9   2   6   0   1 127   7]\n",
      " [  1   2   0   0  11   1   4   3   4 151]]\n"
     ]
    },
    {
     "data": {
      "image/png": "[encoded data removed]",
      "text/plain": [
       "<matplotlib.figure.Figure at 0x7f84a7604a10>"
      ]
     },
     "metadata": {},
     "output_type": "display_data"
    }
   ],
   "source": [
    "plot_confusion_matrix(cm_3_10, classes=class_names, title='Confusion matrix of 3 hidden layers & 10 nodes, w/o normalization')"
   ]
  },
  {
   "cell_type": "code",
   "execution_count": 47,
   "metadata": {},
   "outputs": [
    {
     "name": "stdout",
     "output_type": "stream",
     "text": [
      "Confusion matrix, without normalization\n",
      "[[345   0   3   4   1   1   3   2   0   0]\n",
      " [  0 252   1   0   0   2   4   5   0   0]\n",
      " [  4   0 176   9   1   3   5   0   0   0]\n",
      " [  2   0   4 141   0  11   0   0   7   1]\n",
      " [  1   2   5   0 184   0   2   0   0   6]\n",
      " [  1   0   1   9   0 145   0   0   2   2]\n",
      " [  1   0   5   1   2   2 158   1   0   0]\n",
      " [  0   2   3   0   4   0   0 136   0   2]\n",
      " [  1   8   4   6   0  11   0   0 134   2]\n",
      " [  0   0   1   1   8   1   1   1   0 164]]\n"
     ]
    },
    {
     "data": {
      "image/png": "[encoded data removed]",
      "text/plain": [
       "<matplotlib.figure.Figure at 0x7f84b829bbd0>"
      ]
     },
     "metadata": {},
     "output_type": "display_data"
    }
   ],
   "source": [
    "plot_confusion_matrix(cm_3_199, classes=class_names, title='Confusion matrix of 3 hidden layers & 199 nodes, w/o normalization')"
   ]
  },
  {
   "cell_type": "markdown",
   "metadata": {},
   "source": [
    "## Train a 5 Hidden Layer Neural Net"
   ]
  },
  {
   "cell_type": "code",
   "execution_count": 48,
   "metadata": {},
   "outputs": [
    {
     "data": {
      "text/plain": [
       "MLPClassifier(activation='relu', alpha=0.0001, batch_size='auto', beta_1=0.9,\n",
       "       beta_2=0.999, early_stopping=False, epsilon=1e-08,\n",
       "       hidden_layer_sizes=(200, 5), learning_rate='constant',\n",
       "       learning_rate_init=0.001, max_iter=200, momentum=0.9,\n",
       "       nesterovs_momentum=True, power_t=0.5, random_state=None,\n",
       "       shuffle=True, solver='adam', tol=0.0001, validation_fraction=0.1,\n",
       "       verbose=False, warm_start=False)"
      ]
     },
     "execution_count": 48,
     "metadata": {},
     "output_type": "execute_result"
    }
   ],
   "source": [
    "# initialize classifier objects\n",
    "clf_5_10 = MLPClassifier(hidden_layer_sizes=(10,5))\n",
    "clf_5_50 = MLPClassifier(hidden_layer_sizes=(50,5))\n",
    "clf_5_100 = MLPClassifier(hidden_layer_sizes=(100,5))\n",
    "clf_5_150 = MLPClassifier(hidden_layer_sizes=(150,5))\n",
    "clf_5_199 = MLPClassifier(hidden_layer_sizes=(200,5))\n",
    "\n",
    "# fit the classifier model to the data matrix X and is targets y\n",
    "clf_5_10.fit(X_train_trans, y_train)\n",
    "clf_5_50.fit(X_train_trans, y_train)\n",
    "clf_5_100.fit(X_train_trans, y_train)\n",
    "clf_5_150.fit(X_train_trans, y_train)\n",
    "clf_5_199.fit(X_train_trans, y_train)"
   ]
  },
  {
   "cell_type": "code",
   "execution_count": 49,
   "metadata": {},
   "outputs": [
    {
     "name": "stdout",
     "output_type": "stream",
     "text": [
      "Training 5 hidden layer & 10 node set score: 0.937320\n",
      "Test 5 hidden layer & 10 node set score: 0.889387\n",
      "Training 5 hidden layer & 50 node set score: 0.994788\n",
      "Test 5 hidden layer & 50 node set score: 0.915296\n",
      "Training 5 hidden layer & 100 node layer set score: 0.998628\n",
      "Test 5 hidden layer & 100 node set score: 0.920777\n",
      "Training 5 hidden layer & 150 node layer set score: 0.999314\n",
      "Test  hidden layer & 150 node set score: 0.920777\n",
      "Training 5 hidden layer & 199 node layer set score: 0.998766\n",
      "Test 5 hidden layer & 199 node set score: 0.913802\n"
     ]
    }
   ],
   "source": [
    "print(\"Training 5 hidden layer & 10 node set score: %f\" % clf_5_10.score(X_train_trans, y_train))\n",
    "print(\"Test 5 hidden layer & 10 node set score: %f\" % clf_5_10.score(X_test_trans, y_test))\n",
    "\n",
    "print(\"Training 5 hidden layer & 50 node set score: %f\" % clf_5_50.score(X_train_trans, y_train))\n",
    "print(\"Test 5 hidden layer & 50 node set score: %f\" % clf_5_50.score(X_test_trans, y_test))\n",
    "\n",
    "print(\"Training 5 hidden layer & 100 node layer set score: %f\" % clf_5_100.score(X_train_trans, y_train))\n",
    "print(\"Test 5 hidden layer & 100 node set score: %f\" % clf_5_100.score(X_test_trans, y_test))\n",
    "\n",
    "print(\"Training 5 hidden layer & 150 node layer set score: %f\" % clf_5_150.score(X_train_trans, y_train))\n",
    "print(\"Test 5 hidden layer & 150 node set score: %f\" % clf_5_150.score(X_test_trans, y_test))\n",
    "\n",
    "print(\"Training 5 hidden layer & 199 node layer set score: %f\" % clf_5_199.score(X_train_trans, y_train))\n",
    "print(\"Test 5 hidden layer & 199 node set score: %f\" % clf_5_199.score(X_test_trans, y_test))"
   ]
  },
  {
   "cell_type": "markdown",
   "metadata": {},
   "source": [
    "**Analysis:** The 5 hidden layer models perform slightly better thatn the 3 layer models, however, overall they are not performing better than the 1 layer implementation."
   ]
  },
  {
   "cell_type": "markdown",
   "metadata": {},
   "source": [
    "#### Predict Labels for New Data"
   ]
  },
  {
   "cell_type": "code",
   "execution_count": 51,
   "metadata": {},
   "outputs": [],
   "source": [
    "test_predictions_5_10 = clf_5_10.predict(X_test_trans)\n",
    "test_predictions_5_50 = clf_5_50.predict(X_test_trans)\n",
    "test_predictions_5_100 = clf_5_100.predict(X_test_trans)\n",
    "test_predictions_5_150 = clf_5_150.predict(X_test_trans)\n",
    "test_predictions_5_199 = clf_5_199.predict(X_test_trans)"
   ]
  },
  {
   "cell_type": "code",
   "execution_count": 52,
   "metadata": {},
   "outputs": [],
   "source": [
    "cm_5_10 = confusion_matrix(y_test, test_predictions_5_10)\n",
    "cm_5_50 = confusion_matrix(y_test, test_predictions_5_50)\n",
    "cm_5_100 = confusion_matrix(y_test, test_predictions_5_100)\n",
    "cm_5_150 = confusion_matrix(y_test, test_predictions_5_150)\n",
    "cm_5_199 = confusion_matrix(y_test, test_predictions_5_199)"
   ]
  },
  {
   "cell_type": "code",
   "execution_count": 53,
   "metadata": {},
   "outputs": [
    {
     "name": "stdout",
     "output_type": "stream",
     "text": [
      "Confusion matrix, without normalization\n",
      "[[341   0   0   2   2   3   3   0   7   1]\n",
      " [  0 247   2   0   1   1   4   5   2   2]\n",
      " [  6   1 167   3   5   4   2   0  10   0]\n",
      " [  1   0   3 141   0  15   0   2   4   0]\n",
      " [  0   1   5   0 178   5   3   1   1   6]\n",
      " [  6   0   2   8   2 136   2   0   3   1]\n",
      " [  3   0   5   0   4   2 153   0   2   1]\n",
      " [  2   0   1   2   4   0   0 133   1   4]\n",
      " [  1   0  10   6   4   2   2   2 130   9]\n",
      " [  0   0   0   1   3   0   0  11   3 159]]\n"
     ]
    },
    {
     "data": {
      "image/png": "[encoded data removed]",
      "text/plain": [
       "<matplotlib.figure.Figure at 0x7f84b83ba150>"
      ]
     },
     "metadata": {},
     "output_type": "display_data"
    }
   ],
   "source": [
    "plot_confusion_matrix(cm_5_10, classes=class_names, title='Confusion matrix of 5 hidden layers & 10 nodes, w/o normalization')"
   ]
  },
  {
   "cell_type": "code",
   "execution_count": 54,
   "metadata": {},
   "outputs": [
    {
     "name": "stdout",
     "output_type": "stream",
     "text": [
      "Confusion matrix, without normalization\n",
      "[[347   0   1   0   3   2   2   1   2   1]\n",
      " [  1 252   1   2   2   1   2   0   2   1]\n",
      " [  4   0 175   5   2   1   0   1   7   3]\n",
      " [  1   1   3 146   2  10   0   2   1   0]\n",
      " [  2   1   6   0 176   2   2   0   5   6]\n",
      " [  3   2   0   6   1 145   0   0   2   1]\n",
      " [  3   0   2   0   2   1 158   0   4   0]\n",
      " [  0   2   1   3   3   0   0 133   1   4]\n",
      " [  1   0   3   4   3   4   4   2 141   4]\n",
      " [  0   2   0   5   2   0   0   2   5 161]]\n"
     ]
    },
    {
     "data": {
      "image/png": "[encoded data removed]",
      "text/plain": [
       "<matplotlib.figure.Figure at 0x7f84b83db550>"
      ]
     },
     "metadata": {},
     "output_type": "display_data"
    }
   ],
   "source": [
    "plot_confusion_matrix(cm_5_199, classes=class_names, title='Confusion matrix of 5 hidden layers & 199 nodes, w/o normalization')"
   ]
  },
  {
   "cell_type": "markdown",
   "metadata": {},
   "source": [
    "## Train a 10 Hidden Layer Neural Net"
   ]
  },
  {
   "cell_type": "code",
   "execution_count": 55,
   "metadata": {},
   "outputs": [
    {
     "data": {
      "text/plain": [
       "MLPClassifier(activation='relu', alpha=0.0001, batch_size='auto', beta_1=0.9,\n",
       "       beta_2=0.999, early_stopping=False, epsilon=1e-08,\n",
       "       hidden_layer_sizes=(200, 10), learning_rate='constant',\n",
       "       learning_rate_init=0.001, max_iter=200, momentum=0.9,\n",
       "       nesterovs_momentum=True, power_t=0.5, random_state=None,\n",
       "       shuffle=True, solver='adam', tol=0.0001, validation_fraction=0.1,\n",
       "       verbose=False, warm_start=False)"
      ]
     },
     "execution_count": 55,
     "metadata": {},
     "output_type": "execute_result"
    }
   ],
   "source": [
    "# initialize classifier objects\n",
    "clf_10_10 = MLPClassifier(hidden_layer_sizes=(10,10))\n",
    "clf_10_50 = MLPClassifier(hidden_layer_sizes=(50,10))\n",
    "clf_10_100 = MLPClassifier(hidden_layer_sizes=(100,10))\n",
    "clf_10_150 = MLPClassifier(hidden_layer_sizes=(150,10))\n",
    "clf_10_199 = MLPClassifier(hidden_layer_sizes=(200,10))\n",
    "\n",
    "# fit the classifier model to the data matrix X and is targets y\n",
    "clf_10_10.fit(X_train_trans, y_train)\n",
    "clf_10_50.fit(X_train_trans, y_train)\n",
    "clf_10_100.fit(X_train_trans, y_train)\n",
    "clf_10_150.fit(X_train_trans, y_train)\n",
    "clf_10_199.fit(X_train_trans, y_train)"
   ]
  },
  {
   "cell_type": "code",
   "execution_count": 56,
   "metadata": {},
   "outputs": [
    {
     "name": "stdout",
     "output_type": "stream",
     "text": [
      "Training 5 hidden layer & 10 node set score: 0.953367\n",
      "Test 5 hidden layer & 10 node set score: 0.896861\n",
      "Training 5 hidden layer & 50 node set score: 0.999863\n",
      "Test 5 hidden layer & 50 node set score: 0.925760\n",
      "Training 5 hidden layer & 100 node layer set score: 0.999863\n",
      "Test 5 hidden layer & 100 node set score: 0.936721\n",
      "Training 5 hidden layer & 150 node layer set score: 0.999863\n",
      "Test  hidden layer & 150 node set score: 0.932735\n",
      "Training 5 hidden layer & 199 node layer set score: 0.999863\n",
      "Test 5 hidden layer & 199 node set score: 0.934230\n"
     ]
    }
   ],
   "source": [
    "print(\"Training 10 hidden layer & 10 node set score: %f\" % clf_10_10.score(X_train_trans, y_train))\n",
    "print(\"Test 10 hidden layer & 10 node set score: %f\" % clf_10_10.score(X_test_trans, y_test))\n",
    "\n",
    "print(\"Training 10 hidden layer & 50 node set score: %f\" % clf_10_50.score(X_train_trans, y_train))\n",
    "print(\"Test 10 hidden layer & 50 node set score: %f\" % clf_10_50.score(X_test_trans, y_test))\n",
    "\n",
    "print(\"Training 10 hidden layer & 100 node layer set score: %f\" % clf_10_100.score(X_train_trans, y_train))\n",
    "print(\"Test 10 hidden layer & 100 node set score: %f\" % clf_10_100.score(X_test_trans, y_test))\n",
    "\n",
    "print(\"Training 10 hidden layer & 150 node layer set score: %f\" % clf_10_150.score(X_train_trans, y_train))\n",
    "print(\"Test 10 hidden layer & 150 node set score: %f\" % clf_10_150.score(X_test_trans, y_test))\n",
    "\n",
    "print(\"Training 10 hidden layer & 199 node layer set score: %f\" % clf_10_199.score(X_train_trans, y_train))\n",
    "print(\"Test 10 hidden layer & 199 node set score: %f\" % clf_10_199.score(X_test_trans, y_test))"
   ]
  },
  {
   "cell_type": "markdown",
   "metadata": {},
   "source": [
    "**Analysis:** Using 10 hidden layers has gotten more comparable results to the 1 layer model across the different node dimensions."
   ]
  },
  {
   "cell_type": "markdown",
   "metadata": {},
   "source": [
    "#### Predict Labels for New Data"
   ]
  },
  {
   "cell_type": "code",
   "execution_count": 57,
   "metadata": {},
   "outputs": [],
   "source": [
    "test_predictions_10_10 = clf_10_10.predict(X_test_trans)\n",
    "test_predictions_10_50 = clf_10_50.predict(X_test_trans)\n",
    "test_predictions_10_100 = clf_10_100.predict(X_test_trans)\n",
    "test_predictions_10_150 = clf_10_150.predict(X_test_trans)\n",
    "test_predictions_10_199 = clf_10_199.predict(X_test_trans)"
   ]
  },
  {
   "cell_type": "code",
   "execution_count": 58,
   "metadata": {},
   "outputs": [],
   "source": [
    "cm_10_10 = confusion_matrix(y_test, test_predictions_10_10)\n",
    "cm_10_50 = confusion_matrix(y_test, test_predictions_10_50)\n",
    "cm_10_100 = confusion_matrix(y_test, test_predictions_10_100)\n",
    "cm_10_150 = confusion_matrix(y_test, test_predictions_10_150)\n",
    "cm_10_199 = confusion_matrix(y_test, test_predictions_10_199)"
   ]
  },
  {
   "cell_type": "code",
   "execution_count": 59,
   "metadata": {},
   "outputs": [
    {
     "name": "stdout",
     "output_type": "stream",
     "text": [
      "Confusion matrix, without normalization\n",
      "[[346   0   0   2   2   4   4   0   0   1]\n",
      " [  0 249   3   1   1   1   3   2   1   3]\n",
      " [  3   0 172   5   9   2   2   2   3   0]\n",
      " [  2   0   4 143   0  12   0   1   3   1]\n",
      " [  0   2   9   1 176   2   2   1   2   5]\n",
      " [  6   0   0  11   1 135   0   1   5   1]\n",
      " [  6   0   3   0   4   4 152   0   1   0]\n",
      " [  0   0   1   2   4   2   0 129   2   7]\n",
      " [  1   0   2   6   3   9   0   3 136   6]\n",
      " [  0   0   0   1   7   0   0   5   2 162]]\n"
     ]
    },
    {
     "data": {
      "image/png": "[encoded data removed]",
      "text/plain": [
       "<matplotlib.figure.Figure at 0x7f84d80b0190>"
      ]
     },
     "metadata": {},
     "output_type": "display_data"
    }
   ],
   "source": [
    "plot_confusion_matrix(cm_10_10, classes=class_names, title='Confusion matrix of 10 hidden layers & 10 nodes, w/o normalization')"
   ]
  },
  {
   "cell_type": "code",
   "execution_count": 60,
   "metadata": {},
   "outputs": [
    {
     "name": "stdout",
     "output_type": "stream",
     "text": [
      "Confusion matrix, without normalization\n",
      "[[348   0   2   0   2   3   3   0   0   1]\n",
      " [  0 252   0   0   6   0   4   1   1   0]\n",
      " [  4   0 179   1   3   2   1   1   7   0]\n",
      " [  2   0   1 150   0   9   0   1   3   0]\n",
      " [  0   1   3   0 186   2   2   0   1   5]\n",
      " [  1   0   0   6   1 148   0   0   2   2]\n",
      " [  1   0   3   0   3   1 162   0   0   0]\n",
      " [  0   1   1   1   4   1   0 135   1   3]\n",
      " [  0   0   2   3   1   3   1   1 149   6]\n",
      " [  0   2   0   2   5   0   0   1   1 166]]\n"
     ]
    },
    {
     "data": {
      "image/png": "[encoded data removed]",
      "text/plain": [
       "<matplotlib.figure.Figure at 0x7f84a7604810>"
      ]
     },
     "metadata": {},
     "output_type": "display_data"
    }
   ],
   "source": [
    "plot_confusion_matrix(cm_10_199, classes=class_names, title='Confusion matrix of 10 hidden layers & 199 nodes, w/o normalization')"
   ]
  }
 ],
 "metadata": {
  "kernelspec": {
   "display_name": "Python 2",
   "language": "python",
   "name": "python2"
  },
  "language_info": {
   "codemirror_mode": {
    "name": "ipython",
    "version": 2
   },
   "file_extension": ".py",
   "mimetype": "text/x-python",
   "name": "python",
   "nbconvert_exporter": "python",
   "pygments_lexer": "ipython2",
   "version": "2.7.14"
  }
 },
 "nbformat": 4,
 "nbformat_minor": 2
}
