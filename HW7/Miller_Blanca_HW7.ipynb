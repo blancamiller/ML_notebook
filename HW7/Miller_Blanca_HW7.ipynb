{
 "cells": [
  {
   "cell_type": "markdown",
   "metadata": {},
   "source": [
    "# HW7: Neural Net Performance on Phoneme Data for Speech Recognition "
   ]
  },
  {
   "cell_type": "markdown",
   "metadata": {},
   "source": [
    "Blanca Miller <br />\n",
    "STAT 760 <br />\n",
    "04.05.2018 <br />"
   ]
  },
  {
   "cell_type": "markdown",
   "metadata": {},
   "source": [
    "__Objective:__ The aim of neural networks is to extract linear combinations of inputs as derived features to generate a nonlinear model of the data that makes predictions for new data sets [1]. A neural net takes a set of inputs, weights and biases them, and runs them through a series of hidden layers. These hidden layers are composed of nodes that each contain primitive function; nodes add together the weighted inputs it retrieves and applies the primitive function, an activation function that is usually the sigmoid activation function [2]. After traversing the network of hidden layers, the inputs are transformed into a set of outputs to make predictions about new data [1]. When given a set of data with known labels/targets estimating the optimal neural network weights and biases is computed using back-propogation. For this assignment, a data set of 5 phoneme classifications from continuous data of 50 male speakers were used.\n",
    "\n",
    "Sigmoid Function: sigmoid σ(v) = 1/(1 + e^(−v))\n",
    "\n",
    "__Data Set__\n",
    "- 4509 speech frames \n",
    "- Each speech frame has a 32ms duration\n",
    "- ~2 examples for each phoneme from each speaker were chosen\n",
    "- Each speech frame is represented by 512 samples at 16kHz sampling rate\n",
    "- 5 phonemes of 4509 speech frames, frequencies & sounds:\n",
    "        - aa: 695 as in \"dark\" vowel,\n",
    "        - ao: 1022 as the first vowel in \"water\", \n",
    "        - dcl: 757 as in \"dark\",\n",
    "        - iy: 1163 as in \"she\" vowel, & \n",
    "        - sh: 872 as in \"she\"\n",
    "        \n",
    "- x.1 - x.256: 256 data columns \n",
    "- g: response column\n",
    "- speaker: speaker identification\n",
    "\n",
    "__References__\n",
    "1. Trevor Hastie, Robert Tibshirani, Jerome Friedman, Elements of Statistical Learning: Data mining, inference, and prediction, 2002. Retrieved from: http://web.stanford.edu/~hastie/ElemStatLearn/main.html\n",
    "2. Raul Rojas, Neural Networks: A systematic introduction, 1996. Retrieved from: http://page.mi.fu-berlin.de/rojas/neural/neuron.pdf\n",
    "\n",
    "__Phoneme Data Set:__ http://web.stanford.edu/~hastie/ElemStatLearn/"
   ]
  },
  {
   "cell_type": "markdown",
   "metadata": {},
   "source": [
    "### Import Libraries"
   ]
  },
  {
   "cell_type": "code",
   "execution_count": 1,
   "metadata": {},
   "outputs": [],
   "source": [
    "import sklearn \n",
    "import itertools\n",
    "import numpy as np\n",
    "import pandas as pd\n",
    "import matplotlib.pyplot as plt\n",
    "\n",
    "from sklearn import preprocessing\n",
    "from sklearn import decomposition\n",
    "from sklearn.pipeline import Pipeline\n",
    "from sklearn.metrics import confusion_matrix\n",
    "from sklearn.neural_network import MLPClassifier\n",
    "from sklearn.model_selection import GridSearchCV\n",
    "from sklearn.model_selection import train_test_split"
   ]
  },
  {
   "cell_type": "markdown",
   "metadata": {},
   "source": [
    "### Function: Confusion Matrix"
   ]
  },
  {
   "cell_type": "code",
   "execution_count": 2,
   "metadata": {},
   "outputs": [],
   "source": [
    "def plot_confusion_matrix(cm, classes, normalize=False, title='Confusion Matrix', cmap=plt.cm.Blues):\n",
    "    \"\"\"\n",
    "    This function prints and plots the confusion matrix.\n",
    "    Normalization can be applied by setting `normalize=True`.\n",
    "    \"\"\"\n",
    "    if normalize:\n",
    "        cm = cm.astype('float') / cm.sum(axis=1)[:, np.newaxis]\n",
    "        print(\"Normalized confusion matrix\")\n",
    "    else:\n",
    "        print('Confusion matrix, without normalization')\n",
    "\n",
    "    print(cm)\n",
    "\n",
    "    plt.imshow(cm, interpolation='nearest', cmap=cmap)\n",
    "    plt.title(title)\n",
    "    plt.colorbar()\n",
    "    tick_marks = np.arange(len(classes))\n",
    "    plt.xticks(tick_marks, classes, rotation=45)\n",
    "    plt.yticks(tick_marks, classes)\n",
    "\n",
    "    fmt = '.2f' if normalize else 'd'\n",
    "    thresh = cm.max() / 2.\n",
    "    for i, j in itertools.product(range(cm.shape[0]), range(cm.shape[1])):\n",
    "        plt.text(j, i, format(cm[i, j], fmt),\n",
    "                 horizontalalignment=\"center\",\n",
    "                 color=\"white\" if cm[i, j] > thresh else \"black\")\n",
    "\n",
    "    plt.tight_layout()\n",
    "    plt.ylabel('True label')\n",
    "    plt.xlabel('Predicted label')"
   ]
  },
  {
   "cell_type": "markdown",
   "metadata": {},
   "source": [
    "### Load Phoneme Digits Data Set Into a DataFrame"
   ]
  },
  {
   "cell_type": "code",
   "execution_count": 3,
   "metadata": {},
   "outputs": [],
   "source": [
    "data = pd.read_csv('five_phonemes.txt', sep=',')"
   ]
  },
  {
   "cell_type": "code",
   "execution_count": 4,
   "metadata": {},
   "outputs": [
    {
     "data": {
      "text/plain": [
       "(4509, 259)"
      ]
     },
     "execution_count": 4,
     "metadata": {},
     "output_type": "execute_result"
    }
   ],
   "source": [
    "data.shape"
   ]
  },
  {
   "cell_type": "code",
   "execution_count": 5,
   "metadata": {},
   "outputs": [
    {
     "name": "stdout",
     "output_type": "stream",
     "text": [
      "   row.names       x.1       x.2       x.3       x.4       x.5       x.6  \\\n",
      "0          1   9.85770   9.20711   9.81689   9.01692   9.05675   8.92518   \n",
      "1          2  13.23079  14.19189  15.34428  18.11737  19.53875  18.32726   \n",
      "2          3  10.81889   9.07615   9.77940  12.20135  12.59005  10.53364   \n",
      "3          4  10.53679   9.12147  10.84621  13.92331  13.52476  10.27831   \n",
      "4          5  12.96705  13.69454  14.91182  18.22292  18.45390  17.25760   \n",
      "5          6  11.66525  12.43949  14.74297  18.83307  18.55868  14.86749   \n",
      "6          7  10.95324  11.20585  16.17634  18.59300  17.50922  10.27798   \n",
      "7          8  15.58114  15.53505  13.83707  13.89967  14.59198  14.05211   \n",
      "8          9   9.37324  11.29505  17.15139  18.03336  14.95980  14.97031   \n",
      "9         10   9.48477  11.38758  16.74884  17.36141  14.67661  15.02621   \n",
      "\n",
      "        x.7       x.8       x.9         ...              x.249     x.250  \\\n",
      "0  11.28308  11.52980  10.79713         ...           12.68076  11.20767   \n",
      "1  17.34169  17.16861  19.63557         ...            8.45714   8.77266   \n",
      "2   8.54693   9.46049  11.96755         ...            5.00824   5.51019   \n",
      "3   8.97459  11.57109  12.35839         ...            5.85688   5.40324   \n",
      "4  17.79614  17.76387  18.99632         ...            8.00151   7.58624   \n",
      "5  11.23968  19.37642  20.70066         ...            6.80571   6.47949   \n",
      "6  16.00151  19.32894  18.84554         ...            8.76707   6.94130   \n",
      "7  11.62342  14.33861  15.14155         ...            9.96958   8.76994   \n",
      "8  18.63124  18.77625  11.35160         ...            6.53453   6.95005   \n",
      "9  18.28174  17.79015  13.96172         ...            8.30466   9.12239   \n",
      "\n",
      "      x.251     x.252     x.253     x.254     x.255     x.256    g  \\\n",
      "0  13.69394  13.72055  12.16628  12.92489  12.51195   9.75527   sh   \n",
      "1   9.59717   8.45336   7.57730   5.38504   9.43063   8.59328   iy   \n",
      "2   5.95725   7.04992   7.02469   6.58416   6.27058   3.85042  dcl   \n",
      "3   6.07126   5.30651   4.27412   3.63384   3.22823   4.63123  dcl   \n",
      "4   6.65202   7.69109   6.93683   7.03600   7.01278   8.52197   aa   \n",
      "5   7.94855   7.39302   7.49989   8.64981   7.38444   7.41388   iy   \n",
      "6   8.79901   8.22345   7.63610   8.44448   8.28905   8.04018   aa   \n",
      "7  11.33459  12.46203  12.84761  10.98335   9.55326  10.87688   sh   \n",
      "8   6.46091   4.18584   6.27844   7.73464   7.41363   0.53710   ao   \n",
      "9   7.03513   9.24298   8.77743   8.20530   9.75466   8.49344   ao   \n",
      "\n",
      "               speaker  \n",
      "0  train.dr1.mcpm0.sa1  \n",
      "1  train.dr1.mcpm0.sa1  \n",
      "2  train.dr1.mcpm0.sa1  \n",
      "3  train.dr1.mcpm0.sa1  \n",
      "4  train.dr1.mcpm0.sa1  \n",
      "5  train.dr1.mcpm0.sa1  \n",
      "6  train.dr1.mcpm0.sa1  \n",
      "7  train.dr1.mcpm0.sa1  \n",
      "8  train.dr1.mcpm0.sa1  \n",
      "9  train.dr1.mcpm0.sa1  \n",
      "\n",
      "[10 rows x 259 columns]\n"
     ]
    }
   ],
   "source": [
    "print(data[0:10])"
   ]
  },
  {
   "cell_type": "markdown",
   "metadata": {},
   "source": [
    "### Convert Data Frame Into Numpy Array"
   ]
  },
  {
   "cell_type": "code",
   "execution_count": 6,
   "metadata": {},
   "outputs": [],
   "source": [
    "data_set = data.as_matrix()"
   ]
  },
  {
   "cell_type": "code",
   "execution_count": 7,
   "metadata": {},
   "outputs": [
    {
     "name": "stdout",
     "output_type": "stream",
     "text": [
      "   row.names       x.1       x.2       x.3       x.4       x.5       x.6  \\\n",
      "0          1   9.85770   9.20711   9.81689   9.01692   9.05675   8.92518   \n",
      "1          2  13.23079  14.19189  15.34428  18.11737  19.53875  18.32726   \n",
      "2          3  10.81889   9.07615   9.77940  12.20135  12.59005  10.53364   \n",
      "3          4  10.53679   9.12147  10.84621  13.92331  13.52476  10.27831   \n",
      "4          5  12.96705  13.69454  14.91182  18.22292  18.45390  17.25760   \n",
      "5          6  11.66525  12.43949  14.74297  18.83307  18.55868  14.86749   \n",
      "6          7  10.95324  11.20585  16.17634  18.59300  17.50922  10.27798   \n",
      "7          8  15.58114  15.53505  13.83707  13.89967  14.59198  14.05211   \n",
      "8          9   9.37324  11.29505  17.15139  18.03336  14.95980  14.97031   \n",
      "9         10   9.48477  11.38758  16.74884  17.36141  14.67661  15.02621   \n",
      "\n",
      "        x.7       x.8       x.9         ...              x.249     x.250  \\\n",
      "0  11.28308  11.52980  10.79713         ...           12.68076  11.20767   \n",
      "1  17.34169  17.16861  19.63557         ...            8.45714   8.77266   \n",
      "2   8.54693   9.46049  11.96755         ...            5.00824   5.51019   \n",
      "3   8.97459  11.57109  12.35839         ...            5.85688   5.40324   \n",
      "4  17.79614  17.76387  18.99632         ...            8.00151   7.58624   \n",
      "5  11.23968  19.37642  20.70066         ...            6.80571   6.47949   \n",
      "6  16.00151  19.32894  18.84554         ...            8.76707   6.94130   \n",
      "7  11.62342  14.33861  15.14155         ...            9.96958   8.76994   \n",
      "8  18.63124  18.77625  11.35160         ...            6.53453   6.95005   \n",
      "9  18.28174  17.79015  13.96172         ...            8.30466   9.12239   \n",
      "\n",
      "      x.251     x.252     x.253     x.254     x.255     x.256    g  \\\n",
      "0  13.69394  13.72055  12.16628  12.92489  12.51195   9.75527   sh   \n",
      "1   9.59717   8.45336   7.57730   5.38504   9.43063   8.59328   iy   \n",
      "2   5.95725   7.04992   7.02469   6.58416   6.27058   3.85042  dcl   \n",
      "3   6.07126   5.30651   4.27412   3.63384   3.22823   4.63123  dcl   \n",
      "4   6.65202   7.69109   6.93683   7.03600   7.01278   8.52197   aa   \n",
      "5   7.94855   7.39302   7.49989   8.64981   7.38444   7.41388   iy   \n",
      "6   8.79901   8.22345   7.63610   8.44448   8.28905   8.04018   aa   \n",
      "7  11.33459  12.46203  12.84761  10.98335   9.55326  10.87688   sh   \n",
      "8   6.46091   4.18584   6.27844   7.73464   7.41363   0.53710   ao   \n",
      "9   7.03513   9.24298   8.77743   8.20530   9.75466   8.49344   ao   \n",
      "\n",
      "               speaker  \n",
      "0  train.dr1.mcpm0.sa1  \n",
      "1  train.dr1.mcpm0.sa1  \n",
      "2  train.dr1.mcpm0.sa1  \n",
      "3  train.dr1.mcpm0.sa1  \n",
      "4  train.dr1.mcpm0.sa1  \n",
      "5  train.dr1.mcpm0.sa1  \n",
      "6  train.dr1.mcpm0.sa1  \n",
      "7  train.dr1.mcpm0.sa1  \n",
      "8  train.dr1.mcpm0.sa1  \n",
      "9  train.dr1.mcpm0.sa1  \n",
      "\n",
      "[10 rows x 259 columns]\n"
     ]
    }
   ],
   "source": [
    "print(data[0:10])"
   ]
  },
  {
   "cell_type": "markdown",
   "metadata": {},
   "source": [
    "### Parse Data Set"
   ]
  },
  {
   "cell_type": "code",
   "execution_count": 8,
   "metadata": {},
   "outputs": [],
   "source": [
    "# Parse data values: get columns 1-(last-1) for all rows\n",
    "X_phonemes = data_set[1:4509, 1:257]\n",
    "\n",
    "# Parse labels: get last column for all rows \n",
    "y_phonemes = data_set[1:4509, 257]"
   ]
  },
  {
   "cell_type": "code",
   "execution_count": 9,
   "metadata": {},
   "outputs": [
    {
     "name": "stdout",
     "output_type": "stream",
     "text": [
      "Data: (4508, 256)\n",
      "Labels: (4508,)\n"
     ]
    }
   ],
   "source": [
    "print(\"Data: {}\".format(X_phonemes.shape))\n",
    "print(\"Labels: {}\".format(y_phonemes.shape))"
   ]
  },
  {
   "cell_type": "code",
   "execution_count": 10,
   "metadata": {},
   "outputs": [
    {
     "name": "stdout",
     "output_type": "stream",
     "text": [
      "[[13.230789999999999 14.191889999999999 15.34428 ... 5.38504 9.43063\n",
      "  8.59328]\n",
      " [10.81889 9.07615 9.7794 ... 6.584160000000001 6.270580000000001\n",
      "  3.8504199999999997]\n",
      " [10.53679 9.12147 10.846210000000001 ... 3.63384 3.22823 4.63123]\n",
      " [12.96705 13.69454 14.91182 ... 7.036 7.01278 8.52197]]\n"
     ]
    }
   ],
   "source": [
    "print(X_phonemes[0:4])"
   ]
  },
  {
   "cell_type": "code",
   "execution_count": 11,
   "metadata": {},
   "outputs": [
    {
     "name": "stdout",
     "output_type": "stream",
     "text": [
      "['iy' 'dcl' 'dcl' 'aa']\n"
     ]
    }
   ],
   "source": [
    "print(y_phonemes[0:4])"
   ]
  },
  {
   "cell_type": "markdown",
   "metadata": {},
   "source": [
    "### Generate Test & Training Set"
   ]
  },
  {
   "cell_type": "code",
   "execution_count": 12,
   "metadata": {},
   "outputs": [],
   "source": [
    "# Allocate 2/3 of the data set as training & 1/3 as testing\n",
    "X_train, X_test, y_train, y_test = train_test_split(X_phonemes, y_phonemes, test_size=0.33)"
   ]
  },
  {
   "cell_type": "code",
   "execution_count": 13,
   "metadata": {},
   "outputs": [
    {
     "name": "stdout",
     "output_type": "stream",
     "text": [
      "Phoneme Training Data: (3020, 256)\n",
      "Phoneme Training Labels: (3020,)\n",
      "Phoneme Testing Data: (1488, 256)\n",
      "Phoneme Testing Labels: (1488,)\n"
     ]
    }
   ],
   "source": [
    "# print data & label set dimensionality for verification\n",
    "print(\"Phoneme Training Data: {}\".format(X_train.shape))\n",
    "print(\"Phoneme Training Labels: {}\".format(y_train.shape))\n",
    "print(\"Phoneme Testing Data: {}\".format(X_test.shape))\n",
    "print(\"Phoneme Testing Labels: {}\".format(y_test.shape))"
   ]
  },
  {
   "cell_type": "code",
   "execution_count": 14,
   "metadata": {},
   "outputs": [
    {
     "name": "stdout",
     "output_type": "stream",
     "text": [
      "[[13.05684 12.15286 11.68652 ... 16.33494 17.721510000000002 17.58149]\n",
      " [12.79842 13.476720000000002 17.40405 ... 11.32956 11.33175\n",
      "  9.428510000000001]\n",
      " [12.90393 17.1588 17.64408 ... 5.96785 9.287939999999999 9.35458]\n",
      " [10.35282 13.7709 18.31685 ... 10.02208 8.59123 9.48892]]\n"
     ]
    }
   ],
   "source": [
    "print(X_train[0:4])"
   ]
  },
  {
   "cell_type": "code",
   "execution_count": 15,
   "metadata": {},
   "outputs": [
    {
     "name": "stdout",
     "output_type": "stream",
     "text": [
      "[[12.19802 13.341029999999998 17.20662 ... 12.59448 10.3658\n",
      "  10.300839999999999]\n",
      " [12.72964 14.392 17.68615 ... 7.12197 7.41153 -0.98787]\n",
      " [11.15903 10.06408 10.19806 ... 12.67309 12.09459 12.83682]\n",
      " [1.93104 9.06493 16.97346 ... 10.913089999999999 10.298789999999999\n",
      "  7.89146]]\n"
     ]
    }
   ],
   "source": [
    "print(X_test[0:4])"
   ]
  },
  {
   "cell_type": "markdown",
   "metadata": {},
   "source": [
    "### Standardize Data to Obtain Similar Inputs & Weight Magnitudes"
   ]
  },
  {
   "cell_type": "code",
   "execution_count": 16,
   "metadata": {},
   "outputs": [
    {
     "name": "stderr",
     "output_type": "stream",
     "text": [
      "/home/blanca/anaconda2/lib/python2.7/site-packages/sklearn/utils/validation.py:475: DataConversionWarning: Data with input dtype object was converted to float64 by the scale function.\n",
      "  warnings.warn(msg, DataConversionWarning)\n"
     ]
    }
   ],
   "source": [
    "# set axis to 1 to standardize by sample/vector, rather than by feature \n",
    "X_train = preprocessing.scale(X_train, axis=1)\n",
    "X_test = preprocessing.scale(X_test, axis=1)"
   ]
  },
  {
   "cell_type": "markdown",
   "metadata": {},
   "source": [
    "### Principal Componenet Analysis: \n",
    "Identify the main uncorrelated variables to re-express noisy data in a simplified way"
   ]
  },
  {
   "cell_type": "code",
   "execution_count": 17,
   "metadata": {},
   "outputs": [],
   "source": [
    "k = 8\n",
    "pca = decomposition.PCA(n_components = k)\n",
    "pca.fit(X_train)\n",
    "X_train_trans = pca.transform(X_train)\n",
    "X_test_trans = pca.transform(X_test)\n",
    "\n",
    "k70 = 23\n",
    "pca70 = decomposition.PCA(n_components = k70)\n",
    "pca70.fit(X_train)\n",
    "X_train_trans70 = pca70.transform(X_train)\n",
    "X_test_trans70 = pca70.transform(X_test)"
   ]
  },
  {
   "cell_type": "code",
   "execution_count": 18,
   "metadata": {},
   "outputs": [
    {
     "data": {
      "text/plain": [
       "(1488, 8)"
      ]
     },
     "execution_count": 18,
     "metadata": {},
     "output_type": "execute_result"
    }
   ],
   "source": [
    "X_test_trans.shape"
   ]
  },
  {
   "cell_type": "code",
   "execution_count": 19,
   "metadata": {},
   "outputs": [
    {
     "data": {
      "text/plain": [
       "array([0.33126052, 0.08328629, 0.07200415, 0.03627051, 0.02452778,\n",
       "       0.0226794 , 0.01488401, 0.01310095])"
      ]
     },
     "execution_count": 19,
     "metadata": {},
     "output_type": "execute_result"
    }
   ],
   "source": [
    "# amount of information compressed in the chosen k components\n",
    "pca.explained_variance_ratio_"
   ]
  },
  {
   "cell_type": "code",
   "execution_count": 20,
   "metadata": {},
   "outputs": [
    {
     "data": {
      "text/plain": [
       "0.5980136041636218"
      ]
     },
     "execution_count": 20,
     "metadata": {},
     "output_type": "execute_result"
    }
   ],
   "source": [
    "pca.explained_variance_ratio_.sum()"
   ]
  },
  {
   "cell_type": "code",
   "execution_count": 21,
   "metadata": {},
   "outputs": [
    {
     "data": {
      "text/plain": [
       "0.6972704601798367"
      ]
     },
     "execution_count": 21,
     "metadata": {},
     "output_type": "execute_result"
    }
   ],
   "source": [
    "pca70.explained_variance_ratio_.sum()"
   ]
  },
  {
   "cell_type": "code",
   "execution_count": 22,
   "metadata": {},
   "outputs": [
    {
     "data": {
      "text/plain": [
       "(0, 60)"
      ]
     },
     "execution_count": 22,
     "metadata": {},
     "output_type": "execute_result"
    },
    {
     "data": {
      "image/png": "[encoded data removed]",
      "text/plain": [
       "<matplotlib.figure.Figure at 0x7f061b74d790>"
      ]
     },
     "metadata": {},
     "output_type": "display_data"
    }
   ],
   "source": [
    "plt.figure(1, figsize=(5,4))      # create a figure instance\n",
    "plt.clf()                         # clear the current figure\n",
    "plt.axes                          # set the coordinate system\n",
    "plt.plot(pca.explained_variance_, linewidth=2)\n",
    "plt.axis('tight')\n",
    "plt.title('PCA for feature reduction')\n",
    "plt.xlabel('Number of Components')\n",
    "plt.ylabel('Explained Variance')\n",
    "plt.ylim(0,60)"
   ]
  },
  {
   "cell_type": "markdown",
   "metadata": {},
   "source": [
    "__Analysis:__ The cumulative variance for 8 principal components is ~60% and ~70% for 23 principal components. It is generally recommended to only remove ~30% of the information contained in the original components, however in this case it may be preferred to remove more of the information as the cost of obtaining more accuracy means trippling the number of features."
   ]
  },
  {
   "cell_type": "code",
   "execution_count": 23,
   "metadata": {},
   "outputs": [
    {
     "name": "stdout",
     "output_type": "stream",
     "text": [
      "Training Data: (3020, 8)\n",
      "Training Labels: (3020,)\n",
      "\n",
      "Testing Data: (1488, 8)\n",
      "Testing Labels: (1488,)\n"
     ]
    }
   ],
   "source": [
    "# print data & label set dimensionality for verification\n",
    "print(\"Training Data: {}\".format(X_train_trans.shape))\n",
    "print(\"Training Labels: {}\\n\".format(y_train.shape))\n",
    "print(\"Testing Data: {}\".format(X_test_trans.shape))\n",
    "print(\"Testing Labels: {}\".format(y_test.shape))"
   ]
  },
  {
   "cell_type": "code",
   "execution_count": 24,
   "metadata": {},
   "outputs": [
    {
     "name": "stdout",
     "output_type": "stream",
     "text": [
      "[[14.40650708  0.19594241 -0.85555143  1.96433675  3.19321295 -2.26494736\n",
      "  -1.7069648   1.12346677]\n",
      " [-5.52868488  0.68814618 -3.12707982  0.50704173  0.74588287 -2.86987777\n",
      "   1.09387758  3.05159342]\n",
      " [-6.64502061 -1.25314912 -0.95701664  3.58666307  2.63493474 -1.13569019\n",
      "  -0.2299971  -1.48225359]\n",
      " [-7.2105206   2.27645948 -3.79946042 -0.64261324  2.12512275 -0.50668044\n",
      "   0.16401159  1.48612208]]\n"
     ]
    }
   ],
   "source": [
    "print(X_train_trans[0:4])"
   ]
  },
  {
   "cell_type": "code",
   "execution_count": 25,
   "metadata": {},
   "outputs": [
    {
     "name": "stdout",
     "output_type": "stream",
     "text": [
      "['sh' 'aa' 'aa' 'ao']\n"
     ]
    }
   ],
   "source": [
    "print(y_train[0:4])"
   ]
  },
  {
   "cell_type": "markdown",
   "metadata": {},
   "source": [
    "### Train a 1 Hidden Layer Neural Net for 10 & 100 nodes\n",
    "Use MLP to Train with Backpropagation"
   ]
  },
  {
   "cell_type": "code",
   "execution_count": 26,
   "metadata": {},
   "outputs": [],
   "source": [
    "# initialize classifier model objects\n",
    "clf_10 = MLPClassifier(hidden_layer_sizes=(10,))\n",
    "clf_100 = MLPClassifier()\n",
    "clf_199 = MLPClassifier()"
   ]
  },
  {
   "cell_type": "code",
   "execution_count": 27,
   "metadata": {},
   "outputs": [
    {
     "data": {
      "text/plain": [
       "MLPClassifier(activation='relu', alpha=0.0001, batch_size='auto', beta_1=0.9,\n",
       "       beta_2=0.999, early_stopping=False, epsilon=1e-08,\n",
       "       hidden_layer_sizes=(100,), learning_rate='constant',\n",
       "       learning_rate_init=0.001, max_iter=200, momentum=0.9,\n",
       "       nesterovs_momentum=True, power_t=0.5, random_state=None,\n",
       "       shuffle=True, solver='adam', tol=0.0001, validation_fraction=0.1,\n",
       "       verbose=False, warm_start=False)"
      ]
     },
     "execution_count": 27,
     "metadata": {},
     "output_type": "execute_result"
    }
   ],
   "source": [
    "# fit the generated classifier models to the data matrix X and its targets y\n",
    "clf_10.fit(X_train_trans, y_train)\n",
    "clf_100.fit(X_train_trans, y_train)\n",
    "clf_199.fit(X_train_trans, y_train)"
   ]
  },
  {
   "cell_type": "markdown",
   "metadata": {},
   "source": [
    "#### Determine the Neural Nets Predictive Score"
   ]
  },
  {
   "cell_type": "code",
   "execution_count": 28,
   "metadata": {},
   "outputs": [
    {
     "name": "stdout",
     "output_type": "stream",
     "text": [
      "SET SCORES FOR 1 HIDDEN LAYER & 10 NODES\n",
      "Training set score: 0.907616\n",
      "Test set score: 0.897849 \n",
      "\n",
      "SET SCORES FOR 1 HIDDEN LAYER & 100 NODES\n",
      "Training set score: 0.924172\n",
      "Test set score: 0.895161 \n",
      "\n",
      "SET SCORES FOR 1 HIDDEN LAYER & 199 NODES\n",
      "Training set score: 0.920530\n",
      "Test set score: 0.893145\n"
     ]
    }
   ],
   "source": [
    "print(\"SET SCORES FOR 1 HIDDEN LAYER & 10 NODES\")\n",
    "print(\"Training set score: %f\" % clf_10.score(X_train_trans, y_train))\n",
    "print(\"Test set score: %f \\n\" % clf_10.score(X_test_trans, y_test))\n",
    "print(\"SET SCORES FOR 1 HIDDEN LAYER & 100 NODES\")\n",
    "print(\"Training set score: %f\" % clf_100.score(X_train_trans, y_train))\n",
    "print(\"Test set score: %f \\n\" % clf_100.score(X_test_trans, y_test))\n",
    "print(\"SET SCORES FOR 1 HIDDEN LAYER & 199 NODES\")\n",
    "print(\"Training set score: %f\" % clf_199.score(X_train_trans, y_train))\n",
    "print(\"Test set score: %f\" % clf_199.score(X_test_trans, y_test))"
   ]
  },
  {
   "cell_type": "markdown",
   "metadata": {},
   "source": [
    "#### Predict Labels for New Data"
   ]
  },
  {
   "cell_type": "code",
   "execution_count": 29,
   "metadata": {},
   "outputs": [],
   "source": [
    "test_predictions_10 = clf_10.predict(X_test_trans)\n",
    "test_predictions_100 = clf_100.predict(X_test_trans)\n",
    "test_predictions_199 = clf_199.predict(X_test_trans)"
   ]
  },
  {
   "cell_type": "code",
   "execution_count": 30,
   "metadata": {},
   "outputs": [],
   "source": [
    "cm_10 = confusion_matrix(y_test, test_predictions_10)\n",
    "cm_100 = confusion_matrix(y_test, test_predictions_100)\n",
    "cm_199 = confusion_matrix(y_test, test_predictions_199)"
   ]
  },
  {
   "cell_type": "code",
   "execution_count": 31,
   "metadata": {},
   "outputs": [
    {
     "name": "stdout",
     "output_type": "stream",
     "text": [
      "Dimensions for 10 nodes: (5, 5)\n",
      "Dimensions for 100 nodes: (5, 5)\n",
      "Dimensions for 199 nodes: (5, 5)\n"
     ]
    }
   ],
   "source": [
    "print(\"Dimensions for 10 nodes: {}\".format(cm_10.shape))\n",
    "print(\"Dimensions for 100 nodes: {}\".format(cm_100.shape))\n",
    "print(\"Dimensions for 199 nodes: {}\".format(cm_199.shape))"
   ]
  },
  {
   "cell_type": "markdown",
   "metadata": {},
   "source": [
    "#### Generate Confusion Matrices"
   ]
  },
  {
   "cell_type": "code",
   "execution_count": 32,
   "metadata": {},
   "outputs": [],
   "source": [
    "class_names = ['aa','ao','dcl','iy','sh']"
   ]
  },
  {
   "cell_type": "code",
   "execution_count": 33,
   "metadata": {},
   "outputs": [
    {
     "name": "stdout",
     "output_type": "stream",
     "text": [
      "Confusion matrix, without normalization\n",
      "[[167  60   0   0   0]\n",
      " [ 58 291   1   0   0]\n",
      " [  1   1 212  15   0]\n",
      " [  0   0  14 362   1]\n",
      " [  1   0   0   0 304]]\n"
     ]
    },
    {
     "data": {
      "image/png": "[encoded data removed]",
      "text/plain": [
       "<matplotlib.figure.Figure at 0x7f061034f4d0>"
      ]
     },
     "metadata": {},
     "output_type": "display_data"
    }
   ],
   "source": [
    "plot_confusion_matrix(cm_10, classes=class_names, title='Neural Net Confusion Matrix for 1 Layer & 10 Nodes')"
   ]
  },
  {
   "cell_type": "code",
   "execution_count": 34,
   "metadata": {},
   "outputs": [
    {
     "name": "stdout",
     "output_type": "stream",
     "text": [
      "Confusion matrix, without normalization\n",
      "[[151  76   0   0   0]\n",
      " [ 48 301   0   1   0]\n",
      " [  1   0 211  17   0]\n",
      " [  0   0  14 362   1]\n",
      " [  1   0   0   0 304]]\n"
     ]
    },
    {
     "data": {
      "image/png": "[encoded data removed]",
      "text/plain": [
       "<matplotlib.figure.Figure at 0x7f06102d3850>"
      ]
     },
     "metadata": {},
     "output_type": "display_data"
    }
   ],
   "source": [
    "plot_confusion_matrix(cm_199, classes=class_names, title='Neural Net Confusion Matrix for 1 Layer & 199 Nodes')"
   ]
  },
  {
   "cell_type": "markdown",
   "metadata": {},
   "source": [
    "### Train a 10 Hidden Layer Neural Net\n",
    "Use MLP to Train Using Backpropagation"
   ]
  },
  {
   "cell_type": "code",
   "execution_count": 35,
   "metadata": {},
   "outputs": [],
   "source": [
    "# initialize classifier model objects \n",
    "clf_10_10 = MLPClassifier(hidden_layer_sizes=(10,10)) \n",
    "clf_10_100 = MLPClassifier(hidden_layer_sizes=(100,10))\n",
    "clf_10_199 = MLPClassifier(hidden_layer_sizes=(199,10))"
   ]
  },
  {
   "cell_type": "code",
   "execution_count": 36,
   "metadata": {},
   "outputs": [
    {
     "data": {
      "text/plain": [
       "MLPClassifier(activation='relu', alpha=0.0001, batch_size='auto', beta_1=0.9,\n",
       "       beta_2=0.999, early_stopping=False, epsilon=1e-08,\n",
       "       hidden_layer_sizes=(199, 10), learning_rate='constant',\n",
       "       learning_rate_init=0.001, max_iter=200, momentum=0.9,\n",
       "       nesterovs_momentum=True, power_t=0.5, random_state=None,\n",
       "       shuffle=True, solver='adam', tol=0.0001, validation_fraction=0.1,\n",
       "       verbose=False, warm_start=False)"
      ]
     },
     "execution_count": 36,
     "metadata": {},
     "output_type": "execute_result"
    }
   ],
   "source": [
    "# fit the generated classifier models to the data matrix X and its targets y\n",
    "clf_10_10.fit(X_train_trans, y_train)\n",
    "clf_10_100.fit(X_train_trans, y_train)\n",
    "clf_10_199.fit(X_train_trans, y_train)"
   ]
  },
  {
   "cell_type": "markdown",
   "metadata": {},
   "source": [
    "#### Determine the Neural Nets Predictive Scores"
   ]
  },
  {
   "cell_type": "code",
   "execution_count": 37,
   "metadata": {},
   "outputs": [
    {
     "name": "stdout",
     "output_type": "stream",
     "text": [
      "SET SCORES FOR 10 HIDDEN LAYER & 10 NODES\n",
      "Training set score: 0.900000\n",
      "Test set score: 0.887769 \n",
      "\n",
      "SET SCORES FOR 10 HIDDEN LAYER & 100 NODES\n",
      "Training set score: 0.918212\n",
      "Test set score: 0.890457 \n",
      "\n",
      "SET SCORES FOR 10 HIDDEN LAYER & 199 NODES\n",
      "Training set score: 0.919868\n",
      "Test set score: 0.893145\n"
     ]
    }
   ],
   "source": [
    "print(\"SET SCORES FOR 10 HIDDEN LAYER & 10 NODES\")\n",
    "print(\"Training set score: %f\" % clf_10_10.score(X_train_trans, y_train))\n",
    "print(\"Test set score: %f \\n\" % clf_10_10.score(X_test_trans, y_test))\n",
    "\n",
    "print(\"SET SCORES FOR 10 HIDDEN LAYER & 100 NODES\")\n",
    "print(\"Training set score: %f\" % clf_10_100.score(X_train_trans, y_train))\n",
    "print(\"Test set score: %f \\n\" % clf_10_100.score(X_test_trans, y_test))\n",
    "\n",
    "print(\"SET SCORES FOR 10 HIDDEN LAYER & 199 NODES\")\n",
    "print(\"Training set score: %f\" % clf_10_199.score(X_train_trans, y_train))\n",
    "print(\"Test set score: %f\" % clf_10_199.score(X_test_trans, y_test))"
   ]
  },
  {
   "cell_type": "markdown",
   "metadata": {},
   "source": [
    "#### Predict Labels for New Data"
   ]
  },
  {
   "cell_type": "code",
   "execution_count": 38,
   "metadata": {},
   "outputs": [],
   "source": [
    "test_predictions_10_10 = clf_10_10.predict(X_test_trans)\n",
    "test_predictions_10_100 = clf_10_100.predict(X_test_trans)\n",
    "test_predictions_10_199 = clf_10_199.predict(X_test_trans)"
   ]
  },
  {
   "cell_type": "code",
   "execution_count": 39,
   "metadata": {},
   "outputs": [],
   "source": [
    "cm_10_10 = confusion_matrix(y_test, test_predictions_10_10)\n",
    "cm_10_100 = confusion_matrix(y_test, test_predictions_10_100)\n",
    "cm_10_199 = confusion_matrix(y_test, test_predictions_10_199)"
   ]
  },
  {
   "cell_type": "markdown",
   "metadata": {},
   "source": [
    "#### Generate Confusion Matrices"
   ]
  },
  {
   "cell_type": "code",
   "execution_count": 40,
   "metadata": {},
   "outputs": [
    {
     "name": "stdout",
     "output_type": "stream",
     "text": [
      "Confusion matrix, without normalization\n",
      "[[163  64   0   0   0]\n",
      " [ 64 285   1   0   0]\n",
      " [  1   1 210  17   0]\n",
      " [  0   0  16 360   1]\n",
      " [  1   0   1   0 303]]\n"
     ]
    },
    {
     "data": {
      "image/png": "[encoded data removed]",
      "text/plain": [
       "<matplotlib.figure.Figure at 0x7f06102f1690>"
      ]
     },
     "metadata": {},
     "output_type": "display_data"
    }
   ],
   "source": [
    "plot_confusion_matrix(cm_10_10, classes=class_names, title='Neural Net Confusion Matrix for 10 Hidden Layers & 10 Nodes')"
   ]
  },
  {
   "cell_type": "code",
   "execution_count": 41,
   "metadata": {},
   "outputs": [
    {
     "name": "stdout",
     "output_type": "stream",
     "text": [
      "Confusion matrix, without normalization\n",
      "[[160  67   0   0   0]\n",
      " [ 58 292   0   0   0]\n",
      " [  1   0 213  14   1]\n",
      " [  0   0  16 360   1]\n",
      " [  1   0   0   0 304]]\n"
     ]
    },
    {
     "data": {
      "image/png": "[encoded data removed]",
      "text/plain": [
       "<matplotlib.figure.Figure at 0x7f06100d92d0>"
      ]
     },
     "metadata": {},
     "output_type": "display_data"
    }
   ],
   "source": [
    "plot_confusion_matrix(cm_10_199, classes=class_names, title='Neural Net Confusion Matrix for 10 Hidden Layers & 199 Nodes')"
   ]
  },
  {
   "cell_type": "markdown",
   "metadata": {},
   "source": [
    "### Train a 50 Hidden Layer Neural Net\n",
    "Use MLP to Train Using Backpropagation"
   ]
  },
  {
   "cell_type": "code",
   "execution_count": 42,
   "metadata": {},
   "outputs": [],
   "source": [
    "# initialize classifier model objects \n",
    "clf_50_10 = MLPClassifier(hidden_layer_sizes=(10,50)) \n",
    "clf_50_100 = MLPClassifier(hidden_layer_sizes=(100,50))\n",
    "clf_50_199 = MLPClassifier(hidden_layer_sizes=(199,50))"
   ]
  },
  {
   "cell_type": "code",
   "execution_count": 43,
   "metadata": {},
   "outputs": [
    {
     "data": {
      "text/plain": [
       "MLPClassifier(activation='relu', alpha=0.0001, batch_size='auto', beta_1=0.9,\n",
       "       beta_2=0.999, early_stopping=False, epsilon=1e-08,\n",
       "       hidden_layer_sizes=(199, 50), learning_rate='constant',\n",
       "       learning_rate_init=0.001, max_iter=200, momentum=0.9,\n",
       "       nesterovs_momentum=True, power_t=0.5, random_state=None,\n",
       "       shuffle=True, solver='adam', tol=0.0001, validation_fraction=0.1,\n",
       "       verbose=False, warm_start=False)"
      ]
     },
     "execution_count": 43,
     "metadata": {},
     "output_type": "execute_result"
    }
   ],
   "source": [
    "# fit the generated classifier models to the data matrix X and its targets y\n",
    "clf_50_10.fit(X_train_trans, y_train)\n",
    "clf_50_100.fit(X_train_trans, y_train)\n",
    "clf_50_199.fit(X_train_trans, y_train)"
   ]
  },
  {
   "cell_type": "markdown",
   "metadata": {},
   "source": [
    "#### Determine the Neural Nets Predictive Scores"
   ]
  },
  {
   "cell_type": "code",
   "execution_count": 44,
   "metadata": {},
   "outputs": [
    {
     "name": "stdout",
     "output_type": "stream",
     "text": [
      "SET SCORES FOR 50 HIDDEN LAYER & 10 NODES\n",
      "Training set score: 0.909272\n",
      "Test set score: 0.885753 \n",
      "\n",
      "SET SCORES FOR 50 HIDDEN LAYER & 100 NODES\n",
      "Training set score: 0.918874\n",
      "Test set score: 0.887097 \n",
      "\n",
      "SET SCORES FOR 50 HIDDEN LAYER & 199 NODES\n",
      "Training set score: 0.925828\n",
      "Test set score: 0.895833\n"
     ]
    }
   ],
   "source": [
    "print(\"SET SCORES FOR 50 HIDDEN LAYER & 10 NODES\")\n",
    "print(\"Training set score: %f\" % clf_50_10.score(X_train_trans, y_train))\n",
    "print(\"Test set score: %f \\n\" % clf_50_10.score(X_test_trans, y_test))\n",
    "\n",
    "print(\"SET SCORES FOR 50 HIDDEN LAYER & 100 NODES\")\n",
    "print(\"Training set score: %f\" % clf_50_100.score(X_train_trans, y_train))\n",
    "print(\"Test set score: %f \\n\" % clf_50_100.score(X_test_trans, y_test))\n",
    "\n",
    "print(\"SET SCORES FOR 50 HIDDEN LAYER & 199 NODES\")\n",
    "print(\"Training set score: %f\" % clf_50_199.score(X_train_trans, y_train))\n",
    "print(\"Test set score: %f\" % clf_50_199.score(X_test_trans, y_test))"
   ]
  },
  {
   "cell_type": "markdown",
   "metadata": {},
   "source": [
    "#### Predict Labels for New Data"
   ]
  },
  {
   "cell_type": "code",
   "execution_count": 45,
   "metadata": {},
   "outputs": [],
   "source": [
    "test_predictions_50_10 = clf_50_10.predict(X_test_trans)\n",
    "test_predictions_50_100 = clf_50_100.predict(X_test_trans)\n",
    "test_predictions_50_199 = clf_50_199.predict(X_test_trans)"
   ]
  },
  {
   "cell_type": "code",
   "execution_count": 46,
   "metadata": {},
   "outputs": [],
   "source": [
    "cm_50_10 = confusion_matrix(y_test, test_predictions_50_10)\n",
    "cm_50_100 = confusion_matrix(y_test, test_predictions_50_100)\n",
    "cm_50_199 = confusion_matrix(y_test, test_predictions_50_199)"
   ]
  },
  {
   "cell_type": "markdown",
   "metadata": {},
   "source": [
    "#### Generate Confusion Matrices"
   ]
  },
  {
   "cell_type": "code",
   "execution_count": 47,
   "metadata": {},
   "outputs": [
    {
     "name": "stdout",
     "output_type": "stream",
     "text": [
      "Confusion matrix, without normalization\n",
      "[[158  69   0   0   0]\n",
      " [ 58 292   0   0   0]\n",
      " [  2   1 211  13   2]\n",
      " [  0   0  21 355   1]\n",
      " [  1   0   0   2 302]]\n"
     ]
    },
    {
     "data": {
      "image/png": "[encoded data removed]",
      "text/plain": [
       "<matplotlib.figure.Figure at 0x7f060afd27d0>"
      ]
     },
     "metadata": {},
     "output_type": "display_data"
    }
   ],
   "source": [
    "plot_confusion_matrix(cm_50_10, classes=class_names, title='Neural Net Confusion Matrix for 50 Hidden Layers & 10 Nodes')"
   ]
  },
  {
   "cell_type": "code",
   "execution_count": 48,
   "metadata": {},
   "outputs": [
    {
     "name": "stdout",
     "output_type": "stream",
     "text": [
      "Confusion matrix, without normalization\n",
      "[[171  56   0   0   0]\n",
      " [ 67 283   0   0   0]\n",
      " [  1   0 212  16   0]\n",
      " [  0   0  13 363   1]\n",
      " [  1   0   0   0 304]]\n"
     ]
    },
    {
     "data": {
      "image/png": "[encoded data removed]",
      "text/plain": [
       "<matplotlib.figure.Figure at 0x7f060af50650>"
      ]
     },
     "metadata": {},
     "output_type": "display_data"
    }
   ],
   "source": [
    "plot_confusion_matrix(cm_50_199, classes=class_names, title='Neural Net Confusion Matrix for 50 Hidden Layers & 199 Nodes')"
   ]
  },
  {
   "cell_type": "markdown",
   "metadata": {},
   "source": [
    "__Analysis:__ The overall performance of using a neural net to classify phonemes is significantly reliable as it was ~90% for all three cases of layer & node architectures. One interesting result is that the 1 hidden layer & 10 node architecture had higher predictive accuracy that the 10 hidden layer architectures for the first phoneme, aa, while the 1 hidden layer & 199 nodes architecture made 15-20 more misclassifications. Morevoer, the remaining 4 phonemes saw similar accuracy across the three architectures. It would be necessary to compute an average for the architectures to determine a more realistic value of accuracy, however, it is safe to say that the higher layer count increased the predicitive accuracy for the classifiers. "
   ]
  }
 ],
 "metadata": {
  "kernelspec": {
   "display_name": "Python 2",
   "language": "python",
   "name": "python2"
  },
  "language_info": {
   "codemirror_mode": {
    "name": "ipython",
    "version": 2
   },
   "file_extension": ".py",
   "mimetype": "text/x-python",
   "name": "python",
   "nbconvert_exporter": "python",
   "pygments_lexer": "ipython2",
   "version": "2.7.14"
  }
 },
 "nbformat": 4,
 "nbformat_minor": 2
}
