{
 "cells": [
  {
   "cell_type": "markdown",
   "metadata": {},
   "source": [
    "# HW8: Ada Boost for Committee Training of Nonlinearly Separable Classifiers"
   ]
  },
  {
   "cell_type": "markdown",
   "metadata": {},
   "source": [
    "Blanca Miller\n",
    "\n",
    "STAT 760\n",
    "\n",
    "04.12.2018"
   ]
  },
  {
   "cell_type": "markdown",
   "metadata": {},
   "source": [
    "Initially each classifier is assigned a weight of 1. \n",
    "\n",
    "For the total number of classifiers wanted, M, iterate i=0...M:\n",
    "1. Scouting: Build an evaluative matrix given the classifier set using data and corresponding labels where the rows represent a data input and the columns represent a classifier, then\n",
    "        - classifier failures are recorded with a 0\n",
    "        - classifier successes are recorded wiht a 1 \n",
    "\n",
    "    \n",
    "2. Drafting: Rank each classifier with each iteration through the classifier set to identify the best experts in the pool. Computer the error to get teh classifier wiht the next smallest error. \n",
    "\n",
    "3. Update the weights. \n",
    "     - Miss: w_i^(m+1) = w_i^(m) * e^α_m  \n",
    "     - Hit: w_i^(m+1) = w_i^(m) * e^-α_m\n",
    "     \n",
    "\n",
    "\n"
   ]
  },
  {
   "cell_type": "markdown",
   "metadata": {},
   "source": [
    "__Objective:__ Create a data set containing a positive and negative class, where the positive class is a circle inside of the negative class, a square, and train a committee of classifiers using the adaptive boosting algorithm to make random cuts in the square. A series of \"linear cuts\" will combine to generate a classifier for the nonlinearly separable distribution of the positive class. \n",
    "\n",
    "A set of data, labels, and classifiers is given. The algorithm begins by setting the weights for all classifiers to 1. Then the algorithm iterates through the number of classifiers that is desired. An evaluative matrix is built given the classifier set using data and corresponding labels where the rows represent a data input and the columns represent a classifier, then\n",
    "  - classifier failures are recorded with a 0\n",
    "  - classifier successes are recorded wiht a 1 \n",
    "\n",
    "From the set of classifier, one classifier is chosen based on having the minimal weighted sum error. Then the weight for the current classifier is computed. Lastly, the weight is updated for the next classifier iteration. The hope being that the iterative adjustments will eventually lead to weight values that accurately classify the majority of the training data. This is due to the algorithm's error criterion using the exponential loss function for β > 0, which results in e^-β < e^β. Specifically, the classifier with the worst performance sees substantial increases in weight value, e^β, while classifiers with the best performance see small increase in weight value, e^-β. The functions being,\n",
    "\n",
    "- Error = w_n * e-α_m + w_e * e^α_m\n",
    "- dError/dα_m = 1/2 * ln(1-e_m/e_m)\n",
    "\n",
    "__Error criterion:__ exponential loss function for β > 0 and e^-β < e^β where \n",
    "- the cost of classifier failure is e^β and \n",
    "- the cost of classifier success is e^-β \n",
    "Thus, a miss is more heavily penalized than a hit.\n",
    "\n",
    "\n",
    "__References:__\n",
    "1. R. Rojas, 2009, AdaBoost & the Super Bowl of Classifiers A Tutorial Introduction to Adaptive Boosting\n",
    "http://www.inf.fu-berlin.de/inst/ag-ki/rojas_home/documents/tutorials/adaboost4.pdf"
   ]
  },
  {
   "cell_type": "markdown",
   "metadata": {},
   "source": [
    "__Ada Boost Algorithm:__ Ada boost is a three step algorithm that generates a robust and generalizable committee of classifiers from a given set of classifiers. The algorithm executes as follows,\n",
    "\n",
    "Initialize all weights w_i = 1 \n",
    "\n",
    "For the number of classifiers we want, M, we compute i = 0...M iterations:\n",
    "1. Select classifier, k_m, from the set of classifiers, that minimizes the weighted sum error: w_e = sum w_i^(m)\n",
    "         \n",
    "2. Set the weight α_m for the chosen weak classifier to α_m = 1/2 * ln((1-e_m)/e_m) where em = W_e/W , this is the derivative of the error function.\n",
    "        - Error: w_n * e-α_m + w_e * e^α_m\n",
    "        - dError/dα_m = 1/2 * ln(1-e_m/e_m)\n",
    "\n",
    "3. Update the weight of the data points for the next iteration. If k_m(x_i) is \n",
    "       - Miss: w_i^(m+1) = w_i^(m) * e^α_m = w_i^(m) * sqrt((1-e_m)/e_m)\n",
    "       - Hit: w_i^(m+1) = w_i^(m) * e^-α_m = w_i^(m) * sqrt(e_m/(1-e_m))\n",
    "       "
   ]
  },
  {
   "cell_type": "code",
   "execution_count": 47,
   "metadata": {
    "collapsed": true
   },
   "outputs": [],
   "source": [
    "import math\n",
    "import random\n",
    "import numpy as np\n",
    "import matplotlib.pyplot as plt\n",
    "\n",
    "from sklearn.ensemble import AdaBoostClassifier\n",
    "from sklearn.tree import DecisionTreeClassifier\n",
    "from sklearn.datasets import make_gaussian_quantiles"
   ]
  },
  {
   "cell_type": "markdown",
   "metadata": {},
   "source": [
    "### Construct Datasets: Circle & Square Positive & Negative Classes"
   ]
  },
  {
   "cell_type": "code",
   "execution_count": 38,
   "metadata": {
    "collapsed": true
   },
   "outputs": [],
   "source": [
    "X, y = make_gaussian_quantiles(cov=2., n_samples=300, n_features=2,\n",
    "                               n_classes=2, random_state=1)"
   ]
  },
  {
   "cell_type": "code",
   "execution_count": 39,
   "metadata": {},
   "outputs": [
    {
     "data": {
      "text/plain": [
       "array([[ -2.67496068e-03,  -1.97511955e+00],\n",
       "       [  2.69995268e-01,   2.97020930e+00],\n",
       "       [ -1.73793024e-01,  -1.32337783e+00],\n",
       "       [ -8.50164101e-01,   7.86406700e-01],\n",
       "       [ -7.71841230e-01,  -2.81199202e-01]])"
      ]
     },
     "execution_count": 39,
     "metadata": {},
     "output_type": "execute_result"
    }
   ],
   "source": [
    "X[0:5,0:2]"
   ]
  },
  {
   "cell_type": "code",
   "execution_count": 40,
   "metadata": {},
   "outputs": [
    {
     "data": {
      "text/plain": [
       "array([1, 1, 0, 0, 0])"
      ]
     },
     "execution_count": 40,
     "metadata": {},
     "output_type": "execute_result"
    }
   ],
   "source": [
    "y[0:5]"
   ]
  },
  {
   "cell_type": "code",
   "execution_count": 52,
   "metadata": {
    "collapsed": true
   },
   "outputs": [],
   "source": [
    "x_min, x_max = X[:, 0].min() - 1, X[:, 0].max() + 1\n",
    "y_min, y_max = X[:, 1].min() - 1, X[:, 1].max() + 1"
   ]
  },
  {
   "cell_type": "code",
   "execution_count": 42,
   "metadata": {},
   "outputs": [
    {
     "data": {
      "image/png": "[encoded data removed]",
      "text/plain": [
       "<matplotlib.figure.Figure at 0x7f258b5ad250>"
      ]
     },
     "metadata": {},
     "output_type": "display_data"
    }
   ],
   "source": [
    "# Plot the training points\n",
    "plt.scatter(X[:, 0], X[:, 1], marker='o', c=y, s=25, edgecolor='k')\n",
    "plt.xlim(x_min, x_max)\n",
    "plt.ylim(y_min, y_max)\n",
    "plt.xlabel('x')\n",
    "plt.ylabel('y')\n",
    "plt.title('Binary Classification')\n",
    "plt.show()"
   ]
  },
  {
   "cell_type": "markdown",
   "metadata": {},
   "source": [
    "### Boosting"
   ]
  },
  {
   "cell_type": "code",
   "execution_count": null,
   "metadata": {
    "collapsed": true
   },
   "outputs": [],
   "source": [
    "#rounds "
   ]
  },
  {
   "cell_type": "code",
   "execution_count": null,
   "metadata": {
    "collapsed": true
   },
   "outputs": [],
   "source": [
    "#weakLearner"
   ]
  },
  {
   "cell_type": "code",
   "execution_count": null,
   "metadata": {
    "collapsed": true
   },
   "outputs": [],
   "source": []
  },
  {
   "cell_type": "code",
   "execution_count": null,
   "metadata": {
    "collapsed": true
   },
   "outputs": [],
   "source": [
    "# take the sign of the hypothesis\n",
    "def sign(x):\n",
    "    return 1 if x >= 0 else -1"
   ]
  },
  {
   "cell_type": "code",
   "execution_count": null,
   "metadata": {
    "collapsed": true
   },
   "outputs": [],
   "source": [
    "# normalize a distribution\n",
    "def normalize(weights):\n",
    "    norm = sum(weights)\n",
    "    return tuple(m / norm for m in weights)"
   ]
  },
  {
   "cell_type": "code",
   "execution_count": 45,
   "metadata": {},
   "outputs": [],
   "source": [
    "# compute the weighted error of a given hypothesis on a distribution\n",
    "def computeError(h, examples, weights=None):\n",
    "    if weights is None:\n",
    "        weights = [1.] * len(examples)\n",
    "        \n",
    "    hypothesis = [h(x)*y for (x,y) in examples] # +1 if correct, else -1\n",
    "    return hypothesis, sum(w for (z,w) in zip(hypothesis, weights) if z < 0)"
   ]
  },
  {
   "cell_type": "code",
   "execution_count": null,
   "metadata": {
    "collapsed": true
   },
   "outputs": [],
   "source": [
    "def boost(examples, weakLearner, rounds):\n",
    "    distr = normalize([1.] * len(examples))\n",
    "    hypotheses = [None] * rounds\n",
    "    alpha = [0] * rounds\n",
    "    \n",
    "    for t in range(rounds):\n",
    "        # 1 choose classifier\n",
    "        def drawExample():\n",
    "            return examples[draw(distr)]\n",
    "        \n",
    "        hypotheses[t] = weakLearner(drawExample)\n",
    "        hypothesis, error = computeError(hypotheses[t], examples, distr)\n",
    "        \n",
    "        alpha[t] = 0.5 * math.log((1 - error) / (.0001 + error))\n",
    "        distr = normalize([d * math.exp(-alpha[t] * h)\n",
    "                           for (d,h) in zip(distr, hypothesis)])\n",
    "        \n",
    "        print(\"Round %d, error %.3f\" % (t, error))\n",
    "        \n",
    "    def finalHypothesis(x):\n",
    "        return sign(sum(a * h(x) for (a,h) in zip(alpha, hypotheses)))\n",
    " \n",
    "   return finalHypothesis"
   ]
  },
  {
   "cell_type": "code",
   "execution_count": null,
   "metadata": {
    "collapsed": true
   },
   "outputs": [],
   "source": []
  },
  {
   "cell_type": "code",
   "execution_count": null,
   "metadata": {
    "collapsed": true
   },
   "outputs": [],
   "source": []
  },
  {
   "cell_type": "code",
   "execution_count": null,
   "metadata": {
    "collapsed": true
   },
   "outputs": [],
   "source": []
  }
 ],
 "metadata": {
  "kernelspec": {
   "display_name": "Python 2",
   "language": "python",
   "name": "python2"
  },
  "language_info": {
   "codemirror_mode": {
    "name": "ipython",
    "version": 2
   },
   "file_extension": ".py",
   "mimetype": "text/x-python",
   "name": "python",
   "nbconvert_exporter": "python",
   "pygments_lexer": "ipython2",
   "version": "2.7.14"
  }
 },
 "nbformat": 4,
 "nbformat_minor": 2
}
