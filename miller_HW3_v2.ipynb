{
 "cells": [
  {
   "cell_type": "markdown",
   "metadata": {},
   "source": [
    "## HW3: Classify the Digits Data Set Using Principal Component Analysis"
   ]
  },
  {
   "cell_type": "markdown",
   "metadata": {},
   "source": [
    "Blanca Miller\n",
    "<br>\n",
    "STAT 760 \n",
    "<br>\n",
    "02/15/2018\n",
    "\n",
    "__Objective:__ Using the MNIST data set, reduce the dimensionality of the training data using eigenvalues and classify the test data according to the chosen features. This approach is called principal component analysis (pca). Decomposing a multivariate data set using a set of orthogonal components (eigenvalues) allows the maximum information about the data to be held, while simplifying & generalizing the model for test data. After reducing the dimensionality of the data set, the Mahalanobis distance is used to classify the testing data set. The Mahalanobis Distance provides a means of computing the corresponding probability for each data point and every class in the set.   "
   ]
  },
  {
   "cell_type": "markdown",
   "metadata": {},
   "source": [
    "## STEPS\n",
    "1. Import librabries\n",
    "2. Import data sets\n",
    "3. Standardize data\n",
    "4. Run PCA to choose max components and reduce the data's dimensionality\n",
    "5. Compute mean and standard deviation for each class\n",
    "6. Plot the gaussian distribution for each class\n",
    "7. Use Mahalanobis' Distance to compute the probability of test data being in each class"
   ]
  },
  {
   "cell_type": "markdown",
   "metadata": {},
   "source": [
    "## Data Set\n",
    "- Each data point is an 8x8 image of a digit\n",
    "- 10 classes compose the target set \n",
    "- ~180 samples per class\n",
    "- 1797 total samples \n",
    "- Data set integers: 0-16"
   ]
  },
  {
   "cell_type": "markdown",
   "metadata": {},
   "source": [
    "## Imports"
   ]
  },
  {
   "cell_type": "code",
   "execution_count": 42,
   "metadata": {
    "collapsed": true
   },
   "outputs": [],
   "source": [
    "import sklearn\n",
    "import numpy as np\n",
    "import matplotlib.pyplot as plt\n",
    "from sklearn import decomposition, datasets, preprocessing\n",
    "from sklearn.model_selection import train_test_split\n",
    "from sklearn.naive_bayes import GaussianNB"
   ]
  },
  {
   "cell_type": "markdown",
   "metadata": {},
   "source": [
    "## Import Digits Training & Testing Data Sets"
   ]
  },
  {
   "cell_type": "code",
   "execution_count": 10,
   "metadata": {},
   "outputs": [
    {
     "name": "stdout",
     "output_type": "stream",
     "text": [
      "Digits data set: (1797, 64)\n",
      "X_train data set: (1203, 64)\n",
      "y_train target array: (1203,)\n",
      "X_test data set: (594, 64)\n",
      "y_test target array: (594,)\n"
     ]
    }
   ],
   "source": [
    "# Load the data set\n",
    "digits = datasets.load_digits()\n",
    "\n",
    "# Training data set\n",
    "X_digits = digits.data\n",
    "\n",
    "# Target data set \n",
    "y_digits = digits.target\n",
    "\n",
    "# Allocate 2/3 of the data set as training & 1/3 as testing\n",
    "X_train, X_test, y_train, y_test = train_test_split(X_digits, y_digits, test_size=0.33)\n",
    "\n",
    "# Print size of data subsets to verify splitting\n",
    "print(\"Digits data set: {}\".format(digits.data.shape))\n",
    "print(\"X_train data set: {}\".format(X_train.shape))\n",
    "print(\"y_train target array: {}\".format(y_train.shape))\n",
    "print(\"X_test data set: {}\".format(X_test.shape))\n",
    "print(\"y_test target array: {}\".format(y_test.shape))"
   ]
  },
  {
   "cell_type": "code",
   "execution_count": 14,
   "metadata": {},
   "outputs": [
    {
     "data": {
      "text/plain": [
       "<matplotlib.figure.Figure at 0x7f1304d67590>"
      ]
     },
     "metadata": {},
     "output_type": "display_data"
    },
    {
     "data": {
      "image/png": "[encoded data removed]",
      "text/plain": [
       "<matplotlib.figure.Figure at 0x7f1304d67d90>"
      ]
     },
     "metadata": {},
     "output_type": "display_data"
    }
   ],
   "source": [
    "# Print digits data point to verify data loading\n",
    "plt.gray()\n",
    "plt.matshow(digits.images[0])\n",
    "plt.show()"
   ]
  },
  {
   "cell_type": "markdown",
   "metadata": {},
   "source": [
    "## Standardize Data"
   ]
  },
  {
   "cell_type": "code",
   "execution_count": 15,
   "metadata": {},
   "outputs": [
    {
     "name": "stdout",
     "output_type": "stream",
     "text": [
      "[[ 0.         -0.33505512 -1.10399939 ...,  1.04629716 -0.25965012\n",
      "  -0.19787498]\n",
      " [ 0.         -0.33505512 -0.48203033 ...,  0.20266748 -0.01466259\n",
      "  -0.19787498]\n",
      " [ 0.         -0.33505512 -1.10399939 ...,  1.55247497  1.45526254\n",
      "  -0.19787498]\n",
      " ..., \n",
      " [ 0.         -0.33505512 -0.89667637 ..., -1.14714001 -0.50463764\n",
      "  -0.19787498]\n",
      " [ 0.         -0.33505512  0.76190779 ...,  1.2150231   0.72029997\n",
      "  -0.19787498]\n",
      " [ 0.          1.70581225  0.76190779 ...,  0.20266748 -0.50463764\n",
      "  -0.19787498]]\n"
     ]
    }
   ],
   "source": [
    "# Standardize trainging set to equally weight each component \n",
    "X_train = preprocessing.scale(X_train)\n",
    "print(X_train)"
   ]
  },
  {
   "cell_type": "markdown",
   "metadata": {},
   "source": [
    "## Function: Compute the Mean"
   ]
  },
  {
   "cell_type": "code",
   "execution_count": 1,
   "metadata": {},
   "outputs": [],
   "source": [
    "def mean(X_digits, y_digits, n_label):\n",
    "    counter = 0\n",
    "    for i in range(1797):\n",
    "        if y_digits == n_label:\n",
    "            # sum the values for the ith row to the average vector\n",
    "            n_avg += X_digits[i]\n",
    "            \n",
    "            # count the number of instances of the n_label value \n",
    "            counter += 1\n",
    "    \n",
    "    # divide the vector by the number of total n_label value\n",
    "    n_avg /= counter"
   ]
  },
  {
   "cell_type": "markdown",
   "metadata": {},
   "source": [
    "## Function: Compute the Standard Deviations"
   ]
  },
  {
   "cell_type": "code",
   "execution_count": null,
   "metadata": {},
   "outputs": [],
   "source": []
  },
  {
   "cell_type": "markdown",
   "metadata": {},
   "source": [
    "## Function: Evaluate the Model"
   ]
  },
  {
   "cell_type": "code",
   "execution_count": 44,
   "metadata": {
    "collapsed": true
   },
   "outputs": [],
   "source": [
    "def eval_model(k, X_train, y_train, X_test, y_test):\n",
    "    \n",
    "    # Construct object representing PCA operation, executed by \"fit\" method: \n",
    "    # argument specifies the number of principal components to reduce data to\n",
    "    pca = decomposition.PCA(n_components=k)\n",
    "    \n",
    "    # Execute PCA: identifies n components \n",
    "    pca.fit(X_train)\n",
    "    \n",
    "    # Project data: n dimensional reduced representation\n",
    "    pca.trandform(X_train)\n",
    "    \n",
    "    # compute mean for each class/target & n dimensional reduction\n",
    "    means = np.mean(X_train[], axis=0)\n",
    "    \n",
    "    # compute standard deviation for each class/target & n dimensional reduction\n",
    "    stdvs = np.std(X_train[], axis=0)\n",
    "    \n",
    "    # compute predictions on test set\n",
    "    yhat = \n",
    "    \n",
    "    # compute rss for classification model on test set\n",
    "    \n",
    "    \n",
    "    \n",
    "    "
   ]
  },
  {
   "cell_type": "code",
   "execution_count": null,
   "metadata": {
    "collapsed": true
   },
   "outputs": [],
   "source": [
    "means = np.mean(X_train.columns[0:], axis=0)\n"
   ]
  },
  {
   "cell_type": "code",
   "execution_count": null,
   "metadata": {
    "collapsed": true
   },
   "outputs": [],
   "source": []
  },
  {
   "cell_type": "code",
   "execution_count": null,
   "metadata": {
    "collapsed": true
   },
   "outputs": [],
   "source": []
  },
  {
   "cell_type": "code",
   "execution_count": null,
   "metadata": {
    "collapsed": true
   },
   "outputs": [],
   "source": []
  },
  {
   "cell_type": "code",
   "execution_count": null,
   "metadata": {
    "collapsed": true
   },
   "outputs": [],
   "source": []
  }
 ],
 "metadata": {
  "kernelspec": {
   "display_name": "Python 2",
   "language": "python",
   "name": "python2"
  },
  "language_info": {
   "codemirror_mode": {
    "name": "ipython",
    "version": 2
   },
   "file_extension": ".py",
   "mimetype": "text/x-python",
   "name": "python",
   "nbconvert_exporter": "python",
   "pygments_lexer": "ipython2",
   "version": "2.7.12"
  }
 },
 "nbformat": 4,
 "nbformat_minor": 2
}
